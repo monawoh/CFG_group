{
 "cells": [
  {
   "cell_type": "code",
   "execution_count": null,
   "id": "a7f8ac24",
   "metadata": {},
   "outputs": [],
   "source": [
    "# Import packages\n",
    "import pandas as pd\n",
    "import numpy as np\n",
    "import datetime\n",
    "import random"
   ]
  },
  {
   "cell_type": "code",
   "execution_count": null,
   "id": "9f43f56a",
   "metadata": {
    "scrolled": true
   },
   "outputs": [],
   "source": [
    "# Read the CSV file\n",
    "df = pd.read_csv('/Users/kamilesudziute/Desktop/Nanodegree/Project/Occupation_Gender.csv')\n",
    "df"
   ]
  },
  {
   "cell_type": "code",
   "execution_count": null,
   "id": "c98f468b",
   "metadata": {
    "scrolled": false
   },
   "outputs": [],
   "source": [
    "# Remove all the NaN/Na\n",
    "df = df.dropna()\n",
    "\n",
    "# Reset the index\n",
    "df = df.reset_index(drop=True)\n",
    "\n",
    "# Check the DataFrame\n",
    "df.head()"
   ]
  },
  {
   "cell_type": "code",
   "execution_count": null,
   "id": "a50ee3c9",
   "metadata": {
    "scrolled": true
   },
   "outputs": [],
   "source": [
    "# Re-name the columns\n",
    "df = df.rename(columns={'annual population survey - regional - employment by occupation':\n",
    "                                  'Region','Unnamed: 1': 'Total', 'Unnamed: 2':'Conf', \n",
    "                                  'Unnamed: 3':'Information Technology and Telecommunications', \n",
    "                                  'Unnamed: 4':'Conf', 'Unnamed: 5':'Specialist Managers',\n",
    "                                  'Unnamed: 6': 'Conf', 'Unnamed: 7':'Project and Programme Managers',\n",
    "                                  'Unnamed: 8':'Conf', 'Unnamed: 9':'Business Analysts, Architects and System Designers',\n",
    "                                  'Unnamed: 10':'Conf','Unnamed: 11': 'Programmers and Software Development Professionals',\n",
    "                                  'Unnamed: 12': 'Conf',\n",
    "                                  'Unnamed: 13':'Web design and development professionals',\n",
    "                                  'Unnamed: 14':'Conf',\n",
    "                                  'Unnamed: 15':'Information Technology and Telecommunications Professionals n.e.c',\n",
    "                                  'Unnamed: 16': 'Conf'})\n",
    "\n",
    "# Check\n",
    "df.head()"
   ]
  },
  {
   "cell_type": "code",
   "execution_count": null,
   "id": "3a0ba746",
   "metadata": {},
   "outputs": [],
   "source": [
    "# Remove the unnecessary columns\n",
    "df = df.drop(['Total','Conf'], axis=1)\n",
    "df.head()"
   ]
  },
  {
   "cell_type": "code",
   "execution_count": null,
   "id": "39c02322",
   "metadata": {},
   "outputs": [],
   "source": [
    "# Drop the first row\n",
    "df = df.drop(labels=0, axis=0)\n",
    "df.head()"
   ]
  },
  {
   "cell_type": "code",
   "execution_count": null,
   "id": "b4662c17",
   "metadata": {},
   "outputs": [],
   "source": [
    "# ALL PERSONS 2016-2017\n",
    "df_all_16_17 = df.loc[1:12]\n",
    "df_all_16_17 = df_all_16_17.assign(Year='2016-2017')\n",
    "df_all_16_17.head(10)"
   ]
  },
  {
   "cell_type": "code",
   "execution_count": null,
   "id": "42191a0c",
   "metadata": {},
   "outputs": [],
   "source": [
    "# ALL PERSONS 2017-2018\n",
    "df_all_17_18 = df.loc[79:90]\n",
    "df_all_17_18 = df_all_17_18.assign(Year='2017-2018')\n",
    "df_all_17_18.head(10)"
   ]
  },
  {
   "cell_type": "code",
   "execution_count": null,
   "id": "4fcaec2d",
   "metadata": {},
   "outputs": [],
   "source": [
    "# ALL PERSONS 2018-2019\n",
    "df_all_18_19 = df.loc[157:168]\n",
    "df_all_18_19 = df_all_18_19.assign(Year='2018-2019')\n",
    "df_all_18_19.head(10)"
   ]
  },
  {
   "cell_type": "code",
   "execution_count": null,
   "id": "115ba2de",
   "metadata": {},
   "outputs": [],
   "source": [
    "# ALL PERSONS 2019-2020\n",
    "df_all_19_20 = df.loc[235:246]\n",
    "df_all_19_20 = df_all_19_20.assign(Year='2019-2020')\n",
    "df_all_19_20.head(10)"
   ]
  },
  {
   "cell_type": "code",
   "execution_count": null,
   "id": "6f23c9ec",
   "metadata": {},
   "outputs": [],
   "source": [
    "# ALL PERSONS 2020-2021\n",
    "df_all_20_21 = df.loc[313:324]\n",
    "df_all_20_21 = df_all_20_21.assign(Year='2020-2021')\n",
    "df_all_20_21.head(10)"
   ]
  },
  {
   "cell_type": "code",
   "execution_count": null,
   "id": "605815f6",
   "metadata": {
    "scrolled": false
   },
   "outputs": [],
   "source": [
    "\"\"\"\n",
    "ALL PERSONS FOR ALL YEARS\n",
    "\"\"\"\n",
    "\n",
    "# Merge all the dfs\n",
    "df_all = pd.concat([df_all_16_17, df_all_17_18, df_all_18_19, df_all_19_20, df_all_20_21], axis=0)\n",
    "\n",
    "# Re-order the columns to bring year next to region\n",
    "df_all = df_all[['Region','Year', 'Information Technology and Telecommunications','Specialist Managers',\n",
    "                          'Project and Programme Managers','Business Analysts, Architects and System Designers',\n",
    "                          'Programmers and Software Development Professionals',\n",
    "                          'Web design and development professionals',\n",
    "                          'Information Technology and Telecommunications Professionals n.e.c']]\n",
    "\n",
    "# Sort by region then year\n",
    "df_all = df_all.sort_values(['Region', 'Year'])\n",
    "\n",
    "# Reset index values to go from 1 to 60\n",
    "df_all.index = np.arange(1, len(df_all) + 1)\n",
    "\n",
    "# Replace the non-numeric character with 0 (actual value is not 0 but is less than 500 so wasn't recorded)\n",
    "df_all = df_all.replace(['~'], '0')\n",
    "\n",
    "# Check\n",
    "print('After merging:')\n",
    "df_all"
   ]
  },
  {
   "cell_type": "code",
   "execution_count": null,
   "id": "441c42f8",
   "metadata": {},
   "outputs": [],
   "source": [
    "# Write all persons to a CSV file\n",
    "df_all.to_csv('/Users/kamilesudziute/Desktop/Nanodegree/Project/Occupation_Gender_All_Persons_16_21.csv', index=False)\n",
    "\n",
    "# Read the all persons file\n",
    "df_all = pd.read_csv('/Users/kamilesudziute/Desktop/Nanodegree/Project/Occupation_Gender_All_Persons_16_21.csv')\n",
    "df_all.head(10)"
   ]
  },
  {
   "cell_type": "code",
   "execution_count": null,
   "id": "757784e1",
   "metadata": {},
   "outputs": [],
   "source": [
    "# MALES 2016-2017\n",
    "df_males_16_17 = df.loc[27:38]\n",
    "df_males_16_17 = df_males_16_17.assign(Year='2016-2017')\n",
    "df_males_16_17.head(10)"
   ]
  },
  {
   "cell_type": "code",
   "execution_count": null,
   "id": "050f4976",
   "metadata": {},
   "outputs": [],
   "source": [
    "# MALES 2017-2018\n",
    "df_males_17_18 = df.loc[105:116]\n",
    "df_males_17_18 = df_males_17_18.assign(Year='2017-2018')\n",
    "df_males_17_18.head(10)"
   ]
  },
  {
   "cell_type": "code",
   "execution_count": null,
   "id": "1b3da1bb",
   "metadata": {},
   "outputs": [],
   "source": [
    "# MALES 2018-2019\n",
    "df_males_18_19 = df.loc[183:194]\n",
    "df_males_18_19 = df_males_18_19.assign(Year='2018-2019')\n",
    "df_males_18_19.head(10)"
   ]
  },
  {
   "cell_type": "code",
   "execution_count": null,
   "id": "7198e660",
   "metadata": {},
   "outputs": [],
   "source": [
    "# MALES 2019-2020\n",
    "df_males_19_20 = df.loc[261:272]\n",
    "df_males_19_20 = df_males_19_20.assign(Year='2019-2020')\n",
    "df_males_19_20.head(10)"
   ]
  },
  {
   "cell_type": "code",
   "execution_count": null,
   "id": "b6c7261f",
   "metadata": {},
   "outputs": [],
   "source": [
    "# MALES 2020-2021\n",
    "df_males_20_21 = df.loc[339:350]\n",
    "df_males_20_21 = df_males_20_21.assign(Year='2020-2021')\n",
    "df_males_20_21.head(10)"
   ]
  },
  {
   "cell_type": "code",
   "execution_count": null,
   "id": "d6ee32b5",
   "metadata": {
    "scrolled": false
   },
   "outputs": [],
   "source": [
    "\"\"\"\n",
    "MALES FOR ALL YEARS\n",
    "\"\"\"\n",
    "\n",
    "# Merge all the dfs\n",
    "df_males = pd.concat([df_males_16_17, df_males_17_18, df_males_18_19, df_males_19_20, df_males_20_21],\n",
    "                     axis=0)\n",
    "\n",
    "# Re-order the columns to bring year next to region\n",
    "df_males = df_males[['Region','Year', 'Information Technology and Telecommunications','Specialist Managers',\n",
    "                          'Project and Programme Managers','Business Analysts, Architects and System Designers',\n",
    "                          'Programmers and Software Development Professionals',\n",
    "                          'Web design and development professionals',\n",
    "                          'Information Technology and Telecommunications Professionals n.e.c']]\n",
    "\n",
    "# Sort by region then year\n",
    "df_males = df_males.sort_values(['Region', 'Year'])\n",
    "\n",
    "# Reset index values to go from 1 to 60\n",
    "df_males.index = np.arange(1, len(df_males) + 1)\n",
    "\n",
    "# Replace the non-numeric character with 0 (actual value is not 0 but is less than 500 so wasn't recorded)\n",
    "df_males = df_males.replace(['~'], '0')\n",
    "\n",
    "# Check\n",
    "print('After merging:')\n",
    "df_males"
   ]
  },
  {
   "cell_type": "code",
   "execution_count": null,
   "id": "bc1fb78a",
   "metadata": {},
   "outputs": [],
   "source": [
    "# Write males to a CSV file\n",
    "df_males.to_csv('/Users/kamilesudziute/Desktop/Nanodegree/Project/Occupation_Gender_Males_16_21.csv', index=False)\n",
    "\n",
    "# Read the males file\n",
    "df_males = pd.read_csv('/Users/kamilesudziute/Desktop/Nanodegree/Project/Occupation_Gender_Males_16_21.csv')\n",
    "df_males.head(10)"
   ]
  },
  {
   "cell_type": "code",
   "execution_count": null,
   "id": "80e92591",
   "metadata": {},
   "outputs": [],
   "source": [
    "# FEMALES 2016-2017\n",
    "df_females_16_17 = df.loc[53:64]\n",
    "df_females_16_17 = df_females_16_17.assign(Year = '2016-2017')\n",
    "df_females_16_17.head(10)"
   ]
  },
  {
   "cell_type": "code",
   "execution_count": null,
   "id": "9d95ed97",
   "metadata": {
    "scrolled": true
   },
   "outputs": [],
   "source": [
    "# FEMALES 2017-2018\n",
    "df_females_17_18 = df.loc[131:142]\n",
    "df_females_17_18 = df_females_17_18.assign(Year = '2017-2018')\n",
    "df_females_17_18.head(10)"
   ]
  },
  {
   "cell_type": "code",
   "execution_count": null,
   "id": "2e2bdd91",
   "metadata": {
    "scrolled": true
   },
   "outputs": [],
   "source": [
    "# FEMALES 2018-2019\n",
    "df_females_18_19 = df.loc[209:220]\n",
    "df_females_18_19 = df_females_18_19.assign(Year = '2018-2019')\n",
    "df_females_18_19.head(10)"
   ]
  },
  {
   "cell_type": "code",
   "execution_count": null,
   "id": "0c542331",
   "metadata": {},
   "outputs": [],
   "source": [
    "# FEMALES 2019-2020\n",
    "df_females_19_20 = df.loc[287:298]\n",
    "df_females_19_20 = df_females_19_20.assign(Year = '2019-2020')\n",
    "df_females_19_20.head(10)"
   ]
  },
  {
   "cell_type": "code",
   "execution_count": null,
   "id": "b09d8637",
   "metadata": {},
   "outputs": [],
   "source": [
    "# FEMALES 2020-2021\n",
    "df_females_20_21 = df.loc[365:376]\n",
    "df_females_20_21 = df_females_20_21.assign(Year = '2020-2021')\n",
    "df_females_20_21.head(10)"
   ]
  },
  {
   "cell_type": "code",
   "execution_count": null,
   "id": "b5a9b1c8",
   "metadata": {
    "scrolled": true
   },
   "outputs": [],
   "source": [
    "\"\"\"\n",
    "FEMALES FOR ALL YEARS: METHOD 1\n",
    "\"\"\"\n",
    "\n",
    "# Merge all the dfs\n",
    "df_females = pd.concat([df_females_16_17, df_females_17_18, df_females_18_19, df_females_19_20, \n",
    "                       df_females_20_21], axis=0)\n",
    "\n",
    "# Re-order the columns to bring year next to region\n",
    "df_females = df_females[['Region','Year', 'Information Technology and Telecommunications','Specialist Managers',\n",
    "                          'Project and Programme Managers','Business Analysts, Architects and System Designers',\n",
    "                          'Programmers and Software Development Professionals',\n",
    "                          'Web design and development professionals',\n",
    "                          'Information Technology and Telecommunications Professionals n.e.c']]\n",
    "\n",
    "# Sort by region then year\n",
    "df_females = df_females.sort_values(['Region', 'Year'])\n",
    "\n",
    "# Reset index values to go from 1 to 60\n",
    "df_females.index = np.arange(1, len(df_females) + 1)\n",
    "\n",
    "# Replace the non-numeric character with 0 (actual value is not 0 but is less than 500 so wasn't recorded)\n",
    "df_females = df_females.replace(['~', '!'],'0')\n",
    "\n",
    "# Check\n",
    "print('After merging:')\n",
    "df_females"
   ]
  },
  {
   "cell_type": "code",
   "execution_count": null,
   "id": "b7148d45",
   "metadata": {
    "scrolled": false
   },
   "outputs": [],
   "source": [
    "\"\"\"\n",
    "FEMALES FOR ALL YEARS: METHOD 2 (OPTIMAL)\n",
    "\"\"\"\n",
    "\n",
    "# The main df has a lot of missing values for females. Therefore, it's not optimal to extract the\n",
    "# data for females from the main df as we did for all persons and males. Alternatively, we can get the data\n",
    "# for females by subtracting the number of males from all persons. For example, if there's 9000 people\n",
    "# (for a specific occupation, region and year) and 6000 of them are males, then 9000 - 6000 = 3000 are females\n",
    "\n",
    "# Create a df for females using all and males\n",
    "df_females = df_all[['Information Technology and Telecommunications','Specialist Managers',\n",
    "                    'Project and Programme Managers',\n",
    "                    'Business Analysts, Architects and System Designers',\n",
    "                    'Programmers and Software Development Professionals',\n",
    "                    'Web design and development professionals',\n",
    "                    'Information Technology and Telecommunications Professionals n.e.c']] - df_males[\n",
    "                    ['Information Technology and Telecommunications','Specialist Managers',\n",
    "                    'Project and Programme Managers',\n",
    "                    'Business Analysts, Architects and System Designers',\n",
    "                    'Programmers and Software Development Professionals',\n",
    "                    'Web design and development professionals',\n",
    "                    'Information Technology and Telecommunications Professionals n.e.c']]\n",
    "\n",
    "# Isolate region and year from males df\n",
    "region_year = df_males[['Region', 'Year']]\n",
    "\n",
    "# Add the region and year columns to females df\n",
    "df_females = pd.concat([region_year, df_females], axis=1)\n",
    "\n",
    "# Check\n",
    "print('After subtracting:')\n",
    "df_females"
   ]
  },
  {
   "cell_type": "code",
   "execution_count": null,
   "id": "0d9d5b74",
   "metadata": {},
   "outputs": [],
   "source": [
    "# Write females to a CSV file\n",
    "df_females.to_csv('/Users/kamilesudziute/Desktop/Nanodegree/Project/Occupation_Gender_Females_16_21.csv', index=False)\n",
    "\n",
    "# Read the females file\n",
    "df_females = pd.read_csv('/Users/kamilesudziute/Desktop/Nanodegree/Project/Occupation_Gender_Females_16_21.csv')\n",
    "df_females.head(10)"
   ]
  },
  {
   "cell_type": "code",
   "execution_count": null,
   "id": "c43f5528",
   "metadata": {},
   "outputs": [],
   "source": []
  }
 ],
 "metadata": {
  "kernelspec": {
   "display_name": "Python 3 (ipykernel)",
   "language": "python",
   "name": "python3"
  },
  "language_info": {
   "codemirror_mode": {
    "name": "ipython",
    "version": 3
   },
   "file_extension": ".py",
   "mimetype": "text/x-python",
   "name": "python",
   "nbconvert_exporter": "python",
   "pygments_lexer": "ipython3",
   "version": "3.9.1"
  }
 },
 "nbformat": 4,
 "nbformat_minor": 5
}
