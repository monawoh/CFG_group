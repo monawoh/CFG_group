{
 "cells": [
  {
   "cell_type": "code",
   "execution_count": null,
   "id": "86665d89",
   "metadata": {},
   "outputs": [],
   "source": [
    "pip install pandas"
   ]
  },
  {
   "cell_type": "code",
   "execution_count": null,
   "id": "57da89ae",
   "metadata": {},
   "outputs": [],
   "source": [
    "pip install requests"
   ]
  },
  {
   "cell_type": "code",
   "execution_count": null,
   "id": "33155dce",
   "metadata": {},
   "outputs": [],
   "source": [
    "import pandas as pd\n",
    "import requests\n",
    "import json"
   ]
  },
  {
   "cell_type": "markdown",
   "id": "b67d4951",
   "metadata": {},
   "source": [
    "### This section uses the Nomis API from the ONS to extract data on the total count of people in Technology roles by sex and region in the UK"
   ]
  },
  {
   "cell_type": "markdown",
   "id": "c1af61f0",
   "metadata": {},
   "source": [
    "#### England 2021"
   ]
  },
  {
   "cell_type": "code",
   "execution_count": null,
   "id": "754e0ab0",
   "metadata": {},
   "outputs": [],
   "source": [
    "#make a call to the API and parse to json file\n",
    "link = \"https://www.nomisweb.co.uk/api/v01/dataset/NM_210_1.data.json?geography=2092957699&date=latest&jtype=0,1&ftpt=0,1&etype=0,1&c_sex=0...2&c_occpuk11h_0=0,20002&measure=1&measures=20100,20701\"\n",
    "r = requests.get(link)\n",
    "data = r.json()\n",
    "\n",
    "#create df from json file\n",
    "df_2021_Eng = pd.DataFrame(data['obs'])\n",
    "df_2021_Eng"
   ]
  },
  {
   "cell_type": "code",
   "execution_count": null,
   "id": "7435116d",
   "metadata": {},
   "outputs": [],
   "source": [
    "data['obs']"
   ]
  },
  {
   "cell_type": "code",
   "execution_count": null,
   "id": "6af860d8",
   "metadata": {},
   "outputs": [],
   "source": [
    "type(data['obs'][0])"
   ]
  },
  {
   "cell_type": "code",
   "execution_count": null,
   "id": "c3b03eb4",
   "metadata": {
    "scrolled": false
   },
   "outputs": [],
   "source": [
    "#get specific data from within the list of dictionaries and store to variable Sex_Eng_Count_21\n",
    "from operator import itemgetter\n",
    "Sex_Eng_Count_21 = list(map(itemgetter('obs_value'), data['obs']))\n",
    "print(Sex_Eng_Count_21)"
   ]
  },
  {
   "cell_type": "code",
   "execution_count": null,
   "id": "4a0754ff",
   "metadata": {},
   "outputs": [],
   "source": [
    "#create df from exatrcted values\n",
    "df_sex_21_Eng = pd.DataFrame(Sex_Eng_Count_21)\n",
    "df_sex_21_Eng"
   ]
  },
  {
   "cell_type": "code",
   "execution_count": null,
   "id": "ac8fe21c",
   "metadata": {},
   "outputs": [],
   "source": [
    "#export this data to a csv file \n",
    "df_sex_21_Eng.to_csv('Sex_England_21.csv')"
   ]
  },
  {
   "cell_type": "code",
   "execution_count": null,
   "id": "0d0c21a7",
   "metadata": {},
   "outputs": [],
   "source": [
    "#extract values for count of M and F in England for 2021 and assign to variables\n",
    "Males_England_21 = df_sex_21_Eng.at[3, 'value']\n",
    "Females_England_21 = df_sex_21_Eng.at[5, 'value']"
   ]
  },
  {
   "cell_type": "markdown",
   "id": "7988e214",
   "metadata": {},
   "source": [
    "#### England 2020"
   ]
  },
  {
   "cell_type": "code",
   "execution_count": null,
   "id": "c3c3fcf6",
   "metadata": {},
   "outputs": [],
   "source": [
    "#make a call to the API and parse to json file\n",
    "link = \"https://www.nomisweb.co.uk/api/v01/dataset/NM_210_1.data.json?geography=2092957699&date=latestMINUS4&jtype=0,1&ftpt=0,1&etype=0,1&c_sex=0...2&c_occpuk11h_0=0,20002&measure=1&measures=20100,20701\"\n",
    "r = requests.get(link)\n",
    "data = r.json()\n",
    "\n",
    "#create df from json file\n",
    "df_2020_Eng = pd.DataFrame(data['obs'])\n"
   ]
  },
  {
   "cell_type": "code",
   "execution_count": null,
   "id": "e688e1c7",
   "metadata": {},
   "outputs": [],
   "source": [
    "#get specific data from within the list of dictionaries and store to variable Sex_Eng_Count_20\n",
    "Sex_Eng_Count_20 = list(map(itemgetter('obs_value'), data['obs']))\n",
    "print(Sex_Eng_Count_20)"
   ]
  },
  {
   "cell_type": "code",
   "execution_count": null,
   "id": "4b6e0d71",
   "metadata": {},
   "outputs": [],
   "source": [
    "#create df from exatrcted values\n",
    "df_sex_20_Eng = pd.DataFrame(Sex_Eng_Count_20)\n",
    "df_sex_20_Eng"
   ]
  },
  {
   "cell_type": "code",
   "execution_count": null,
   "id": "13264a40",
   "metadata": {},
   "outputs": [],
   "source": [
    "#export this data to a csv file \n",
    "df_sex_20_Eng.to_csv('Sex_England_20.csv')"
   ]
  },
  {
   "cell_type": "code",
   "execution_count": null,
   "id": "760b7ffd",
   "metadata": {},
   "outputs": [],
   "source": [
    "#extract values for count of M and F in England for 2021 and assign to variables\n",
    "Males_England_20 = df_sex_20_Eng.at[3, 'value']\n",
    "Females_England_20 = df_sex_20_Eng.at[5, 'value']"
   ]
  },
  {
   "cell_type": "markdown",
   "id": "ee307ad2",
   "metadata": {},
   "source": [
    "#### England 2019"
   ]
  },
  {
   "cell_type": "code",
   "execution_count": null,
   "id": "cbe88f22",
   "metadata": {},
   "outputs": [],
   "source": [
    "#make a call to the API and parse to json file\n",
    "link = \"https://www.nomisweb.co.uk/api/v01/dataset/NM_210_1.data.json?geography=2092957699&date=latestMINUS8&jtype=0,1&ftpt=0,1&etype=0,1&c_sex=0...2&c_occpuk11h_0=0,20002&measure=1&measures=20100,20701\"\n",
    "r = requests.get(link)\n",
    "data = r.json()\n",
    "\n",
    "#create df from json file\n",
    "df_2019_Eng = pd.DataFrame(data['obs'])\n",
    "\n",
    "#get specific data from within the list of dictionaries and store to variable Sex_Eng_Count_19\n",
    "Sex_Eng_Count_19 = list(map(itemgetter('obs_value'), data['obs']))\n",
    "print(Sex_Eng_Count_19)"
   ]
  },
  {
   "cell_type": "code",
   "execution_count": null,
   "id": "204dce78",
   "metadata": {},
   "outputs": [],
   "source": [
    "#create df from exatrcted values\n",
    "df_sex_19_Eng = pd.DataFrame(Sex_Eng_Count_19)\n",
    "df_sex_19_Eng"
   ]
  },
  {
   "cell_type": "code",
   "execution_count": null,
   "id": "02ab3f1c",
   "metadata": {},
   "outputs": [],
   "source": [
    "#export this data to a csv file \n",
    "df_sex_19_Eng.to_csv('Sex_England_19.csv')"
   ]
  },
  {
   "cell_type": "code",
   "execution_count": null,
   "id": "472bb811",
   "metadata": {},
   "outputs": [],
   "source": [
    "#extract values for count of M and F in England for 2019 and assign to variables\n",
    "Males_England_19 = df_sex_19_Eng.at[3, 'value']\n",
    "Females_England_19 = df_sex_19_Eng.at[5, 'value']\n",
    "#I ran this check due to the duplicate value displaying for 2019 and 2018\n",
    "Females_England_19"
   ]
  },
  {
   "cell_type": "markdown",
   "id": "deb00f92",
   "metadata": {},
   "source": [
    "#### England 2018"
   ]
  },
  {
   "cell_type": "code",
   "execution_count": null,
   "id": "2fee617b",
   "metadata": {},
   "outputs": [],
   "source": [
    "#make a call to the API and parse to json file\n",
    "link = \"https://www.nomisweb.co.uk/api/v01/dataset/NM_210_1.data.json?geography=2092957699&date=latestMINUS12&jtype=0,1&ftpt=0,1&etype=0,1&c_sex=0...2&c_occpuk11h_0=0,20002&measure=1&measures=20100,20701\"\n",
    "r = requests.get(link)\n",
    "data = r.json()\n",
    "\n",
    "#create df from json file\n",
    "df_2018_Eng = pd.DataFrame(data['obs'])\n",
    "\n",
    "#get specific data from within the list of dictionaries and store to variable Sex_Eng_Count_18\n",
    "Sex_Eng_Count_18 = list(map(itemgetter('obs_value'), data['obs']))\n",
    "print(Sex_Eng_Count_18)"
   ]
  },
  {
   "cell_type": "code",
   "execution_count": null,
   "id": "7db6d729",
   "metadata": {},
   "outputs": [],
   "source": [
    "#create df from exatrcted values\n",
    "df_sex_18_Eng = pd.DataFrame(Sex_Eng_Count_18)\n",
    "df_sex_18_Eng"
   ]
  },
  {
   "cell_type": "code",
   "execution_count": null,
   "id": "67d7a574",
   "metadata": {},
   "outputs": [],
   "source": [
    "#export this data to a csv file \n",
    "df_sex_18_Eng.to_csv('Sex_England_18.csv')"
   ]
  },
  {
   "cell_type": "code",
   "execution_count": null,
   "id": "ffd16032",
   "metadata": {},
   "outputs": [],
   "source": [
    "#extract values for count of M and F in England for 2018 and assign to variables\n",
    "Males_England_18 = df_sex_18_Eng.at[3, 'value']\n",
    "Females_England_18 = df_sex_18_Eng.at[5, 'value']\n",
    "#I ran this check due to the duplicate value displaying for 2019 and 2018\n",
    "Females_England_18"
   ]
  },
  {
   "cell_type": "markdown",
   "id": "2ca6d0da",
   "metadata": {},
   "source": [
    "#### England 2017"
   ]
  },
  {
   "cell_type": "code",
   "execution_count": null,
   "id": "924f884a",
   "metadata": {},
   "outputs": [],
   "source": [
    "#make a call to the API and parse to json file\n",
    "link = \"https://www.nomisweb.co.uk/api/v01/dataset/NM_210_1.data.json?geography=2092957699&date=latestMINUS16&jtype=0,1&ftpt=0,1&etype=0,1&c_sex=0...2&c_occpuk11h_0=0,20002&measure=1&measures=20100,20701\"\n",
    "r = requests.get(link)\n",
    "data = r.json()\n",
    "\n",
    "#create df from json file\n",
    "df_2017_Eng = pd.DataFrame(data['obs'])\n",
    "\n",
    "#get specific data from within the list of dictionaries and store to variable Sex_Eng_Count_20\n",
    "Sex_Eng_Count_17 = list(map(itemgetter('obs_value'), data['obs']))\n",
    "print(Sex_Eng_Count_17)\n"
   ]
  },
  {
   "cell_type": "code",
   "execution_count": null,
   "id": "8d8e280c",
   "metadata": {},
   "outputs": [],
   "source": [
    "#create df from exatrcted values\n",
    "df_sex_17_Eng = pd.DataFrame(Sex_Eng_Count_17)\n",
    "df_sex_17_Eng"
   ]
  },
  {
   "cell_type": "code",
   "execution_count": null,
   "id": "482af339",
   "metadata": {},
   "outputs": [],
   "source": [
    "#export this data to a csv file \n",
    "df_sex_17_Eng.to_csv('Sex_England_17.csv')"
   ]
  },
  {
   "cell_type": "code",
   "execution_count": null,
   "id": "f24c1066",
   "metadata": {},
   "outputs": [],
   "source": [
    "#extract values for count of M and F in England for 2017 and assign to variables\n",
    "Males_England_17 = df_sex_17_Eng.at[3, 'value']\n",
    "Females_England_17 = df_sex_17_Eng.at[5, 'value']\n",
    "Males_England_17"
   ]
  },
  {
   "cell_type": "markdown",
   "id": "66e8f53e",
   "metadata": {},
   "source": [
    "#### England 2016"
   ]
  },
  {
   "cell_type": "code",
   "execution_count": null,
   "id": "b07020c0",
   "metadata": {},
   "outputs": [],
   "source": [
    "#make a call to the API and parse to json file\n",
    "link = \"https://www.nomisweb.co.uk/api/v01/dataset/NM_210_1.data.json?geography=2092957699&date=latestMINUS20&jtype=0,1&ftpt=0,1&etype=0,1&c_sex=0...2&c_occpuk11h_0=0,20002&measure=1&measures=20100,20701\"\n",
    "r = requests.get(link)\n",
    "data = r.json()\n",
    "\n",
    "#create df from json file\n",
    "df_2016_Eng = pd.DataFrame(data['obs'])\n",
    "\n",
    "#get specific data from within the list of dictionaries and store to variable Sex_Eng_Count_16\n",
    "Sex_Eng_Count_16 = list(map(itemgetter('obs_value'), data['obs']))\n",
    "print(Sex_Eng_Count_16)\n"
   ]
  },
  {
   "cell_type": "code",
   "execution_count": null,
   "id": "b5f83f19",
   "metadata": {},
   "outputs": [],
   "source": [
    "#create df from exatrcted values\n",
    "df_sex_16_Eng = pd.DataFrame(Sex_Eng_Count_16)\n",
    "df_sex_16_Eng"
   ]
  },
  {
   "cell_type": "code",
   "execution_count": null,
   "id": "b404f7b8",
   "metadata": {},
   "outputs": [],
   "source": [
    "#export this data to a csv file \n",
    "df_sex_16_Eng.to_csv('Sex_England_16.csv')"
   ]
  },
  {
   "cell_type": "code",
   "execution_count": null,
   "id": "e702bfa5",
   "metadata": {},
   "outputs": [],
   "source": [
    "#extract values for count of M and F in England for 2016 and assign to variables\n",
    "Males_England_16 = df_sex_16_Eng.at[3, 'value']\n",
    "Females_England_16 = df_sex_16_Eng.at[5, 'value']\n"
   ]
  },
  {
   "cell_type": "markdown",
   "id": "4da610b8",
   "metadata": {},
   "source": [
    "#### Wales 2021"
   ]
  },
  {
   "cell_type": "code",
   "execution_count": null,
   "id": "ea07fb63",
   "metadata": {},
   "outputs": [],
   "source": [
    "#make a call to the API and parse to json file\n",
    "link = \"https://www.nomisweb.co.uk/api/v01/dataset/NM_210_1.data.json?geography=2092957700&date=latest&jtype=0,1&ftpt=0,1&etype=0,1&c_sex=0...2&c_occpuk11h_0=0,20002&measure=1&measures=20100,20701\"\n",
    "r = requests.get(link)\n",
    "data = r.json()\n",
    "\n",
    "#create df from json file\n",
    "df_2021_Wal = pd.DataFrame(data['obs'])\n",
    "\n",
    "#get specific data from within the list of dictionaries and store to variable Sex_Wal_Count_21\n",
    "Sex_Wal_Count_21 = list(map(itemgetter('obs_value'), data['obs']))\n",
    "print(Sex_Wal_Count_21)\n"
   ]
  },
  {
   "cell_type": "code",
   "execution_count": null,
   "id": "2a0e3c77",
   "metadata": {},
   "outputs": [],
   "source": [
    "#create df from exatrcted values\n",
    "df_sex_21_Wal = pd.DataFrame(Sex_Wal_Count_21)\n",
    "df_sex_21_Wal"
   ]
  },
  {
   "cell_type": "code",
   "execution_count": null,
   "id": "fa813c02",
   "metadata": {},
   "outputs": [],
   "source": [
    "#export this data to a csv file \n",
    "df_sex_21_Wal.to_csv('Sex_Wales_21.csv')"
   ]
  },
  {
   "cell_type": "code",
   "execution_count": null,
   "id": "f43a6cef",
   "metadata": {},
   "outputs": [],
   "source": [
    "#extract values for count of M and F in Wales for 2021 and assign to variables\n",
    "Males_Wales_21 = df_sex_21_Wal.at[3, 'value']\n",
    "Females_Wales_21 = df_sex_21_Wal.at[5, 'value']"
   ]
  },
  {
   "cell_type": "markdown",
   "id": "1203475b",
   "metadata": {},
   "source": [
    "#### Wales 2020"
   ]
  },
  {
   "cell_type": "code",
   "execution_count": null,
   "id": "093db2af",
   "metadata": {},
   "outputs": [],
   "source": [
    "#make a call to the API and parse to json file\n",
    "link = \"https://www.nomisweb.co.uk/api/v01/dataset/NM_210_1.data.json?geography=2092957700&date=latestMINUS4&jtype=0,1&ftpt=0,1&etype=0,1&c_sex=0...2&c_occpuk11h_0=0,20002&measure=1&measures=20100,20701\"\n",
    "r = requests.get(link)\n",
    "data = r.json()\n",
    "\n",
    "#create df from json file\n",
    "df_2020_Wal = pd.DataFrame(data['obs'])\n",
    "\n",
    "#get specific data from within the list of dictionaries and store to variable Sex_Wal_Count_20\n",
    "Sex_Wal_Count_20 = list(map(itemgetter('obs_value'), data['obs']))\n",
    "print(Sex_Wal_Count_20)\n"
   ]
  },
  {
   "cell_type": "code",
   "execution_count": null,
   "id": "292a591b",
   "metadata": {},
   "outputs": [],
   "source": [
    "#create df from exatrcted values\n",
    "df_sex_20_Wal = pd.DataFrame(Sex_Wal_Count_20)\n",
    "df_sex_20_Wal"
   ]
  },
  {
   "cell_type": "code",
   "execution_count": null,
   "id": "6ddd04cb",
   "metadata": {},
   "outputs": [],
   "source": [
    "#export this data to a csv file \n",
    "df_sex_20_Wal.to_csv('Sex_Wales_20.csv')"
   ]
  },
  {
   "cell_type": "code",
   "execution_count": null,
   "id": "baa6d644",
   "metadata": {},
   "outputs": [],
   "source": [
    "#extract values for count of M and F in Wales for 2020 and assign to variables\n",
    "Males_Wales_20 = df_sex_20_Wal.at[3, 'value']\n",
    "Females_Wales_20 = df_sex_20_Wal.at[5, 'value']"
   ]
  },
  {
   "cell_type": "markdown",
   "id": "a4a66d8b",
   "metadata": {},
   "source": [
    "#### Wales 2019"
   ]
  },
  {
   "cell_type": "code",
   "execution_count": null,
   "id": "b2656cd4",
   "metadata": {},
   "outputs": [],
   "source": [
    "#make a call to the API and parse to json file\n",
    "link = \"https://www.nomisweb.co.uk/api/v01/dataset/NM_210_1.data.json?geography=2092957700&date=latestMINUS8&jtype=0,1&ftpt=0,1&etype=0,1&c_sex=0...2&c_occpuk11h_0=0,20002&measure=1&measures=20100,20701\"\n",
    "r = requests.get(link)\n",
    "data = r.json()\n",
    "\n",
    "#create df from json file\n",
    "df_2019_Wal = pd.DataFrame(data['obs'])\n",
    "\n",
    "#get specific data from within the list of dictionaries and store to variable Sex_Wal_Count_19\n",
    "Sex_Wal_Count_19 = list(map(itemgetter('obs_value'), data['obs']))\n",
    "print(Sex_Wal_Count_19)\n"
   ]
  },
  {
   "cell_type": "code",
   "execution_count": null,
   "id": "f0ccd650",
   "metadata": {},
   "outputs": [],
   "source": [
    "#create df from exatrcted values\n",
    "df_sex_19_Wal = pd.DataFrame(Sex_Wal_Count_19)\n",
    "df_sex_19_Wal"
   ]
  },
  {
   "cell_type": "code",
   "execution_count": null,
   "id": "50f0b043",
   "metadata": {},
   "outputs": [],
   "source": [
    "#export this data to a csv file \n",
    "df_sex_19_Wal.to_csv('Sex_Wales_19.csv')"
   ]
  },
  {
   "cell_type": "code",
   "execution_count": null,
   "id": "8c212e8a",
   "metadata": {},
   "outputs": [],
   "source": [
    "#extract values for count of M and F in Wales for 2019 and assign to variables\n",
    "Males_Wales_19 = df_sex_19_Wal.at[3, 'value']\n",
    "Females_Wales_19 = df_sex_19_Wal.at[5, 'value']"
   ]
  },
  {
   "cell_type": "markdown",
   "id": "d9af4ebe",
   "metadata": {},
   "source": [
    "#### Wales 2018"
   ]
  },
  {
   "cell_type": "code",
   "execution_count": null,
   "id": "e8d76c86",
   "metadata": {},
   "outputs": [],
   "source": [
    "#make a call to the API and parse to json file\n",
    "link = \"https://www.nomisweb.co.uk/api/v01/dataset/NM_210_1.data.json?geography=2092957700&date=latestMINUS12&jtype=0,1&ftpt=0,1&etype=0,1&c_sex=0...2&c_occpuk11h_0=0,20002&measure=1&measures=20100,20701\"\n",
    "r = requests.get(link)\n",
    "data = r.json()\n",
    "\n",
    "#create df from json file\n",
    "df_2018_Wal = pd.DataFrame(data['obs'])\n",
    "\n",
    "#get specific data from within the list of dictionaries and store to variable Sex_Wal_Count_18\n",
    "Sex_Wal_Count_18 = list(map(itemgetter('obs_value'), data['obs']))\n",
    "print(Sex_Wal_Count_18)\n"
   ]
  },
  {
   "cell_type": "code",
   "execution_count": null,
   "id": "b32eb81d",
   "metadata": {},
   "outputs": [],
   "source": [
    "#create df from exatrcted values\n",
    "df_sex_18_Wal = pd.DataFrame(Sex_Wal_Count_18)\n",
    "df_sex_18_Wal"
   ]
  },
  {
   "cell_type": "code",
   "execution_count": null,
   "id": "556b9691",
   "metadata": {},
   "outputs": [],
   "source": [
    "#export this data to a csv file \n",
    "df_sex_18_Wal.to_csv('Sex_Wales_18.csv')"
   ]
  },
  {
   "cell_type": "code",
   "execution_count": null,
   "id": "327caa2e",
   "metadata": {},
   "outputs": [],
   "source": [
    "#extract values for count of M and F in Wales for 2018 and assign to variables\n",
    "Males_Wales_18 = df_sex_18_Wal.at[3, 'value']\n",
    "Females_Wales_18 = df_sex_18_Wal.at[5, 'value']"
   ]
  },
  {
   "cell_type": "markdown",
   "id": "6e5b826e",
   "metadata": {},
   "source": [
    "#### Wales 2017"
   ]
  },
  {
   "cell_type": "code",
   "execution_count": null,
   "id": "132c65f6",
   "metadata": {},
   "outputs": [],
   "source": [
    "#make a call to the API and parse to json file\n",
    "link = \"https://www.nomisweb.co.uk/api/v01/dataset/NM_210_1.data.json?geography=2092957700&date=latestMINUS16&jtype=0,1&ftpt=0,1&etype=0,1&c_sex=0...2&c_occpuk11h_0=0,20002&measure=1&measures=20100,20701\"\n",
    "r = requests.get(link)\n",
    "data = r.json()\n",
    "\n",
    "#create df from json file\n",
    "df_2017_Wal = pd.DataFrame(data['obs'])\n",
    "\n",
    "#get specific data from within the list of dictionaries and store to variable Sex_Wal_Count_17\n",
    "Sex_Wal_Count_17 = list(map(itemgetter('obs_value'), data['obs']))\n",
    "print(Sex_Wal_Count_17)\n"
   ]
  },
  {
   "cell_type": "code",
   "execution_count": null,
   "id": "f6183ea2",
   "metadata": {},
   "outputs": [],
   "source": [
    "#create df from exatrcted values\n",
    "df_sex_17_Wal = pd.DataFrame(Sex_Wal_Count_17)\n",
    "df_sex_17_Wal"
   ]
  },
  {
   "cell_type": "code",
   "execution_count": null,
   "id": "3a3158c4",
   "metadata": {},
   "outputs": [],
   "source": [
    "#export this data to a csv file \n",
    "df_sex_17_Wal.to_csv('Sex_Wales_17.csv')"
   ]
  },
  {
   "cell_type": "code",
   "execution_count": null,
   "id": "34e32b44",
   "metadata": {},
   "outputs": [],
   "source": [
    "#extract values for count of M and F in Wales for 2017 and assign to variables\n",
    "Males_Wales_17 = df_sex_17_Wal.at[3, 'value']\n",
    "Females_Wales_17 = df_sex_17_Wal.at[5, 'value']"
   ]
  },
  {
   "cell_type": "markdown",
   "id": "959511fd",
   "metadata": {},
   "source": [
    "#### Wales 2016"
   ]
  },
  {
   "cell_type": "code",
   "execution_count": null,
   "id": "d0908287",
   "metadata": {},
   "outputs": [],
   "source": [
    "#make a call to the API and parse to json file\n",
    "link = \"https://www.nomisweb.co.uk/api/v01/dataset/NM_210_1.data.json?geography=2092957700&date=latestMINUS20&jtype=0,1&ftpt=0,1&etype=0,1&c_sex=0...2&c_occpuk11h_0=0,20002&measure=1&measures=20100,20701\"\n",
    "r = requests.get(link)\n",
    "data = r.json()\n",
    "\n",
    "#create df from json file\n",
    "df_2016_Wal = pd.DataFrame(data['obs'])\n",
    "\n",
    "#get specific data from within the list of dictionaries and store to variable Sex_Wal_Count_16\n",
    "Sex_Wal_Count_16 = list(map(itemgetter('obs_value'), data['obs']))\n",
    "print(Sex_Wal_Count_16)\n"
   ]
  },
  {
   "cell_type": "code",
   "execution_count": null,
   "id": "417e4832",
   "metadata": {},
   "outputs": [],
   "source": [
    "#create df from exatrcted values\n",
    "df_sex_16_Wal = pd.DataFrame(Sex_Wal_Count_16)\n",
    "df_sex_16_Wal"
   ]
  },
  {
   "cell_type": "code",
   "execution_count": null,
   "id": "03c3263e",
   "metadata": {},
   "outputs": [],
   "source": [
    "#export this data to a csv file \n",
    "df_sex_16_Wal.to_csv('Sex_Wales_16.csv')"
   ]
  },
  {
   "cell_type": "code",
   "execution_count": null,
   "id": "fe6a530c",
   "metadata": {},
   "outputs": [],
   "source": [
    "#extract values for count of M and F in Wales for 2016 and assign to variables\n",
    "Males_Wales_16 = df_sex_16_Wal.at[3, 'value']\n",
    "Females_Wales_16 = df_sex_16_Wal.at[5, 'value']"
   ]
  },
  {
   "cell_type": "markdown",
   "id": "47448b01",
   "metadata": {},
   "source": [
    "#### Northern Ireland 2021"
   ]
  },
  {
   "cell_type": "code",
   "execution_count": null,
   "id": "664cf9ad",
   "metadata": {},
   "outputs": [],
   "source": [
    "#make a call to the API and parse to json file\n",
    "link = \"https://www.nomisweb.co.uk/api/v01/dataset/NM_210_1.data.json?geography=2092957702&date=latest&jtype=0,1&ftpt=0,1&etype=0,1&c_sex=0...2&c_occpuk11h_0=0,20002&measure=1&measures=20100,20701\"\n",
    "r = requests.get(link)\n",
    "data = r.json()\n",
    "\n",
    "#create df from json file\n",
    "df_2021_NI = pd.DataFrame(data['obs'])\n",
    "\n",
    "#get specific data from within the list of dictionaries and store to variable Sex_NI_Count_21\n",
    "Sex_NI_Count_21 = list(map(itemgetter('obs_value'), data['obs']))\n",
    "print(Sex_NI_Count_21)\n"
   ]
  },
  {
   "cell_type": "code",
   "execution_count": null,
   "id": "c134f0bf",
   "metadata": {},
   "outputs": [],
   "source": [
    "#create df from exatrcted values\n",
    "df_sex_21_NI = pd.DataFrame(Sex_NI_Count_21)\n",
    "df_sex_21_NI"
   ]
  },
  {
   "cell_type": "code",
   "execution_count": null,
   "id": "9632b276",
   "metadata": {},
   "outputs": [],
   "source": [
    "#export this data to a csv file \n",
    "df_sex_21_NI.to_csv('Sex_NI_21.csv')"
   ]
  },
  {
   "cell_type": "code",
   "execution_count": null,
   "id": "7431a9ea",
   "metadata": {},
   "outputs": [],
   "source": [
    "#extract values for count of M and F in Northern Ireland for 2021 and assign to variables\n",
    "Males_NI_21 = df_sex_21_NI.at[3, 'value']\n",
    "Females_NI_21 = df_sex_21_NI.at[5, 'value']"
   ]
  },
  {
   "cell_type": "code",
   "execution_count": null,
   "id": "5881b37d",
   "metadata": {},
   "outputs": [],
   "source": []
  },
  {
   "cell_type": "markdown",
   "id": "55b8161e",
   "metadata": {},
   "source": [
    "#### Northern Ireland 2020"
   ]
  },
  {
   "cell_type": "code",
   "execution_count": null,
   "id": "63f1bf74",
   "metadata": {},
   "outputs": [],
   "source": [
    "#make a call to the API and parse to json file\n",
    "link = \"https://www.nomisweb.co.uk/api/v01/dataset/NM_210_1.data.json?geography=2092957702&date=latestMINUS4&jtype=0,1&ftpt=0,1&etype=0,1&c_sex=0...2&c_occpuk11h_0=0,20002&measure=1&measures=20100,20701\"\n",
    "r = requests.get(link)\n",
    "data = r.json()\n",
    "\n",
    "#create df from json file\n",
    "df_2020_NI = pd.DataFrame(data['obs'])\n",
    "\n",
    "#get specific data from within the list of dictionaries and store to variable Sex_NI_Count_20\n",
    "Sex_NI_Count_20 = list(map(itemgetter('obs_value'), data['obs']))\n",
    "print(Sex_NI_Count_20)\n"
   ]
  },
  {
   "cell_type": "code",
   "execution_count": null,
   "id": "78ae1136",
   "metadata": {},
   "outputs": [],
   "source": [
    "#create df from exatrcted values\n",
    "df_sex_20_NI = pd.DataFrame(Sex_NI_Count_20)\n",
    "df_sex_20_NI"
   ]
  },
  {
   "cell_type": "code",
   "execution_count": null,
   "id": "b9ce2b28",
   "metadata": {},
   "outputs": [],
   "source": [
    "#export this data to a csv file \n",
    "df_sex_20_NI.to_csv('Sex_NI_20.csv')"
   ]
  },
  {
   "cell_type": "code",
   "execution_count": null,
   "id": "453130f1",
   "metadata": {},
   "outputs": [],
   "source": [
    "#extract values for count of M and F in Northern Ireland for 2020 and assign to variables\n",
    "Males_NI_20 = df_sex_20_NI.at[3, 'value']\n",
    "Females_NI_20 = df_sex_20_NI.at[5, 'value']"
   ]
  },
  {
   "cell_type": "markdown",
   "id": "069bdcbe",
   "metadata": {},
   "source": [
    "#### Northern Ireland 2019"
   ]
  },
  {
   "cell_type": "code",
   "execution_count": null,
   "id": "53f47f96",
   "metadata": {},
   "outputs": [],
   "source": [
    "#make a call to the API and parse to json file\n",
    "link = \"https://www.nomisweb.co.uk/api/v01/dataset/NM_210_1.data.json?geography=2092957702&date=latestMINUS8&jtype=0,1&ftpt=0,1&etype=0,1&c_sex=0...2&c_occpuk11h_0=0,20002&measure=1&measures=20100,20701\"\n",
    "r = requests.get(link)\n",
    "data = r.json()\n",
    "\n",
    "#create df from json file\n",
    "df_2019_NI = pd.DataFrame(data['obs'])\n",
    "\n",
    "#get specific data from within the list of dictionaries and store to variable Sex_NI_Count_19\n",
    "Sex_NI_Count_19 = list(map(itemgetter('obs_value'), data['obs']))\n",
    "print(Sex_NI_Count_19)\n"
   ]
  },
  {
   "cell_type": "code",
   "execution_count": null,
   "id": "a69ffe1f",
   "metadata": {},
   "outputs": [],
   "source": [
    "#create df from exatrcted values\n",
    "df_sex_19_NI = pd.DataFrame(Sex_NI_Count_19)\n",
    "df_sex_19_NI"
   ]
  },
  {
   "cell_type": "code",
   "execution_count": null,
   "id": "bee4c435",
   "metadata": {},
   "outputs": [],
   "source": [
    "#export this data to a csv file \n",
    "df_sex_19_NI.to_csv('Sex_NI_19.csv')"
   ]
  },
  {
   "cell_type": "code",
   "execution_count": null,
   "id": "0099b2eb",
   "metadata": {},
   "outputs": [],
   "source": [
    "#extract values for count of M and F in Northern Ireland for 2019 and assign to variables\n",
    "Males_NI_19 = df_sex_19_NI.at[3, 'value']\n",
    "Females_NI_19 = df_sex_19_NI.at[5, 'value']"
   ]
  },
  {
   "cell_type": "code",
   "execution_count": null,
   "id": "c87015fc",
   "metadata": {},
   "outputs": [],
   "source": []
  },
  {
   "cell_type": "markdown",
   "id": "89afc7c5",
   "metadata": {},
   "source": [
    "#### Northern Ireland 2018"
   ]
  },
  {
   "cell_type": "code",
   "execution_count": null,
   "id": "b9bc3d10",
   "metadata": {},
   "outputs": [],
   "source": [
    "#make a call to the API and parse to json file\n",
    "link = \"https://www.nomisweb.co.uk/api/v01/dataset/NM_210_1.data.json?geography=2092957702&date=latestMINUS12&jtype=0,1&ftpt=0,1&etype=0,1&c_sex=0...2&c_occpuk11h_0=0,20002&measure=1&measures=20100,20701\"\n",
    "r = requests.get(link)\n",
    "data = r.json()\n",
    "\n",
    "#create df from json file\n",
    "df_2018_NI = pd.DataFrame(data['obs'])\n",
    "\n",
    "#get specific data from within the list of dictionaries and store to variable Sex_NI_Count_18\n",
    "Sex_NI_Count_18 = list(map(itemgetter('obs_value'), data['obs']))\n",
    "print(Sex_NI_Count_18)\n"
   ]
  },
  {
   "cell_type": "code",
   "execution_count": null,
   "id": "020aa099",
   "metadata": {},
   "outputs": [],
   "source": [
    "#create df from exatrcted values\n",
    "df_sex_18_NI = pd.DataFrame(Sex_NI_Count_18)\n",
    "df_sex_18_NI"
   ]
  },
  {
   "cell_type": "code",
   "execution_count": null,
   "id": "4de81e26",
   "metadata": {},
   "outputs": [],
   "source": [
    "#export this data to a csv file \n",
    "df_sex_18_NI.to_csv('Sex_NI_18.csv')"
   ]
  },
  {
   "cell_type": "code",
   "execution_count": null,
   "id": "e6e42c72",
   "metadata": {},
   "outputs": [],
   "source": [
    "#extract values for count of M and F in Northern Ireland for 2018 and assign to variables\n",
    "Males_NI_18 = df_sex_18_NI.at[3, 'value']\n",
    "Females_NI_18 = df_sex_18_NI.at[5, 'value']"
   ]
  },
  {
   "cell_type": "markdown",
   "id": "dd917312",
   "metadata": {},
   "source": [
    "#### Northern Ireland 2017"
   ]
  },
  {
   "cell_type": "code",
   "execution_count": null,
   "id": "ab22a59a",
   "metadata": {},
   "outputs": [],
   "source": [
    "#make a call to the API and parse to json file\n",
    "link = \"https://www.nomisweb.co.uk/api/v01/dataset/NM_210_1.data.json?geography=2092957702&date=latestMINUS16&jtype=0,1&ftpt=0,1&etype=0,1&c_sex=0...2&c_occpuk11h_0=0,20002&measure=1&measures=20100,20701\"\n",
    "r = requests.get(link)\n",
    "data = r.json()\n",
    "\n",
    "#create df from json file\n",
    "df_2017_NI = pd.DataFrame(data['obs'])\n",
    "\n",
    "#get specific data from within the list of dictionaries and store to variable Sex_NI_Count_17\n",
    "Sex_NI_Count_17 = list(map(itemgetter('obs_value'), data['obs']))\n",
    "print(Sex_NI_Count_17)\n"
   ]
  },
  {
   "cell_type": "code",
   "execution_count": null,
   "id": "d699c79c",
   "metadata": {},
   "outputs": [],
   "source": [
    "#create df from exatrcted values\n",
    "df_sex_17_NI = pd.DataFrame(Sex_NI_Count_17)\n",
    "df_sex_17_NI"
   ]
  },
  {
   "cell_type": "code",
   "execution_count": null,
   "id": "c688903c",
   "metadata": {},
   "outputs": [],
   "source": [
    "#export this data to a csv file \n",
    "df_sex_17_NI.to_csv('Sex_NI_17.csv')"
   ]
  },
  {
   "cell_type": "code",
   "execution_count": null,
   "id": "98e7efe5",
   "metadata": {},
   "outputs": [],
   "source": [
    "#extract values for count of M and F in Northern Ireland for 2017 and assign to variables\n",
    "Males_NI_17 = df_sex_17_NI.at[3, 'value']\n",
    "Females_NI_17 = df_sex_17_NI.at[5, 'value']"
   ]
  },
  {
   "cell_type": "markdown",
   "id": "a026a249",
   "metadata": {},
   "source": [
    "#### Northern Ireland 2016"
   ]
  },
  {
   "cell_type": "code",
   "execution_count": null,
   "id": "a63621a5",
   "metadata": {},
   "outputs": [],
   "source": [
    "#make a call to the API and parse to json file\n",
    "link = \"https://www.nomisweb.co.uk/api/v01/dataset/NM_210_1.data.json?geography=2092957702&date=latestMINUS20&jtype=0,1&ftpt=0,1&etype=0,1&c_sex=0...2&c_occpuk11h_0=0,20002&measure=1&measures=20100,20701\"\n",
    "r = requests.get(link)\n",
    "data = r.json()\n",
    "\n",
    "#create df from json file\n",
    "df_2016_NI = pd.DataFrame(data['obs'])\n",
    "\n",
    "#get specific data from within the list of dictionaries and store to variable Sex_NI_Count_16\n",
    "Sex_NI_Count_16 = list(map(itemgetter('obs_value'), data['obs']))\n",
    "print(Sex_NI_Count_16)\n"
   ]
  },
  {
   "cell_type": "code",
   "execution_count": null,
   "id": "b089c483",
   "metadata": {},
   "outputs": [],
   "source": [
    "#create df from exatrcted values\n",
    "df_sex_16_NI = pd.DataFrame(Sex_NI_Count_16)\n",
    "df_sex_16_NI"
   ]
  },
  {
   "cell_type": "code",
   "execution_count": null,
   "id": "b43fa06e",
   "metadata": {},
   "outputs": [],
   "source": [
    "#export this data to a csv file \n",
    "df_sex_16_NI.to_csv('Sex_NI_16.csv')"
   ]
  },
  {
   "cell_type": "code",
   "execution_count": null,
   "id": "6d0e5dbe",
   "metadata": {},
   "outputs": [],
   "source": [
    "#extract values for count of M and F in Northern Ireland for 2016 and assign to variables\n",
    "Males_NI_16 = df_sex_16_NI.at[3, 'value']\n",
    "Females_NI_16 = df_sex_16_NI.at[5, 'value']"
   ]
  },
  {
   "cell_type": "markdown",
   "id": "6d58ad40",
   "metadata": {},
   "source": [
    "#### Scotland 2021"
   ]
  },
  {
   "cell_type": "code",
   "execution_count": null,
   "id": "a31469c1",
   "metadata": {},
   "outputs": [],
   "source": [
    "#make a call to the API and parse to json file\n",
    "link = \"https://www.nomisweb.co.uk/api/v01/dataset/NM_210_1.data.json?geography=2092957701&date=latest&jtype=0,1&ftpt=0,1&etype=0,1&c_sex=0...2&c_occpuk11h_0=0,20002&measure=1&measures=20100,20701\"\n",
    "r = requests.get(link)\n",
    "data = r.json()\n",
    "\n",
    "#create df from json file\n",
    "df_2021_Scot = pd.DataFrame(data['obs'])\n",
    "\n",
    "#get specific data from within the list of dictionaries and store to variable Sex_Scot_Count_21\n",
    "Sex_Scot_Count_21 = list(map(itemgetter('obs_value'), data['obs']))\n",
    "print(Sex_Scot_Count_21)\n"
   ]
  },
  {
   "cell_type": "code",
   "execution_count": null,
   "id": "8a45a665",
   "metadata": {},
   "outputs": [],
   "source": [
    "#create df from exatrcted values\n",
    "df_sex_21_Scot = pd.DataFrame(Sex_Scot_Count_21)\n",
    "df_sex_21_Scot"
   ]
  },
  {
   "cell_type": "code",
   "execution_count": null,
   "id": "453e2f1c",
   "metadata": {},
   "outputs": [],
   "source": [
    "#export this data to a csv file \n",
    "df_sex_21_Scot.to_csv('Sex_Scot_21.csv')"
   ]
  },
  {
   "cell_type": "code",
   "execution_count": null,
   "id": "14ca7978",
   "metadata": {},
   "outputs": [],
   "source": [
    "#extract values for count of M and F in Scotland for 2021 and assign to variables\n",
    "Males_Scot_21 = df_sex_21_Scot.at[3, 'value']\n",
    "Females_Scot_21 = df_sex_21_Scot.at[5, 'value']"
   ]
  },
  {
   "cell_type": "code",
   "execution_count": null,
   "id": "2bbe8cf4",
   "metadata": {},
   "outputs": [],
   "source": []
  },
  {
   "cell_type": "markdown",
   "id": "a52ae429",
   "metadata": {},
   "source": [
    "#### Scotland 2020"
   ]
  },
  {
   "cell_type": "code",
   "execution_count": null,
   "id": "9903e2c3",
   "metadata": {},
   "outputs": [],
   "source": [
    "#make a call to the API and parse to json file\n",
    "link = \"https://www.nomisweb.co.uk/api/v01/dataset/NM_210_1.data.json?geography=2092957701&date=latestMINUS4&jtype=0,1&ftpt=0,1&etype=0,1&c_sex=0...2&c_occpuk11h_0=0,20002&measure=1&measures=20100,20701\"\n",
    "r = requests.get(link)\n",
    "data = r.json()\n",
    "\n",
    "#create df from json file\n",
    "df_2020_Scot = pd.DataFrame(data['obs'])\n",
    "\n",
    "#get specific data from within the list of dictionaries and store to variable Sex_Scot_Count_20\n",
    "Sex_Scot_Count_20 = list(map(itemgetter('obs_value'), data['obs']))\n",
    "print(Sex_Scot_Count_20)\n"
   ]
  },
  {
   "cell_type": "code",
   "execution_count": null,
   "id": "8c69a779",
   "metadata": {},
   "outputs": [],
   "source": [
    "#create df from exatrcted values\n",
    "df_sex_20_Scot = pd.DataFrame(Sex_Scot_Count_20)\n",
    "df_sex_20_Scot"
   ]
  },
  {
   "cell_type": "code",
   "execution_count": null,
   "id": "589132d6",
   "metadata": {},
   "outputs": [],
   "source": [
    "#export this data to a csv file \n",
    "df_sex_20_Scot.to_csv('Sex_Scot_20.csv')"
   ]
  },
  {
   "cell_type": "code",
   "execution_count": null,
   "id": "60eab628",
   "metadata": {},
   "outputs": [],
   "source": [
    "#extract values for count of M and F in Scotland for 2020 and assign to variables\n",
    "Males_Scot_20 = df_sex_20_Scot.at[3, 'value']\n",
    "Females_Scot_20 = df_sex_20_Scot.at[5, 'value']"
   ]
  },
  {
   "cell_type": "code",
   "execution_count": null,
   "id": "63e03a44",
   "metadata": {},
   "outputs": [],
   "source": []
  },
  {
   "cell_type": "markdown",
   "id": "51c30c44",
   "metadata": {},
   "source": [
    "#### Scotland 2019"
   ]
  },
  {
   "cell_type": "code",
   "execution_count": null,
   "id": "427f0aa3",
   "metadata": {},
   "outputs": [],
   "source": [
    "#make a call to the API and parse to json file\n",
    "link = \"https://www.nomisweb.co.uk/api/v01/dataset/NM_210_1.data.json?geography=2092957701&date=latestMINUS8&jtype=0,1&ftpt=0,1&etype=0,1&c_sex=0...2&c_occpuk11h_0=0,20002&measure=1&measures=20100,20701\"\n",
    "r = requests.get(link)\n",
    "data = r.json()\n",
    "\n",
    "#create df from json file\n",
    "df_2019_Scot = pd.DataFrame(data['obs'])\n",
    "\n",
    "#get specific data from within the list of dictionaries and store to variable Sex_Scot_Count_19\n",
    "Sex_Scot_Count_19 = list(map(itemgetter('obs_value'), data['obs']))\n",
    "print(Sex_Scot_Count_19)\n"
   ]
  },
  {
   "cell_type": "code",
   "execution_count": null,
   "id": "9b667923",
   "metadata": {},
   "outputs": [],
   "source": [
    "#create df from exatrcted values\n",
    "df_sex_19_Scot = pd.DataFrame(Sex_Scot_Count_19)\n",
    "df_sex_19_Scot"
   ]
  },
  {
   "cell_type": "code",
   "execution_count": null,
   "id": "b9bccbf3",
   "metadata": {},
   "outputs": [],
   "source": [
    "#export this data to a csv file \n",
    "df_sex_19_Scot.to_csv('Sex_Scot_19.csv')"
   ]
  },
  {
   "cell_type": "code",
   "execution_count": null,
   "id": "745a9fbe",
   "metadata": {},
   "outputs": [],
   "source": [
    "#extract values for count of M and F in Scotland for 2019 and assign to variables\n",
    "Males_Scot_19 = df_sex_19_Scot.at[3, 'value']\n",
    "Females_Scot_19 = df_sex_19_Scot.at[5, 'value']"
   ]
  },
  {
   "cell_type": "markdown",
   "id": "5954b8e4",
   "metadata": {},
   "source": [
    "#### Scotland 2018"
   ]
  },
  {
   "cell_type": "code",
   "execution_count": null,
   "id": "56509661",
   "metadata": {},
   "outputs": [],
   "source": [
    "#make a call to the API and parse to json file\n",
    "link = \"https://www.nomisweb.co.uk/api/v01/dataset/NM_210_1.data.json?geography=2092957701&date=latestMINUS12&jtype=0,1&ftpt=0,1&etype=0,1&c_sex=0...2&c_occpuk11h_0=0,20002&measure=1&measures=20100,20701\"\n",
    "r = requests.get(link)\n",
    "data = r.json()\n",
    "\n",
    "#create df from json file\n",
    "df_2018_Scot = pd.DataFrame(data['obs'])\n",
    "\n",
    "#get specific data from within the list of dictionaries and store to variable Sex_Scot_Count_18\n",
    "Sex_Scot_Count_18 = list(map(itemgetter('obs_value'), data['obs']))\n",
    "print(Sex_Scot_Count_18)\n"
   ]
  },
  {
   "cell_type": "code",
   "execution_count": null,
   "id": "ad4cc802",
   "metadata": {},
   "outputs": [],
   "source": [
    "#create df from exatrcted values\n",
    "df_sex_18_Scot = pd.DataFrame(Sex_Scot_Count_18)\n",
    "df_sex_18_Scot"
   ]
  },
  {
   "cell_type": "code",
   "execution_count": null,
   "id": "e3abd049",
   "metadata": {},
   "outputs": [],
   "source": [
    "#export this data to a csv file \n",
    "df_sex_18_Scot.to_csv('Sex_Scot_18.csv')"
   ]
  },
  {
   "cell_type": "code",
   "execution_count": null,
   "id": "902b771e",
   "metadata": {},
   "outputs": [],
   "source": [
    "#extract values for count of M and F in Scotland for 2018 and assign to variables\n",
    "Males_Scot_18 = df_sex_18_Scot.at[3, 'value']\n",
    "Females_Scot_18 = df_sex_18_Scot.at[5, 'value']"
   ]
  },
  {
   "cell_type": "code",
   "execution_count": null,
   "id": "cba1e808",
   "metadata": {},
   "outputs": [],
   "source": []
  },
  {
   "cell_type": "markdown",
   "id": "d6837fd0",
   "metadata": {},
   "source": [
    "#### Scotland 2017"
   ]
  },
  {
   "cell_type": "code",
   "execution_count": null,
   "id": "9c47b738",
   "metadata": {},
   "outputs": [],
   "source": [
    "#make a call to the API and parse to json file\n",
    "link = \"https://www.nomisweb.co.uk/api/v01/dataset/NM_210_1.data.json?geography=2092957701&date=latestMINUS16&jtype=0,1&ftpt=0,1&etype=0,1&c_sex=0...2&c_occpuk11h_0=0,20002&measure=1&measures=20100,20701\"\n",
    "r = requests.get(link)\n",
    "data = r.json()\n",
    "\n",
    "#create df from json file\n",
    "df_2017_Scot = pd.DataFrame(data['obs'])\n",
    "\n",
    "#get specific data from within the list of dictionaries and store to variable Sex_Scot_Count_17\n",
    "Sex_Scot_Count_17 = list(map(itemgetter('obs_value'), data['obs']))\n",
    "print(Sex_Scot_Count_17)\n"
   ]
  },
  {
   "cell_type": "code",
   "execution_count": null,
   "id": "10bdc840",
   "metadata": {},
   "outputs": [],
   "source": [
    "#create df from exatrcted values\n",
    "df_sex_17_Scot = pd.DataFrame(Sex_Scot_Count_17)\n",
    "df_sex_17_Scot"
   ]
  },
  {
   "cell_type": "code",
   "execution_count": null,
   "id": "73a9a546",
   "metadata": {},
   "outputs": [],
   "source": [
    "#export this data to a csv file \n",
    "df_sex_17_Scot.to_csv('Sex_Scot_17.csv')"
   ]
  },
  {
   "cell_type": "code",
   "execution_count": null,
   "id": "6027bdb3",
   "metadata": {},
   "outputs": [],
   "source": [
    "#extract values for count of M and F in Scotland for 2017 and assign to variables\n",
    "Males_Scot_17 = df_sex_17_Scot.at[3, 'value']\n",
    "Females_Scot_17 = df_sex_17_Scot.at[5, 'value']"
   ]
  },
  {
   "cell_type": "code",
   "execution_count": null,
   "id": "9bf986c9",
   "metadata": {},
   "outputs": [],
   "source": []
  },
  {
   "cell_type": "markdown",
   "id": "a024be1e",
   "metadata": {},
   "source": [
    "#### Scotland 2016"
   ]
  },
  {
   "cell_type": "code",
   "execution_count": null,
   "id": "e9be2009",
   "metadata": {},
   "outputs": [],
   "source": [
    "#make a call to the API and parse to json file\n",
    "link = \"https://www.nomisweb.co.uk/api/v01/dataset/NM_210_1.data.json?geography=2092957701&date=latestMINUS20&jtype=0,1&ftpt=0,1&etype=0,1&c_sex=0...2&c_occpuk11h_0=0,20002&measure=1&measures=20100,20701\"\n",
    "r = requests.get(link)\n",
    "data = r.json()\n",
    "\n",
    "#create df from json file\n",
    "df_2016_Scot = pd.DataFrame(data['obs'])\n",
    "\n",
    "#get specific data from within the list of dictionaries and store to variable Sex_Scot_Count_16\n",
    "Sex_Scot_Count_16 = list(map(itemgetter('obs_value'), data['obs']))\n",
    "print(Sex_Scot_Count_16)\n"
   ]
  },
  {
   "cell_type": "code",
   "execution_count": null,
   "id": "70f80eb2",
   "metadata": {},
   "outputs": [],
   "source": [
    "#create df from exatrcted values\n",
    "df_sex_16_Scot = pd.DataFrame(Sex_Scot_Count_16)\n",
    "df_sex_16_Scot"
   ]
  },
  {
   "cell_type": "code",
   "execution_count": null,
   "id": "d216fcfa",
   "metadata": {},
   "outputs": [],
   "source": [
    "#export this data to a csv file \n",
    "df_sex_16_Scot.to_csv('Sex_Scot_16.csv')"
   ]
  },
  {
   "cell_type": "code",
   "execution_count": null,
   "id": "a2ea1081",
   "metadata": {},
   "outputs": [],
   "source": [
    "#extract values for count of M and F in Scotland for 2016 and assign to variables\n",
    "Males_Scot_16 = df_sex_16_Scot.at[3, 'value']\n",
    "Females_Scot_16 = df_sex_16_Scot.at[5, 'value']"
   ]
  },
  {
   "cell_type": "code",
   "execution_count": null,
   "id": "d19a3a01",
   "metadata": {},
   "outputs": [],
   "source": []
  },
  {
   "cell_type": "markdown",
   "id": "bd445440",
   "metadata": {},
   "source": [
    "#### UK 2021"
   ]
  },
  {
   "cell_type": "code",
   "execution_count": null,
   "id": "b9613b42",
   "metadata": {},
   "outputs": [],
   "source": [
    "#make a call to the API and parse to json file\n",
    "link = \"https://www.nomisweb.co.uk/api/v01/dataset/NM_210_1.data.json?geography=2092957697&date=latest&jtype=0,1&ftpt=0,1&etype=0,1&c_sex=0...2&c_occpuk11h_0=0,20002&measure=1&measures=20100,20701\"\n",
    "r = requests.get(link)\n",
    "data = r.json()\n",
    "\n",
    "#create df from json file\n",
    "df_2021_UK = pd.DataFrame(data['obs'])\n",
    "\n",
    "#get specific data from within the list of dictionaries and store to variable Sex_UK_Count_21\n",
    "Sex_UK_Count_21 = list(map(itemgetter('obs_value'), data['obs']))\n",
    "print(Sex_UK_Count_21)\n"
   ]
  },
  {
   "cell_type": "code",
   "execution_count": null,
   "id": "4892421c",
   "metadata": {},
   "outputs": [],
   "source": [
    "#create df from exatrcted values\n",
    "df_sex_21_UK = pd.DataFrame(Sex_UK_Count_21)\n",
    "df_sex_21_UK"
   ]
  },
  {
   "cell_type": "code",
   "execution_count": null,
   "id": "e4d788ce",
   "metadata": {},
   "outputs": [],
   "source": [
    "#export this data to a csv file \n",
    "df_sex_21_UK.to_csv('Sex_UK_21.csv')"
   ]
  },
  {
   "cell_type": "code",
   "execution_count": null,
   "id": "78e4e1e4",
   "metadata": {},
   "outputs": [],
   "source": [
    "#extract values for count of M and F in UK for 2021 and assign to variables\n",
    "Males_UK_21 = df_sex_21_UK.at[3, 'value']\n",
    "Females_UK_21 = df_sex_21_UK.at[5, 'value']"
   ]
  },
  {
   "cell_type": "code",
   "execution_count": null,
   "id": "9c63dcf4",
   "metadata": {},
   "outputs": [],
   "source": []
  },
  {
   "cell_type": "markdown",
   "id": "21cb4eee",
   "metadata": {},
   "source": [
    "#### UK 2020"
   ]
  },
  {
   "cell_type": "code",
   "execution_count": null,
   "id": "7bd62c9e",
   "metadata": {},
   "outputs": [],
   "source": [
    "#make a call to the API and parse to json file\n",
    "link = \"https://www.nomisweb.co.uk/api/v01/dataset/NM_210_1.data.json?geography=2092957697&date=latestMINUS4&jtype=0,1&ftpt=0,1&etype=0,1&c_sex=0...2&c_occpuk11h_0=0,20002&measure=1&measures=20100,20701\"\n",
    "r = requests.get(link)\n",
    "data = r.json()\n",
    "\n",
    "#create df from json file\n",
    "df_2020_UK = pd.DataFrame(data['obs'])\n",
    "\n",
    "#get specific data from within the list of dictionaries and store to variable Sex_UK_Count_20\n",
    "Sex_UK_Count_20 = list(map(itemgetter('obs_value'), data['obs']))\n",
    "print(Sex_UK_Count_20)\n"
   ]
  },
  {
   "cell_type": "code",
   "execution_count": null,
   "id": "0b17e0cf",
   "metadata": {},
   "outputs": [],
   "source": [
    "#create df from exatrcted values\n",
    "df_sex_20_UK = pd.DataFrame(Sex_UK_Count_20)\n",
    "df_sex_20_UK"
   ]
  },
  {
   "cell_type": "code",
   "execution_count": null,
   "id": "91fc0160",
   "metadata": {},
   "outputs": [],
   "source": [
    "#export this data to a csv file \n",
    "df_sex_20_UK.to_csv('Sex_UK_20.csv')"
   ]
  },
  {
   "cell_type": "code",
   "execution_count": null,
   "id": "ab1d0d12",
   "metadata": {},
   "outputs": [],
   "source": [
    "#extract values for count of M and F in UK for 2020 and assign to variables\n",
    "Males_UK_20 = df_sex_20_UK.at[3, 'value']\n",
    "Females_UK_20 = df_sex_20_UK.at[5, 'value']"
   ]
  },
  {
   "cell_type": "code",
   "execution_count": null,
   "id": "fbcc8115",
   "metadata": {},
   "outputs": [],
   "source": []
  },
  {
   "cell_type": "markdown",
   "id": "edf4bed8",
   "metadata": {},
   "source": [
    "#### UK 2019"
   ]
  },
  {
   "cell_type": "code",
   "execution_count": null,
   "id": "f43c0a3b",
   "metadata": {},
   "outputs": [],
   "source": [
    "#make a call to the API and parse to json file\n",
    "link = \"https://www.nomisweb.co.uk/api/v01/dataset/NM_210_1.data.json?geography=2092957697&date=latestMINUS8&jtype=0,1&ftpt=0,1&etype=0,1&c_sex=0...2&c_occpuk11h_0=0,20002&measure=1&measures=20100,20701\"\n",
    "r = requests.get(link)\n",
    "data = r.json()\n",
    "\n",
    "#create df from json file\n",
    "df_2019_UK = pd.DataFrame(data['obs'])\n",
    "\n",
    "#get specific data from within the list of dictionaries and store to variable Sex_UK_Count_19\n",
    "Sex_UK_Count_19 = list(map(itemgetter('obs_value'), data['obs']))\n",
    "print(Sex_UK_Count_19)\n"
   ]
  },
  {
   "cell_type": "code",
   "execution_count": null,
   "id": "0679cb22",
   "metadata": {},
   "outputs": [],
   "source": [
    "#create df from exatrcted values\n",
    "df_sex_19_UK = pd.DataFrame(Sex_UK_Count_19)\n",
    "df_sex_19_UK"
   ]
  },
  {
   "cell_type": "code",
   "execution_count": null,
   "id": "17ad0718",
   "metadata": {},
   "outputs": [],
   "source": [
    "#export this data to a csv file \n",
    "df_sex_19_UK.to_csv('Sex_UK_19.csv')"
   ]
  },
  {
   "cell_type": "code",
   "execution_count": null,
   "id": "747cc2df",
   "metadata": {},
   "outputs": [],
   "source": [
    "#extract values for count of M and F in UK for 2019 and assign to variables\n",
    "Males_UK_19 = df_sex_19_UK.at[3, 'value']\n",
    "Females_UK_19 = df_sex_19_UK.at[5, 'value']"
   ]
  },
  {
   "cell_type": "code",
   "execution_count": null,
   "id": "91d37e9a",
   "metadata": {},
   "outputs": [],
   "source": []
  },
  {
   "cell_type": "markdown",
   "id": "7d217ef0",
   "metadata": {},
   "source": [
    "#### UK 2018"
   ]
  },
  {
   "cell_type": "code",
   "execution_count": null,
   "id": "77394b00",
   "metadata": {},
   "outputs": [],
   "source": [
    "#make a call to the API and parse to json file\n",
    "link = \"https://www.nomisweb.co.uk/api/v01/dataset/NM_210_1.data.json?geography=2092957697&date=latestMINUS12&jtype=0,1&ftpt=0,1&etype=0,1&c_sex=0...2&c_occpuk11h_0=0,20002&measure=1&measures=20100,20701\"\n",
    "r = requests.get(link)\n",
    "data = r.json()\n",
    "\n",
    "#create df from json file\n",
    "df_2018_UK = pd.DataFrame(data['obs'])\n",
    "\n",
    "#get specific data from within the list of dictionaries and store to variable Sex_UK_Count_18\n",
    "Sex_UK_Count_18 = list(map(itemgetter('obs_value'), data['obs']))\n",
    "print(Sex_UK_Count_18)\n"
   ]
  },
  {
   "cell_type": "code",
   "execution_count": null,
   "id": "85e1e006",
   "metadata": {},
   "outputs": [],
   "source": [
    "#create df from exatrcted values\n",
    "df_sex_18_UK = pd.DataFrame(Sex_UK_Count_18)\n",
    "df_sex_18_UK"
   ]
  },
  {
   "cell_type": "code",
   "execution_count": null,
   "id": "10d66505",
   "metadata": {},
   "outputs": [],
   "source": [
    "#export this data to a csv file \n",
    "df_sex_18_UK.to_csv('Sex_UK_18.csv')"
   ]
  },
  {
   "cell_type": "code",
   "execution_count": null,
   "id": "694342c4",
   "metadata": {},
   "outputs": [],
   "source": [
    "#extract values for count of M and F in UK for 2018 and assign to variables\n",
    "Males_UK_18 = df_sex_18_UK.at[3, 'value']\n",
    "Females_UK_18 = df_sex_18_UK.at[5, 'value']"
   ]
  },
  {
   "cell_type": "code",
   "execution_count": null,
   "id": "50bc1314",
   "metadata": {},
   "outputs": [],
   "source": []
  },
  {
   "cell_type": "markdown",
   "id": "91e145c0",
   "metadata": {},
   "source": [
    "#### UK 2017"
   ]
  },
  {
   "cell_type": "code",
   "execution_count": null,
   "id": "0cd17e2a",
   "metadata": {},
   "outputs": [],
   "source": [
    "#make a call to the API and parse to json file\n",
    "link = \"https://www.nomisweb.co.uk/api/v01/dataset/NM_210_1.data.json?geography=2092957697&date=latestMINUS16&jtype=0,1&ftpt=0,1&etype=0,1&c_sex=0...2&c_occpuk11h_0=0,20002&measure=1&measures=20100,20701\"\n",
    "r = requests.get(link)\n",
    "data = r.json()\n",
    "\n",
    "#create df from json file\n",
    "df_2017_UK = pd.DataFrame(data['obs'])\n",
    "\n",
    "#get specific data from within the list of dictionaries and store to variable Sex_UK_Count_17\n",
    "Sex_UK_Count_17 = list(map(itemgetter('obs_value'), data['obs']))\n",
    "print(Sex_UK_Count_17)\n"
   ]
  },
  {
   "cell_type": "code",
   "execution_count": null,
   "id": "52f18081",
   "metadata": {},
   "outputs": [],
   "source": [
    "#create df from exatrcted values\n",
    "df_sex_17_UK = pd.DataFrame(Sex_UK_Count_17)\n",
    "df_sex_17_UK"
   ]
  },
  {
   "cell_type": "code",
   "execution_count": null,
   "id": "cc5d3fc7",
   "metadata": {},
   "outputs": [],
   "source": [
    "#export this data to a csv file \n",
    "df_sex_17_UK.to_csv('Sex_UK_17.csv')"
   ]
  },
  {
   "cell_type": "code",
   "execution_count": null,
   "id": "a2e9d92c",
   "metadata": {},
   "outputs": [],
   "source": [
    "#extract values for count of M and F in UK for 2017 and assign to variables\n",
    "Males_UK_17 = df_sex_17_UK.at[3, 'value']\n",
    "Females_UK_17 = df_sex_17_UK.at[5, 'value']"
   ]
  },
  {
   "cell_type": "code",
   "execution_count": null,
   "id": "955c83db",
   "metadata": {},
   "outputs": [],
   "source": []
  },
  {
   "cell_type": "markdown",
   "id": "37511190",
   "metadata": {},
   "source": [
    "#### UK 2016"
   ]
  },
  {
   "cell_type": "code",
   "execution_count": 245,
   "id": "dc6580cc",
   "metadata": {},
   "outputs": [
    {
     "name": "stdout",
     "output_type": "stream",
     "text": [
      "[{'value': 31239300, 'description': 'Undefined Value for United Kingdom (geography), Count (measure) for Jul 2015-Jun 2016 from annual population survey - regional - occupation by sex by employment type'}, {'value': 938100, 'description': 'Undefined Value for United Kingdom (geography), 213 Information Technology and Telecommunications Professionals (Occupation), Count (measure) for Jul 2015-Jun 2016 from annual population survey - regional - occupation by sex by employment type'}, {'value': 16642000, 'description': 'Undefined Value for United Kingdom (geography), Males (Sex), Count (measure) for Jul 2015-Jun 2016 from annual population survey - regional - occupation by sex by employment type'}, {'value': 780900, 'description': 'Undefined Value for United Kingdom (geography), Males (Sex), 213 Information Technology and Telecommunications Professionals (Occupation), Count (measure) for Jul 2015-Jun 2016 from annual population survey - regional - occupation by sex by employment type'}, {'value': 14597300, 'description': 'Undefined Value for United Kingdom (geography), Females (Sex), Count (measure) for Jul 2015-Jun 2016 from annual population survey - regional - occupation by sex by employment type'}, {'value': 157100, 'description': 'Undefined Value for United Kingdom (geography), Females (Sex), 213 Information Technology and Telecommunications Professionals (Occupation), Count (measure) for Jul 2015-Jun 2016 from annual population survey - regional - occupation by sex by employment type'}, {'value': 26433400, 'description': 'Undefined Value for United Kingdom (geography), Employee (Employee/Self-employed), Count (measure) for Jul 2015-Jun 2016 from annual population survey - regional - occupation by sex by employment type'}, {'value': 813800, 'description': 'Undefined Value for United Kingdom (geography), Employee (Employee/Self-employed), 213 Information Technology and Telecommunications Professionals (Occupation), Count (measure) for Jul 2015-Jun 2016 from annual population survey - regional - occupation by sex by employment type'}, {'value': 13425200, 'description': 'Undefined Value for United Kingdom (geography), Employee (Employee/Self-employed), Males (Sex), Count (measure) for Jul 2015-Jun 2016 from annual population survey - regional - occupation by sex by employment type'}, {'value': 672100, 'description': 'Undefined Value for United Kingdom (geography), Employee (Employee/Self-employed), Males (Sex), 213 Information Technology and Telecommunications Professionals (Occupation), Count (measure) for Jul 2015-Jun 2016 from annual population survey - regional - occupation by sex by employment type'}, {'value': 13008300, 'description': 'Undefined Value for United Kingdom (geography), Employee (Employee/Self-employed), Females (Sex), Count (measure) for Jul 2015-Jun 2016 from annual population survey - regional - occupation by sex by employment type'}, {'value': 141600, 'description': 'Undefined Value for United Kingdom (geography), Employee (Employee/Self-employed), Females (Sex), 213 Information Technology and Telecommunications Professionals (Occupation), Count (measure) for Jul 2015-Jun 2016 from annual population survey - regional - occupation by sex by employment type'}, {'value': 22801000, 'description': 'Undefined Value for United Kingdom (geography), Full-time (Full/Part-time), Count (measure) for Jul 2015-Jun 2016 from annual population survey - regional - occupation by sex by employment type'}, {'value': 879600, 'description': 'Undefined Value for United Kingdom (geography), Full-time (Full/Part-time), 213 Information Technology and Telecommunications Professionals (Occupation), Count (measure) for Jul 2015-Jun 2016 from annual population survey - regional - occupation by sex by employment type'}, {'value': 14422300, 'description': 'Undefined Value for United Kingdom (geography), Full-time (Full/Part-time), Males (Sex), Count (measure) for Jul 2015-Jun 2016 from annual population survey - regional - occupation by sex by employment type'}, {'value': 751700, 'description': 'Undefined Value for United Kingdom (geography), Full-time (Full/Part-time), Males (Sex), 213 Information Technology and Telecommunications Professionals (Occupation), Count (measure) for Jul 2015-Jun 2016 from annual population survey - regional - occupation by sex by employment type'}, {'value': 8378700, 'description': 'Undefined Value for United Kingdom (geography), Full-time (Full/Part-time), Females (Sex), Count (measure) for Jul 2015-Jun 2016 from annual population survey - regional - occupation by sex by employment type'}, {'value': 127900, 'description': 'Undefined Value for United Kingdom (geography), Full-time (Full/Part-time), Females (Sex), 213 Information Technology and Telecommunications Professionals (Occupation), Count (measure) for Jul 2015-Jun 2016 from annual population survey - regional - occupation by sex by employment type'}, {'value': 19481500, 'description': 'Undefined Value for United Kingdom (geography), Full-time (Full/Part-time), Employee (Employee/Self-employed), Count (measure) for Jul 2015-Jun 2016 from annual population survey - regional - occupation by sex by employment type'}, {'value': 776600, 'description': 'Undefined Value for United Kingdom (geography), Full-time (Full/Part-time), Employee (Employee/Self-employed), 213 Information Technology and Telecommunications Professionals (Occupation), Count (measure) for Jul 2015-Jun 2016 from annual population survey - regional - occupation by sex by employment type'}, {'value': 11821900, 'description': 'Undefined Value for United Kingdom (geography), Full-time (Full/Part-time), Employee (Employee/Self-employed), Males (Sex), Count (measure) for Jul 2015-Jun 2016 from annual population survey - regional - occupation by sex by employment type'}, {'value': 658900, 'description': 'Undefined Value for United Kingdom (geography), Full-time (Full/Part-time), Employee (Employee/Self-employed), Males (Sex), 213 Information Technology and Telecommunications Professionals (Occupation), Count (measure) for Jul 2015-Jun 2016 from annual population survey - regional - occupation by sex by employment type'}, {'value': 7659600, 'description': 'Undefined Value for United Kingdom (geography), Full-time (Full/Part-time), Employee (Employee/Self-employed), Females (Sex), Count (measure) for Jul 2015-Jun 2016 from annual population survey - regional - occupation by sex by employment type'}, {'value': 117700, 'description': 'Undefined Value for United Kingdom (geography), Full-time (Full/Part-time), Employee (Employee/Self-employed), Females (Sex), 213 Information Technology and Telecommunications Professionals (Occupation), Count (measure) for Jul 2015-Jun 2016 from annual population survey - regional - occupation by sex by employment type'}, {'value': 24788700, 'description': 'Undefined Value for United Kingdom (geography), Permanent (Permanent/non-permanent), Count (measure) for Jul 2015-Jun 2016 from annual population survey - regional - occupation by sex by employment type'}, {'value': 783900, 'description': 'Undefined Value for United Kingdom (geography), Permanent (Permanent/non-permanent), 213 Information Technology and Telecommunications Professionals (Occupation), Count (measure) for Jul 2015-Jun 2016 from annual population survey - regional - occupation by sex by employment type'}, {'value': 12653000, 'description': 'Undefined Value for United Kingdom (geography), Permanent (Permanent/non-permanent), Males (Sex), Count (measure) for Jul 2015-Jun 2016 from annual population survey - regional - occupation by sex by employment type'}, {'value': 648200, 'description': 'Undefined Value for United Kingdom (geography), Permanent (Permanent/non-permanent), Males (Sex), 213 Information Technology and Telecommunications Professionals (Occupation), Count (measure) for Jul 2015-Jun 2016 from annual population survey - regional - occupation by sex by employment type'}, {'value': 12135700, 'description': 'Undefined Value for United Kingdom (geography), Permanent (Permanent/non-permanent), Females (Sex), Count (measure) for Jul 2015-Jun 2016 from annual population survey - regional - occupation by sex by employment type'}, {'value': 135700, 'description': 'Undefined Value for United Kingdom (geography), Permanent (Permanent/non-permanent), Females (Sex), 213 Information Technology and Telecommunications Professionals (Occupation), Count (measure) for Jul 2015-Jun 2016 from annual population survey - regional - occupation by sex by employment type'}, {'value': 24788700, 'description': 'Undefined Value for United Kingdom (geography), Permanent (Permanent/non-permanent), Employee (Employee/Self-employed), Count (measure) for Jul 2015-Jun 2016 from annual population survey - regional - occupation by sex by employment type'}, {'value': 783900, 'description': 'Undefined Value for United Kingdom (geography), Permanent (Permanent/non-permanent), Employee (Employee/Self-employed), 213 Information Technology and Telecommunications Professionals (Occupation), Count (measure) for Jul 2015-Jun 2016 from annual population survey - regional - occupation by sex by employment type'}, {'value': 12653000, 'description': 'Undefined Value for United Kingdom (geography), Permanent (Permanent/non-permanent), Employee (Employee/Self-employed), Males (Sex), Count (measure) for Jul 2015-Jun 2016 from annual population survey - regional - occupation by sex by employment type'}, {'value': 648200, 'description': 'Undefined Value for United Kingdom (geography), Permanent (Permanent/non-permanent), Employee (Employee/Self-employed), Males (Sex), 213 Information Technology and Telecommunications Professionals (Occupation), Count (measure) for Jul 2015-Jun 2016 from annual population survey - regional - occupation by sex by employment type'}, {'value': 12135700, 'description': 'Undefined Value for United Kingdom (geography), Permanent (Permanent/non-permanent), Employee (Employee/Self-employed), Females (Sex), Count (measure) for Jul 2015-Jun 2016 from annual population survey - regional - occupation by sex by employment type'}, {'value': 135700, 'description': 'Undefined Value for United Kingdom (geography), Permanent (Permanent/non-permanent), Employee (Employee/Self-employed), Females (Sex), 213 Information Technology and Telecommunications Professionals (Occupation), Count (measure) for Jul 2015-Jun 2016 from annual population survey - regional - occupation by sex by employment type'}, {'value': 18649700, 'description': 'Undefined Value for United Kingdom (geography), Permanent (Permanent/non-permanent), Full-time (Full/Part-time), Count (measure) for Jul 2015-Jun 2016 from annual population survey - regional - occupation by sex by employment type'}, {'value': 750000, 'description': 'Undefined Value for United Kingdom (geography), Permanent (Permanent/non-permanent), Full-time (Full/Part-time), 213 Information Technology and Telecommunications Professionals (Occupation), Count (measure) for Jul 2015-Jun 2016 from annual population survey - regional - occupation by sex by employment type'}, {'value': 11365500, 'description': 'Undefined Value for United Kingdom (geography), Permanent (Permanent/non-permanent), Full-time (Full/Part-time), Males (Sex), Count (measure) for Jul 2015-Jun 2016 from annual population survey - regional - occupation by sex by employment type'}, {'value': 637100, 'description': 'Undefined Value for United Kingdom (geography), Permanent (Permanent/non-permanent), Full-time (Full/Part-time), Males (Sex), 213 Information Technology and Telecommunications Professionals (Occupation), Count (measure) for Jul 2015-Jun 2016 from annual population survey - regional - occupation by sex by employment type'}, {'value': 7284300, 'description': 'Undefined Value for United Kingdom (geography), Permanent (Permanent/non-permanent), Full-time (Full/Part-time), Females (Sex), Count (measure) for Jul 2015-Jun 2016 from annual population survey - regional - occupation by sex by employment type'}, {'value': 112900, 'description': 'Undefined Value for United Kingdom (geography), Permanent (Permanent/non-permanent), Full-time (Full/Part-time), Females (Sex), 213 Information Technology and Telecommunications Professionals (Occupation), Count (measure) for Jul 2015-Jun 2016 from annual population survey - regional - occupation by sex by employment type'}, {'value': 18649700, 'description': 'Undefined Value for United Kingdom (geography), Permanent (Permanent/non-permanent), Full-time (Full/Part-time), Employee (Employee/Self-employed), Count (measure) for Jul 2015-Jun 2016 from annual population survey - regional - occupation by sex by employment type'}, {'value': 750000, 'description': 'Undefined Value for United Kingdom (geography), Permanent (Permanent/non-permanent), Full-time (Full/Part-time), Employee (Employee/Self-employed), 213 Information Technology and Telecommunications Professionals (Occupation), Count (measure) for Jul 2015-Jun 2016 from annual population survey - regional - occupation by sex by employment type'}, {'value': 11365500, 'description': 'Undefined Value for United Kingdom (geography), Permanent (Permanent/non-permanent), Full-time (Full/Part-time), Employee (Employee/Self-employed), Males (Sex), Count (measure) for Jul 2015-Jun 2016 from annual population survey - regional - occupation by sex by employment type'}, {'value': 637100, 'description': 'Undefined Value for United Kingdom (geography), Permanent (Permanent/non-permanent), Full-time (Full/Part-time), Employee (Employee/Self-employed), Males (Sex), 213 Information Technology and Telecommunications Professionals (Occupation), Count (measure) for Jul 2015-Jun 2016 from annual population survey - regional - occupation by sex by employment type'}, {'value': 7284300, 'description': 'Undefined Value for United Kingdom (geography), Permanent (Permanent/non-permanent), Full-time (Full/Part-time), Employee (Employee/Self-employed), Females (Sex), Count (measure) for Jul 2015-Jun 2016 from annual population survey - regional - occupation by sex by employment type'}, {'value': 112900, 'description': 'Undefined Value for United Kingdom (geography), Permanent (Permanent/non-permanent), Full-time (Full/Part-time), Employee (Employee/Self-employed), Females (Sex), 213 Information Technology and Telecommunications Professionals (Occupation), Count (measure) for Jul 2015-Jun 2016 from annual population survey - regional - occupation by sex by employment type'}, {'value': 167600, 'description': 'Undefined Confidence for United Kingdom (geography), Count (measure) for Jul 2015-Jun 2016 from annual population survey - regional - occupation by sex by employment type'}, {'value': 29000, 'description': 'Undefined Confidence for United Kingdom (geography), 213 Information Technology and Telecommunications Professionals (Occupation), Count (measure) for Jul 2015-Jun 2016 from annual population survey - regional - occupation by sex by employment type'}, {'value': 122300, 'description': 'Undefined Confidence for United Kingdom (geography), Males (Sex), Count (measure) for Jul 2015-Jun 2016 from annual population survey - regional - occupation by sex by employment type'}, {'value': 26500, 'description': 'Undefined Confidence for United Kingdom (geography), Males (Sex), 213 Information Technology and Telecommunications Professionals (Occupation), Count (measure) for Jul 2015-Jun 2016 from annual population survey - regional - occupation by sex by employment type'}, {'value': 114600, 'description': 'Undefined Confidence for United Kingdom (geography), Females (Sex), Count (measure) for Jul 2015-Jun 2016 from annual population survey - regional - occupation by sex by employment type'}, {'value': 11900, 'description': 'Undefined Confidence for United Kingdom (geography), Females (Sex), 213 Information Technology and Telecommunications Professionals (Occupation), Count (measure) for Jul 2015-Jun 2016 from annual population survey - regional - occupation by sex by employment type'}, {'value': 154200, 'description': 'Undefined Confidence for United Kingdom (geography), Employee (Employee/Self-employed), Count (measure) for Jul 2015-Jun 2016 from annual population survey - regional - occupation by sex by employment type'}, {'value': 27100, 'description': 'Undefined Confidence for United Kingdom (geography), Employee (Employee/Self-employed), 213 Information Technology and Telecommunications Professionals (Occupation), Count (measure) for Jul 2015-Jun 2016 from annual population survey - regional - occupation by sex by employment type'}, {'value': 109900, 'description': 'Undefined Confidence for United Kingdom (geography), Employee (Employee/Self-employed), Males (Sex), Count (measure) for Jul 2015-Jun 2016 from annual population survey - regional - occupation by sex by employment type'}, {'value': 24600, 'description': 'Undefined Confidence for United Kingdom (geography), Employee (Employee/Self-employed), Males (Sex), 213 Information Technology and Telecommunications Professionals (Occupation), Count (measure) for Jul 2015-Jun 2016 from annual population survey - regional - occupation by sex by employment type'}, {'value': 108200, 'description': 'Undefined Confidence for United Kingdom (geography), Employee (Employee/Self-employed), Females (Sex), Count (measure) for Jul 2015-Jun 2016 from annual population survey - regional - occupation by sex by employment type'}, {'value': 11300, 'description': 'Undefined Confidence for United Kingdom (geography), Employee (Employee/Self-employed), Females (Sex), 213 Information Technology and Telecommunications Professionals (Occupation), Count (measure) for Jul 2015-Jun 2016 from annual population survey - regional - occupation by sex by employment type'}, {'value': 143200, 'description': 'Undefined Confidence for United Kingdom (geography), Full-time (Full/Part-time), Count (measure) for Jul 2015-Jun 2016 from annual population survey - regional - occupation by sex by employment type'}, {'value': 28100, 'description': 'Undefined Confidence for United Kingdom (geography), Full-time (Full/Part-time), 213 Information Technology and Telecommunications Professionals (Occupation), Count (measure) for Jul 2015-Jun 2016 from annual population survey - regional - occupation by sex by employment type'}, {'value': 113900, 'description': 'Undefined Confidence for United Kingdom (geography), Full-time (Full/Part-time), Males (Sex), Count (measure) for Jul 2015-Jun 2016 from annual population survey - regional - occupation by sex by employment type'}, {'value': 26000, 'description': 'Undefined Confidence for United Kingdom (geography), Full-time (Full/Part-time), Males (Sex), 213 Information Technology and Telecommunications Professionals (Occupation), Count (measure) for Jul 2015-Jun 2016 from annual population survey - regional - occupation by sex by employment type'}, {'value': 86800, 'description': 'Undefined Confidence for United Kingdom (geography), Full-time (Full/Part-time), Females (Sex), Count (measure) for Jul 2015-Jun 2016 from annual population survey - regional - occupation by sex by employment type'}, {'value': 10700, 'description': 'Undefined Confidence for United Kingdom (geography), Full-time (Full/Part-time), Females (Sex), 213 Information Technology and Telecommunications Professionals (Occupation), Count (measure) for Jul 2015-Jun 2016 from annual population survey - regional - occupation by sex by employment type'}, {'value': 132400, 'description': 'Undefined Confidence for United Kingdom (geography), Full-time (Full/Part-time), Employee (Employee/Self-employed), Count (measure) for Jul 2015-Jun 2016 from annual population survey - regional - occupation by sex by employment type'}, {'value': 26400, 'description': 'Undefined Confidence for United Kingdom (geography), Full-time (Full/Part-time), Employee (Employee/Self-employed), 213 Information Technology and Telecommunications Professionals (Occupation), Count (measure) for Jul 2015-Jun 2016 from annual population survey - regional - occupation by sex by employment type'}, {'value': 103100, 'description': 'Undefined Confidence for United Kingdom (geography), Full-time (Full/Part-time), Employee (Employee/Self-employed), Males (Sex), Count (measure) for Jul 2015-Jun 2016 from annual population survey - regional - occupation by sex by employment type'}, {'value': 24300, 'description': 'Undefined Confidence for United Kingdom (geography), Full-time (Full/Part-time), Employee (Employee/Self-employed), Males (Sex), 213 Information Technology and Telecommunications Professionals (Occupation), Count (measure) for Jul 2015-Jun 2016 from annual population survey - regional - occupation by sex by employment type'}, {'value': 83000, 'description': 'Undefined Confidence for United Kingdom (geography), Full-time (Full/Part-time), Employee (Employee/Self-employed), Females (Sex), Count (measure) for Jul 2015-Jun 2016 from annual population survey - regional - occupation by sex by employment type'}, {'value': 10300, 'description': 'Undefined Confidence for United Kingdom (geography), Full-time (Full/Part-time), Employee (Employee/Self-employed), Females (Sex), 213 Information Technology and Telecommunications Professionals (Occupation), Count (measure) for Jul 2015-Jun 2016 from annual population survey - regional - occupation by sex by employment type'}, {'value': 149300, 'description': 'Undefined Confidence for United Kingdom (geography), Permanent (Permanent/non-permanent), Count (measure) for Jul 2015-Jun 2016 from annual population survey - regional - occupation by sex by employment type'}, {'value': 26600, 'description': 'Undefined Confidence for United Kingdom (geography), Permanent (Permanent/non-permanent), 213 Information Technology and Telecommunications Professionals (Occupation), Count (measure) for Jul 2015-Jun 2016 from annual population survey - regional - occupation by sex by employment type'}, {'value': 106700, 'description': 'Undefined Confidence for United Kingdom (geography), Permanent (Permanent/non-permanent), Males (Sex), Count (measure) for Jul 2015-Jun 2016 from annual population survey - regional - occupation by sex by employment type'}, {'value': 24100, 'description': 'Undefined Confidence for United Kingdom (geography), Permanent (Permanent/non-permanent), Males (Sex), 213 Information Technology and Telecommunications Professionals (Occupation), Count (measure) for Jul 2015-Jun 2016 from annual population survey - regional - occupation by sex by employment type'}, {'value': 104500, 'description': 'Undefined Confidence for United Kingdom (geography), Permanent (Permanent/non-permanent), Females (Sex), Count (measure) for Jul 2015-Jun 2016 from annual population survey - regional - occupation by sex by employment type'}, {'value': 11000, 'description': 'Undefined Confidence for United Kingdom (geography), Permanent (Permanent/non-permanent), Females (Sex), 213 Information Technology and Telecommunications Professionals (Occupation), Count (measure) for Jul 2015-Jun 2016 from annual population survey - regional - occupation by sex by employment type'}, {'value': 149300, 'description': 'Undefined Confidence for United Kingdom (geography), Permanent (Permanent/non-permanent), Employee (Employee/Self-employed), Count (measure) for Jul 2015-Jun 2016 from annual population survey - regional - occupation by sex by employment type'}, {'value': 26600, 'description': 'Undefined Confidence for United Kingdom (geography), Permanent (Permanent/non-permanent), Employee (Employee/Self-employed), 213 Information Technology and Telecommunications Professionals (Occupation), Count (measure) for Jul 2015-Jun 2016 from annual population survey - regional - occupation by sex by employment type'}, {'value': 106700, 'description': 'Undefined Confidence for United Kingdom (geography), Permanent (Permanent/non-permanent), Employee (Employee/Self-employed), Males (Sex), Count (measure) for Jul 2015-Jun 2016 from annual population survey - regional - occupation by sex by employment type'}, {'value': 24100, 'description': 'Undefined Confidence for United Kingdom (geography), Permanent (Permanent/non-permanent), Employee (Employee/Self-employed), Males (Sex), 213 Information Technology and Telecommunications Professionals (Occupation), Count (measure) for Jul 2015-Jun 2016 from annual population survey - regional - occupation by sex by employment type'}, {'value': 104500, 'description': 'Undefined Confidence for United Kingdom (geography), Permanent (Permanent/non-permanent), Employee (Employee/Self-employed), Females (Sex), Count (measure) for Jul 2015-Jun 2016 from annual population survey - regional - occupation by sex by employment type'}, {'value': 11000, 'description': 'Undefined Confidence for United Kingdom (geography), Permanent (Permanent/non-permanent), Employee (Employee/Self-employed), Females (Sex), 213 Information Technology and Telecommunications Professionals (Occupation), Count (measure) for Jul 2015-Jun 2016 from annual population survey - regional - occupation by sex by employment type'}, {'value': 129500, 'description': 'Undefined Confidence for United Kingdom (geography), Permanent (Permanent/non-permanent), Full-time (Full/Part-time), Count (measure) for Jul 2015-Jun 2016 from annual population survey - regional - occupation by sex by employment type'}, {'value': 26000, 'description': 'Undefined Confidence for United Kingdom (geography), Permanent (Permanent/non-permanent), Full-time (Full/Part-time), 213 Information Technology and Telecommunications Professionals (Occupation), Count (measure) for Jul 2015-Jun 2016 from annual population survey - regional - occupation by sex by employment type'}, {'value': 101100, 'description': 'Undefined Confidence for United Kingdom (geography), Permanent (Permanent/non-permanent), Full-time (Full/Part-time), Males (Sex), Count (measure) for Jul 2015-Jun 2016 from annual population survey - regional - occupation by sex by employment type'}, {'value': 23900, 'description': 'Undefined Confidence for United Kingdom (geography), Permanent (Permanent/non-permanent), Full-time (Full/Part-time), Males (Sex), 213 Information Technology and Telecommunications Professionals (Occupation), Count (measure) for Jul 2015-Jun 2016 from annual population survey - regional - occupation by sex by employment type'}, {'value': 80900, 'description': 'Undefined Confidence for United Kingdom (geography), Permanent (Permanent/non-permanent), Full-time (Full/Part-time), Females (Sex), Count (measure) for Jul 2015-Jun 2016 from annual population survey - regional - occupation by sex by employment type'}, {'value': 10100, 'description': 'Undefined Confidence for United Kingdom (geography), Permanent (Permanent/non-permanent), Full-time (Full/Part-time), Females (Sex), 213 Information Technology and Telecommunications Professionals (Occupation), Count (measure) for Jul 2015-Jun 2016 from annual population survey - regional - occupation by sex by employment type'}, {'value': 129500, 'description': 'Undefined Confidence for United Kingdom (geography), Permanent (Permanent/non-permanent), Full-time (Full/Part-time), Employee (Employee/Self-employed), Count (measure) for Jul 2015-Jun 2016 from annual population survey - regional - occupation by sex by employment type'}, {'value': 26000, 'description': 'Undefined Confidence for United Kingdom (geography), Permanent (Permanent/non-permanent), Full-time (Full/Part-time), Employee (Employee/Self-employed), 213 Information Technology and Telecommunications Professionals (Occupation), Count (measure) for Jul 2015-Jun 2016 from annual population survey - regional - occupation by sex by employment type'}, {'value': 101100, 'description': 'Undefined Confidence for United Kingdom (geography), Permanent (Permanent/non-permanent), Full-time (Full/Part-time), Employee (Employee/Self-employed), Males (Sex), Count (measure) for Jul 2015-Jun 2016 from annual population survey - regional - occupation by sex by employment type'}, {'value': 23900, 'description': 'Undefined Confidence for United Kingdom (geography), Permanent (Permanent/non-permanent), Full-time (Full/Part-time), Employee (Employee/Self-employed), Males (Sex), 213 Information Technology and Telecommunications Professionals (Occupation), Count (measure) for Jul 2015-Jun 2016 from annual population survey - regional - occupation by sex by employment type'}, {'value': 80900, 'description': 'Undefined Confidence for United Kingdom (geography), Permanent (Permanent/non-permanent), Full-time (Full/Part-time), Employee (Employee/Self-employed), Females (Sex), Count (measure) for Jul 2015-Jun 2016 from annual population survey - regional - occupation by sex by employment type'}, {'value': 10100, 'description': 'Undefined Confidence for United Kingdom (geography), Permanent (Permanent/non-permanent), Full-time (Full/Part-time), Employee (Employee/Self-employed), Females (Sex), 213 Information Technology and Telecommunications Professionals (Occupation), Count (measure) for Jul 2015-Jun 2016 from annual population survey - regional - occupation by sex by employment type'}]\n"
     ]
    }
   ],
   "source": [
    "#make a call to the API and parse to json file\n",
    "link = \"https://www.nomisweb.co.uk/api/v01/dataset/NM_210_1.data.json?geography=2092957697&date=latestMINUS20&jtype=0,1&ftpt=0,1&etype=0,1&c_sex=0...2&c_occpuk11h_0=0,20002&measure=1&measures=20100,20701\"\n",
    "r = requests.get(link)\n",
    "data = r.json()\n",
    "\n",
    "#create df from json file\n",
    "df_2016_UK = pd.DataFrame(data['obs'])\n",
    "\n",
    "#get specific data from within the list of dictionaries and store to variable Sex_UK_Count_16\n",
    "Sex_UK_Count_16 = list(map(itemgetter('obs_value'), data['obs']))\n",
    "print(Sex_UK_Count_16)\n"
   ]
  },
  {
   "cell_type": "code",
   "execution_count": 246,
   "id": "11dd70b1",
   "metadata": {},
   "outputs": [
    {
     "data": {
      "text/html": [
       "<div>\n",
       "<style scoped>\n",
       "    .dataframe tbody tr th:only-of-type {\n",
       "        vertical-align: middle;\n",
       "    }\n",
       "\n",
       "    .dataframe tbody tr th {\n",
       "        vertical-align: top;\n",
       "    }\n",
       "\n",
       "    .dataframe thead th {\n",
       "        text-align: right;\n",
       "    }\n",
       "</style>\n",
       "<table border=\"1\" class=\"dataframe\">\n",
       "  <thead>\n",
       "    <tr style=\"text-align: right;\">\n",
       "      <th></th>\n",
       "      <th>value</th>\n",
       "      <th>description</th>\n",
       "    </tr>\n",
       "  </thead>\n",
       "  <tbody>\n",
       "    <tr>\n",
       "      <th>0</th>\n",
       "      <td>31239300</td>\n",
       "      <td>Undefined Value for United Kingdom (geography)...</td>\n",
       "    </tr>\n",
       "    <tr>\n",
       "      <th>1</th>\n",
       "      <td>938100</td>\n",
       "      <td>Undefined Value for United Kingdom (geography)...</td>\n",
       "    </tr>\n",
       "    <tr>\n",
       "      <th>2</th>\n",
       "      <td>16642000</td>\n",
       "      <td>Undefined Value for United Kingdom (geography)...</td>\n",
       "    </tr>\n",
       "    <tr>\n",
       "      <th>3</th>\n",
       "      <td>780900</td>\n",
       "      <td>Undefined Value for United Kingdom (geography)...</td>\n",
       "    </tr>\n",
       "    <tr>\n",
       "      <th>4</th>\n",
       "      <td>14597300</td>\n",
       "      <td>Undefined Value for United Kingdom (geography)...</td>\n",
       "    </tr>\n",
       "    <tr>\n",
       "      <th>...</th>\n",
       "      <td>...</td>\n",
       "      <td>...</td>\n",
       "    </tr>\n",
       "    <tr>\n",
       "      <th>91</th>\n",
       "      <td>26000</td>\n",
       "      <td>Undefined Confidence for United Kingdom (geogr...</td>\n",
       "    </tr>\n",
       "    <tr>\n",
       "      <th>92</th>\n",
       "      <td>101100</td>\n",
       "      <td>Undefined Confidence for United Kingdom (geogr...</td>\n",
       "    </tr>\n",
       "    <tr>\n",
       "      <th>93</th>\n",
       "      <td>23900</td>\n",
       "      <td>Undefined Confidence for United Kingdom (geogr...</td>\n",
       "    </tr>\n",
       "    <tr>\n",
       "      <th>94</th>\n",
       "      <td>80900</td>\n",
       "      <td>Undefined Confidence for United Kingdom (geogr...</td>\n",
       "    </tr>\n",
       "    <tr>\n",
       "      <th>95</th>\n",
       "      <td>10100</td>\n",
       "      <td>Undefined Confidence for United Kingdom (geogr...</td>\n",
       "    </tr>\n",
       "  </tbody>\n",
       "</table>\n",
       "<p>96 rows × 2 columns</p>\n",
       "</div>"
      ],
      "text/plain": [
       "       value                                        description\n",
       "0   31239300  Undefined Value for United Kingdom (geography)...\n",
       "1     938100  Undefined Value for United Kingdom (geography)...\n",
       "2   16642000  Undefined Value for United Kingdom (geography)...\n",
       "3     780900  Undefined Value for United Kingdom (geography)...\n",
       "4   14597300  Undefined Value for United Kingdom (geography)...\n",
       "..       ...                                                ...\n",
       "91     26000  Undefined Confidence for United Kingdom (geogr...\n",
       "92    101100  Undefined Confidence for United Kingdom (geogr...\n",
       "93     23900  Undefined Confidence for United Kingdom (geogr...\n",
       "94     80900  Undefined Confidence for United Kingdom (geogr...\n",
       "95     10100  Undefined Confidence for United Kingdom (geogr...\n",
       "\n",
       "[96 rows x 2 columns]"
      ]
     },
     "execution_count": 246,
     "metadata": {},
     "output_type": "execute_result"
    }
   ],
   "source": [
    "#create df from exatrcted values\n",
    "df_sex_16_UK = pd.DataFrame(Sex_UK_Count_16)\n",
    "df_sex_16_UK"
   ]
  },
  {
   "cell_type": "code",
   "execution_count": 247,
   "id": "ea41246a",
   "metadata": {},
   "outputs": [],
   "source": [
    "#export this data to a csv file \n",
    "df_sex_16_UK.to_csv('Sex_UK_16.csv')"
   ]
  },
  {
   "cell_type": "code",
   "execution_count": 248,
   "id": "2617592c",
   "metadata": {},
   "outputs": [],
   "source": [
    "#extract values for count of M and F in UK for 2016 and assign to variables\n",
    "Males_UK_16 = df_sex_16_UK.at[3, 'value']\n",
    "Females_UK_16 = df_sex_16_UK.at[5, 'value']"
   ]
  },
  {
   "cell_type": "markdown",
   "id": "af33a4a7",
   "metadata": {},
   "source": [
    "### Create Data Frame to store data on total count of Tech occupations by sex, by region"
   ]
  },
  {
   "cell_type": "code",
   "execution_count": 249,
   "id": "d687df2f",
   "metadata": {},
   "outputs": [
    {
     "name": "stdout",
     "output_type": "stream",
     "text": [
      "Empty DataFrame\n",
      "Columns: [Year, Males, Females, Location]\n",
      "Index: []\n"
     ]
    }
   ],
   "source": [
    "#assign column names to a list\n",
    "column_names = [\"Year\", \"Males\", \"Females\", \"Location\"]\n",
    "\n",
    "#Create empty DataFrame with `column_names`\n",
    "Results_df = pd.DataFrame(columns = column_names)\n",
    "\n",
    "print(Results_df)"
   ]
  },
  {
   "cell_type": "code",
   "execution_count": 250,
   "id": "6f1bb1e6",
   "metadata": {},
   "outputs": [
    {
     "name": "stdout",
     "output_type": "stream",
     "text": [
      "    Year    Males Females          Location\n",
      "0   2021   909800  238800           England\n",
      "1   2020   818800  168900           England\n",
      "2   2019   750800  149600           England\n",
      "3   2018   692600  149600           England\n",
      "4   2017   697200  145400           England\n",
      "5   2016   689100  137200           England\n",
      "6   2021    24700    5900             Wales\n",
      "7   2020    25500    4400             Wales\n",
      "8   2019    22000    4500             Wales\n",
      "9   2018    23000    4100             Wales\n",
      "10  2017    23400    3600             Wales\n",
      "11  2016    19400    4200             Wales\n",
      "12  2021    26200    5000  Northern Ireland\n",
      "13  2020    17600    3900  Northern Ireland\n",
      "14  2019    15200    2500  Northern Ireland\n",
      "15  2018    17500    2900  Northern Ireland\n",
      "16  2017    13800    2800  Northern Ireland\n",
      "17  2016    15700    2800  Northern Ireland\n",
      "18  2021    72700   20000          Scotland\n",
      "19  2020    53400   14600          Scotland\n",
      "20  2019    49500   12600          Scotland\n",
      "21  2018    55600   17200          Scotland\n",
      "22  2017    55000   14900          Scotland\n",
      "23  2016    56800   13000          Scotland\n",
      "24  2021  1033400  269600                UK\n",
      "25  2020   915300  191800                UK\n",
      "26  2019   837500  169200                UK\n",
      "27  2018   788800  173800                UK\n",
      "28  2017   789400  166800                UK\n",
      "29  2016   780900  157100                UK\n"
     ]
    }
   ],
   "source": [
    "#append rows to the empty df\n",
    "#England\n",
    "Results_df = Results_df.append({'Year': '2021', 'Males': Males_England_21, 'Females': Females_England_21,\"Location\": 'England'}, ignore_index=True)\n",
    "Results_df = Results_df.append({'Year': '2020', 'Males': Males_England_20, 'Females': Females_England_20, \"Location\": 'England'}, ignore_index=True)\n",
    "Results_df = Results_df.append({'Year': '2019', 'Males': Males_England_19, 'Females': Females_England_19, \"Location\": 'England'}, ignore_index=True)\n",
    "Results_df = Results_df.append({'Year': '2018', 'Males': Males_England_18, 'Females': Females_England_18, \"Location\": 'England'}, ignore_index=True)\n",
    "Results_df = Results_df.append({'Year': '2017', 'Males': Males_England_17, 'Females': Females_England_17, \"Location\": 'England'}, ignore_index=True)\n",
    "Results_df = Results_df.append({'Year': '2016', 'Males': Males_England_16, 'Females': Females_England_16, \"Location\": 'England'}, ignore_index=True)\n",
    "#Wales\n",
    "Results_df = Results_df.append({'Year': '2021', 'Males': Males_Wales_21, 'Females': Females_Wales_21, \"Location\": 'Wales'}, ignore_index=True)\n",
    "Results_df = Results_df.append({'Year': '2020', 'Males': Males_Wales_20, 'Females': Females_Wales_20, \"Location\": 'Wales'}, ignore_index=True)\n",
    "Results_df = Results_df.append({'Year': '2019', 'Males': Males_Wales_19, 'Females': Females_Wales_19, \"Location\": 'Wales'}, ignore_index=True)\n",
    "Results_df = Results_df.append({'Year': '2018', 'Males': Males_Wales_18, 'Females': Females_Wales_18, \"Location\": 'Wales'}, ignore_index=True)\n",
    "Results_df = Results_df.append({'Year': '2017', 'Males': Males_Wales_17, 'Females': Females_Wales_17, \"Location\": 'Wales'}, ignore_index=True)\n",
    "Results_df = Results_df.append({'Year': '2016', 'Males': Males_Wales_16, 'Females': Females_Wales_16, \"Location\": 'Wales'}, ignore_index=True)\n",
    "#Northern Ireland\n",
    "Results_df = Results_df.append({'Year': '2021', 'Males': Males_NI_21, 'Females': Females_NI_21, \"Location\": 'Northern Ireland'}, ignore_index=True)\n",
    "Results_df = Results_df.append({'Year': '2020', 'Males': Males_NI_20, 'Females': Females_NI_20, \"Location\": 'Northern Ireland'}, ignore_index=True)\n",
    "Results_df = Results_df.append({'Year': '2019', 'Males': Males_NI_19, 'Females': Females_NI_19, \"Location\": 'Northern Ireland'}, ignore_index=True)\n",
    "Results_df = Results_df.append({'Year': '2018', 'Males': Males_NI_18, 'Females': Females_NI_18, \"Location\": 'Northern Ireland'}, ignore_index=True)\n",
    "Results_df = Results_df.append({'Year': '2017', 'Males': Males_NI_17, 'Females': Females_NI_17, \"Location\": 'Northern Ireland'}, ignore_index=True)\n",
    "Results_df = Results_df.append({'Year': '2016', 'Males': Males_NI_16, 'Females': Females_NI_16, \"Location\": 'Northern Ireland'}, ignore_index=True)\n",
    "#Scotland\n",
    "Results_df = Results_df.append({'Year': '2021', 'Males': Males_Scot_21, 'Females': Females_Scot_21, \"Location\": 'Scotland'}, ignore_index=True)\n",
    "Results_df = Results_df.append({'Year': '2020', 'Males': Males_Scot_20, 'Females': Females_Scot_20, \"Location\": 'Scotland'}, ignore_index=True)\n",
    "Results_df = Results_df.append({'Year': '2019', 'Males': Males_Scot_19, 'Females': Females_Scot_19, \"Location\": 'Scotland'}, ignore_index=True)\n",
    "Results_df = Results_df.append({'Year': '2018', 'Males': Males_Scot_18, 'Females': Females_Scot_18, \"Location\": 'Scotland'}, ignore_index=True)\n",
    "Results_df = Results_df.append({'Year': '2017', 'Males': Males_Scot_17, 'Females': Females_Scot_17, \"Location\": 'Scotland'}, ignore_index=True)\n",
    "Results_df = Results_df.append({'Year': '2016', 'Males': Males_Scot_16, 'Females': Females_Scot_16, \"Location\": 'Scotland'}, ignore_index=True)\n",
    "#UK\n",
    "Results_df = Results_df.append({'Year': '2021', 'Males': Males_UK_21, 'Females': Females_UK_21, \"Location\": 'UK'}, ignore_index=True)\n",
    "Results_df = Results_df.append({'Year': '2020', 'Males': Males_UK_20, 'Females': Females_UK_20, \"Location\": 'UK'}, ignore_index=True)\n",
    "Results_df = Results_df.append({'Year': '2019', 'Males': Males_UK_19, 'Females': Females_UK_19, \"Location\": 'UK'}, ignore_index=True)\n",
    "Results_df = Results_df.append({'Year': '2018', 'Males': Males_UK_18, 'Females': Females_UK_18, \"Location\": 'UK'}, ignore_index=True)\n",
    "Results_df = Results_df.append({'Year': '2017', 'Males': Males_UK_17, 'Females': Females_UK_17, \"Location\": 'UK'}, ignore_index=True)\n",
    "Results_df = Results_df.append({'Year': '2016', 'Males': Males_UK_16, 'Females': Females_UK_16, \"Location\": 'UK'}, ignore_index=True)\n",
    "\n",
    "print(Results_df)\n",
    "\n"
   ]
  },
  {
   "cell_type": "code",
   "execution_count": 251,
   "id": "6db1efcf",
   "metadata": {},
   "outputs": [],
   "source": [
    "#export this data to a csv file \n",
    "Results_df.to_csv('Sex_Total_Count_All_UK.csv')"
   ]
  },
  {
   "cell_type": "code",
   "execution_count": null,
   "id": "d99b852c",
   "metadata": {},
   "outputs": [],
   "source": []
  }
 ],
 "metadata": {
  "kernelspec": {
   "display_name": "Python 3 (ipykernel)",
   "language": "python",
   "name": "python3"
  },
  "language_info": {
   "codemirror_mode": {
    "name": "ipython",
    "version": 3
   },
   "file_extension": ".py",
   "mimetype": "text/x-python",
   "name": "python",
   "nbconvert_exporter": "python",
   "pygments_lexer": "ipython3",
   "version": "3.9.7"
  }
 },
 "nbformat": 4,
 "nbformat_minor": 5
}
