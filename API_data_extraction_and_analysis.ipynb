{
 "cells": [
  {
   "cell_type": "code",
   "execution_count": null,
   "id": "86665d89",
   "metadata": {},
   "outputs": [],
   "source": [
    "pip install pandas"
   ]
  },
  {
   "cell_type": "code",
   "execution_count": null,
   "id": "57da89ae",
   "metadata": {},
   "outputs": [],
   "source": [
    "pip install requests"
   ]
  },
  {
   "cell_type": "code",
   "execution_count": null,
   "id": "33155dce",
   "metadata": {},
   "outputs": [],
   "source": [
    "import pandas as pd\n",
    "import requests\n",
    "import json"
   ]
  },
  {
   "cell_type": "markdown",
   "id": "5775d62d",
   "metadata": {},
   "source": [
    "### This section uses the Nomis API from the ONS to extract data on the total count of people in Technology roles by sex and region in the UK"
   ]
  },
  {
   "cell_type": "markdown",
   "id": "b2e40f68",
   "metadata": {},
   "source": [
    "#### England 2021"
   ]
  },
  {
   "cell_type": "code",
   "execution_count": null,
   "id": "754e0ab0",
   "metadata": {},
   "outputs": [],
   "source": [
    "#make a call to the API and parse to json file\n",
    "link = \"https://www.nomisweb.co.uk/api/v01/dataset/NM_210_1.data.json?geography=2092957699&date=latest&jtype=0,1&ftpt=0,1&etype=0,1&c_sex=0...2&c_occpuk11h_0=0,20002&measure=1&measures=20100,20701\"\n",
    "r = requests.get(link)\n",
    "data = r.json()\n",
    "\n",
    "#create df from json file\n",
    "df_2021_Eng = pd.DataFrame(data['obs'])\n",
    "df_2021_Eng"
   ]
  },
  {
   "cell_type": "code",
   "execution_count": null,
   "id": "7435116d",
   "metadata": {},
   "outputs": [],
   "source": [
    "data['obs']"
   ]
  },
  {
   "cell_type": "code",
   "execution_count": null,
   "id": "6af860d8",
   "metadata": {},
   "outputs": [],
   "source": [
    "type(data['obs'][0])"
   ]
  },
  {
   "cell_type": "code",
   "execution_count": null,
   "id": "c3b03eb4",
   "metadata": {
    "scrolled": false
   },
   "outputs": [],
   "source": [
    "#get specific data from within the list of dictionaries and store to variable Sex_Eng_Count_21\n",
    "from operator import itemgetter\n",
    "Sex_Eng_Count_21 = list(map(itemgetter('obs_value'), data['obs']))\n",
    "print(Sex_Eng_Count_21)"
   ]
  },
  {
   "cell_type": "code",
   "execution_count": null,
   "id": "4a0754ff",
   "metadata": {},
   "outputs": [],
   "source": [
    "#create df from exatrcted values\n",
    "df_sex_21_Eng = pd.DataFrame(Sex_Eng_Count_21)\n",
    "df_sex_21_Eng"
   ]
  },
  {
   "cell_type": "code",
   "execution_count": null,
   "id": "ac8fe21c",
   "metadata": {},
   "outputs": [],
   "source": [
    "#export this data to a csv file \n",
    "df_sex_21_Eng.to_csv('Sex_England_21.csv')"
   ]
  },
  {
   "cell_type": "code",
   "execution_count": null,
   "id": "0d0c21a7",
   "metadata": {},
   "outputs": [],
   "source": [
    "#extract values for count of M and F in England for 2021 and assign to variables\n",
    "Males_England_21 = df_sex_21_Eng.at[3, 'value']\n",
    "Females_England_21 = df_sex_21_Eng.at[5, 'value']"
   ]
  },
  {
   "cell_type": "markdown",
   "id": "78c2aca3",
   "metadata": {},
   "source": [
    "#### England 2020"
   ]
  },
  {
   "cell_type": "code",
   "execution_count": null,
   "id": "c3c3fcf6",
   "metadata": {},
   "outputs": [],
   "source": [
    "#make a call to the API and parse to json file\n",
    "link = \"https://www.nomisweb.co.uk/api/v01/dataset/NM_210_1.data.json?geography=2092957699&date=latestMINUS4&jtype=0,1&ftpt=0,1&etype=0,1&c_sex=0...2&c_occpuk11h_0=0,20002&measure=1&measures=20100,20701\"\n",
    "r = requests.get(link)\n",
    "data = r.json()\n",
    "\n",
    "#create df from json file\n",
    "df_2020_Eng = pd.DataFrame(data['obs'])\n"
   ]
  },
  {
   "cell_type": "code",
   "execution_count": null,
   "id": "e688e1c7",
   "metadata": {},
   "outputs": [],
   "source": [
    "#get specific data from within the list of dictionaries and store to variable Sex_Eng_Count_20\n",
    "Sex_Eng_Count_20 = list(map(itemgetter('obs_value'), data['obs']))\n",
    "print(Sex_Eng_Count_20)"
   ]
  },
  {
   "cell_type": "code",
   "execution_count": null,
   "id": "4b6e0d71",
   "metadata": {},
   "outputs": [],
   "source": [
    "#create df from exatrcted values\n",
    "df_sex_20_Eng = pd.DataFrame(Sex_Eng_Count_20)\n",
    "df_sex_20_Eng"
   ]
  },
  {
   "cell_type": "code",
   "execution_count": null,
   "id": "13264a40",
   "metadata": {},
   "outputs": [],
   "source": [
    "#export this data to a csv file \n",
    "df_sex_20_Eng.to_csv('Sex_England_20.csv')"
   ]
  },
  {
   "cell_type": "code",
   "execution_count": null,
   "id": "760b7ffd",
   "metadata": {},
   "outputs": [],
   "source": [
    "#extract values for count of M and F in England for 2021 and assign to variables\n",
    "Males_England_20 = df_sex_20_Eng.at[3, 'value']\n",
    "Females_England_20 = df_sex_20_Eng.at[5, 'value']"
   ]
  },
  {
   "cell_type": "markdown",
   "id": "35a2e7af",
   "metadata": {},
   "source": [
    "#### England 2019"
   ]
  },
  {
   "cell_type": "code",
   "execution_count": null,
   "id": "73bbb711",
   "metadata": {},
   "outputs": [],
   "source": [
    "#make a call to the API and parse to json file\n",
    "link = \"https://www.nomisweb.co.uk/api/v01/dataset/NM_210_1.data.json?geography=2092957699&date=latestMINUS8&jtype=0,1&ftpt=0,1&etype=0,1&c_sex=0...2&c_occpuk11h_0=0,20002&measure=1&measures=20100,20701\"\n",
    "r = requests.get(link)\n",
    "data = r.json()\n",
    "\n",
    "#create df from json file\n",
    "df_2019_Eng = pd.DataFrame(data['obs'])\n",
    "\n",
    "#get specific data from within the list of dictionaries and store to variable Sex_Eng_Count_19\n",
    "Sex_Eng_Count_19 = list(map(itemgetter('obs_value'), data['obs']))\n",
    "print(Sex_Eng_Count_19)"
   ]
  },
  {
   "cell_type": "code",
   "execution_count": null,
   "id": "cf448371",
   "metadata": {},
   "outputs": [],
   "source": [
    "#create df from exatrcted values\n",
    "df_sex_19_Eng = pd.DataFrame(Sex_Eng_Count_19)\n",
    "df_sex_19_Eng"
   ]
  },
  {
   "cell_type": "code",
   "execution_count": null,
   "id": "c9ede6ac",
   "metadata": {},
   "outputs": [],
   "source": [
    "#export this data to a csv file \n",
    "df_sex_19_Eng.to_csv('Sex_England_19.csv')"
   ]
  },
  {
   "cell_type": "code",
   "execution_count": null,
   "id": "ee0ae783",
   "metadata": {},
   "outputs": [],
   "source": [
    "#extract values for count of M and F in England for 2019 and assign to variables\n",
    "Males_England_19 = df_sex_19_Eng.at[3, 'value']\n",
    "Females_England_19 = df_sex_19_Eng.at[5, 'value']\n",
    "#I ran this check due to the duplicate value displaying for 2019 and 2018\n",
    "Females_England_19"
   ]
  },
  {
   "cell_type": "markdown",
   "id": "f89fc136",
   "metadata": {},
   "source": [
    "#### England 2018"
   ]
  },
  {
   "cell_type": "code",
   "execution_count": null,
   "id": "d7ffab36",
   "metadata": {},
   "outputs": [],
   "source": [
    "#make a call to the API and parse to json file\n",
    "link = \"https://www.nomisweb.co.uk/api/v01/dataset/NM_210_1.data.json?geography=2092957699&date=latestMINUS12&jtype=0,1&ftpt=0,1&etype=0,1&c_sex=0...2&c_occpuk11h_0=0,20002&measure=1&measures=20100,20701\"\n",
    "r = requests.get(link)\n",
    "data = r.json()\n",
    "\n",
    "#create df from json file\n",
    "df_2018_Eng = pd.DataFrame(data['obs'])\n",
    "\n",
    "#get specific data from within the list of dictionaries and store to variable Sex_Eng_Count_18\n",
    "Sex_Eng_Count_18 = list(map(itemgetter('obs_value'), data['obs']))\n",
    "print(Sex_Eng_Count_18)"
   ]
  },
  {
   "cell_type": "code",
   "execution_count": null,
   "id": "245904f0",
   "metadata": {},
   "outputs": [],
   "source": [
    "#create df from exatrcted values\n",
    "df_sex_18_Eng = pd.DataFrame(Sex_Eng_Count_18)\n",
    "df_sex_18_Eng"
   ]
  },
  {
   "cell_type": "code",
   "execution_count": null,
   "id": "69d0825c",
   "metadata": {},
   "outputs": [],
   "source": [
    "#export this data to a csv file \n",
    "df_sex_18_Eng.to_csv('Sex_England_18.csv')"
   ]
  },
  {
   "cell_type": "code",
   "execution_count": null,
   "id": "09f9c1fd",
   "metadata": {},
   "outputs": [],
   "source": [
    "#extract values for count of M and F in England for 2018 and assign to variables\n",
    "Males_England_18 = df_sex_18_Eng.at[3, 'value']\n",
    "Females_England_18 = df_sex_18_Eng.at[5, 'value']\n",
    "#I ran this check due to the duplicate value displaying for 2019 and 2018\n",
    "Females_England_18"
   ]
  },
  {
   "cell_type": "markdown",
   "id": "2265a002",
   "metadata": {},
   "source": [
    "#### England 2017"
   ]
  },
  {
   "cell_type": "code",
   "execution_count": null,
   "id": "7f4c7ba3",
   "metadata": {},
   "outputs": [],
   "source": [
    "#make a call to the API and parse to json file\n",
    "link = \"https://www.nomisweb.co.uk/api/v01/dataset/NM_210_1.data.json?geography=2092957699&date=latestMINUS16&jtype=0,1&ftpt=0,1&etype=0,1&c_sex=0...2&c_occpuk11h_0=0,20002&measure=1&measures=20100,20701\"\n",
    "r = requests.get(link)\n",
    "data = r.json()\n",
    "\n",
    "#create df from json file\n",
    "df_2017_Eng = pd.DataFrame(data['obs'])\n",
    "\n",
    "#get specific data from within the list of dictionaries and store to variable Sex_Eng_Count_20\n",
    "Sex_Eng_Count_17 = list(map(itemgetter('obs_value'), data['obs']))\n",
    "print(Sex_Eng_Count_17)\n"
   ]
  },
  {
   "cell_type": "code",
   "execution_count": null,
   "id": "9bf61e2f",
   "metadata": {},
   "outputs": [],
   "source": [
    "#create df from exatrcted values\n",
    "df_sex_17_Eng = pd.DataFrame(Sex_Eng_Count_17)\n",
    "df_sex_17_Eng"
   ]
  },
  {
   "cell_type": "code",
   "execution_count": null,
   "id": "f6f4f83c",
   "metadata": {},
   "outputs": [],
   "source": [
    "#export this data to a csv file \n",
    "df_sex_17_Eng.to_csv('Sex_England_17.csv')"
   ]
  },
  {
   "cell_type": "code",
   "execution_count": null,
   "id": "250e4033",
   "metadata": {},
   "outputs": [],
   "source": [
    "#extract values for count of M and F in England for 2017 and assign to variables\n",
    "Males_England_17 = df_sex_17_Eng.at[3, 'value']\n",
    "Females_England_17 = df_sex_17_Eng.at[5, 'value']\n",
    "Males_England_17"
   ]
  },
  {
   "cell_type": "markdown",
   "id": "d3fec25c",
   "metadata": {},
   "source": [
    "#### England 2016"
   ]
  },
  {
   "cell_type": "code",
   "execution_count": null,
   "id": "148f2ce6",
   "metadata": {},
   "outputs": [],
   "source": [
    "#make a call to the API and parse to json file\n",
    "link = \"https://www.nomisweb.co.uk/api/v01/dataset/NM_210_1.data.json?geography=2092957699&date=latestMINUS20&jtype=0,1&ftpt=0,1&etype=0,1&c_sex=0...2&c_occpuk11h_0=0,20002&measure=1&measures=20100,20701\"\n",
    "r = requests.get(link)\n",
    "data = r.json()\n",
    "\n",
    "#create df from json file\n",
    "df_2016_Eng = pd.DataFrame(data['obs'])\n",
    "\n",
    "#get specific data from within the list of dictionaries and store to variable Sex_Eng_Count_16\n",
    "Sex_Eng_Count_16 = list(map(itemgetter('obs_value'), data['obs']))\n",
    "print(Sex_Eng_Count_16)\n"
   ]
  },
  {
   "cell_type": "code",
   "execution_count": null,
   "id": "360436bd",
   "metadata": {},
   "outputs": [],
   "source": [
    "#create df from exatrcted values\n",
    "df_sex_16_Eng = pd.DataFrame(Sex_Eng_Count_16)\n",
    "df_sex_16_Eng"
   ]
  },
  {
   "cell_type": "code",
   "execution_count": null,
   "id": "fbcfa616",
   "metadata": {},
   "outputs": [],
   "source": [
    "#export this data to a csv file \n",
    "df_sex_16_Eng.to_csv('Sex_England_16.csv')"
   ]
  },
  {
   "cell_type": "code",
   "execution_count": null,
   "id": "e32af63d",
   "metadata": {},
   "outputs": [],
   "source": [
    "#extract values for count of M and F in England for 2016 and assign to variables\n",
    "Males_England_16 = df_sex_16_Eng.at[3, 'value']\n",
    "Females_England_16 = df_sex_16_Eng.at[5, 'value']\n"
   ]
  },
  {
   "cell_type": "markdown",
   "id": "b3eb8498",
   "metadata": {},
   "source": [
    "#### Wales 2021"
   ]
  },
  {
   "cell_type": "code",
   "execution_count": null,
   "id": "293e3b27",
   "metadata": {},
   "outputs": [],
   "source": [
    "#make a call to the API and parse to json file\n",
    "link = \"https://www.nomisweb.co.uk/api/v01/dataset/NM_210_1.data.json?geography=2092957700&date=latest&jtype=0,1&ftpt=0,1&etype=0,1&c_sex=0...2&c_occpuk11h_0=0,20002&measure=1&measures=20100,20701\"\n",
    "r = requests.get(link)\n",
    "data = r.json()\n",
    "\n",
    "#create df from json file\n",
    "df_2021_Wal = pd.DataFrame(data['obs'])\n",
    "\n",
    "#get specific data from within the list of dictionaries and store to variable Sex_Wal_Count_21\n",
    "Sex_Wal_Count_21 = list(map(itemgetter('obs_value'), data['obs']))\n",
    "print(Sex_Wal_Count_21)\n"
   ]
  },
  {
   "cell_type": "code",
   "execution_count": null,
   "id": "eaac5f4b",
   "metadata": {},
   "outputs": [],
   "source": [
    "#create df from exatrcted values\n",
    "df_sex_21_Wal = pd.DataFrame(Sex_Wal_Count_21)\n",
    "df_sex_21_Wal"
   ]
  },
  {
   "cell_type": "code",
   "execution_count": null,
   "id": "1c8123b6",
   "metadata": {},
   "outputs": [],
   "source": [
    "#export this data to a csv file \n",
    "df_sex_21_Wal.to_csv('Sex_Wales_21.csv')"
   ]
  },
  {
   "cell_type": "code",
   "execution_count": null,
   "id": "e05ef2ff",
   "metadata": {},
   "outputs": [],
   "source": [
    "#extract values for count of M and F in Wales for 2021 and assign to variables\n",
    "Males_Wales_21 = df_sex_21_Wal.at[3, 'value']\n",
    "Females_Wales_21 = df_sex_21_Wal.at[5, 'value']"
   ]
  },
  {
   "cell_type": "markdown",
   "id": "ff8ebf64",
   "metadata": {},
   "source": [
    "#### Wales 2020"
   ]
  },
  {
   "cell_type": "code",
   "execution_count": null,
   "id": "dc4bd7a5",
   "metadata": {},
   "outputs": [],
   "source": [
    "#make a call to the API and parse to json file\n",
    "link = \"https://www.nomisweb.co.uk/api/v01/dataset/NM_210_1.data.json?geography=2092957700&date=latestMINUS4&jtype=0,1&ftpt=0,1&etype=0,1&c_sex=0...2&c_occpuk11h_0=0,20002&measure=1&measures=20100,20701\"\n",
    "r = requests.get(link)\n",
    "data = r.json()\n",
    "\n",
    "#create df from json file\n",
    "df_2020_Wal = pd.DataFrame(data['obs'])\n",
    "\n",
    "#get specific data from within the list of dictionaries and store to variable Sex_Wal_Count_20\n",
    "Sex_Wal_Count_20 = list(map(itemgetter('obs_value'), data['obs']))\n",
    "print(Sex_Wal_Count_20)\n"
   ]
  },
  {
   "cell_type": "code",
   "execution_count": null,
   "id": "be870a6e",
   "metadata": {},
   "outputs": [],
   "source": [
    "#create df from exatrcted values\n",
    "df_sex_20_Wal = pd.DataFrame(Sex_Wal_Count_20)\n",
    "df_sex_20_Wal"
   ]
  },
  {
   "cell_type": "code",
   "execution_count": null,
   "id": "61c8367e",
   "metadata": {},
   "outputs": [],
   "source": [
    "#export this data to a csv file \n",
    "df_sex_20_Wal.to_csv('Sex_Wales_20.csv')"
   ]
  },
  {
   "cell_type": "code",
   "execution_count": null,
   "id": "7c00eab0",
   "metadata": {},
   "outputs": [],
   "source": [
    "#extract values for count of M and F in Wales for 2020 and assign to variables\n",
    "Males_Wales_20 = df_sex_20_Wal.at[3, 'value']\n",
    "Females_Wales_20 = df_sex_20_Wal.at[5, 'value']"
   ]
  },
  {
   "cell_type": "markdown",
   "id": "8729c401",
   "metadata": {},
   "source": [
    "#### Wales 2019"
   ]
  },
  {
   "cell_type": "code",
   "execution_count": null,
   "id": "37728932",
   "metadata": {},
   "outputs": [],
   "source": [
    "#make a call to the API and parse to json file\n",
    "link = \"https://www.nomisweb.co.uk/api/v01/dataset/NM_210_1.data.json?geography=2092957700&date=latestMINUS8&jtype=0,1&ftpt=0,1&etype=0,1&c_sex=0...2&c_occpuk11h_0=0,20002&measure=1&measures=20100,20701\"\n",
    "r = requests.get(link)\n",
    "data = r.json()\n",
    "\n",
    "#create df from json file\n",
    "df_2019_Wal = pd.DataFrame(data['obs'])\n",
    "\n",
    "#get specific data from within the list of dictionaries and store to variable Sex_Wal_Count_19\n",
    "Sex_Wal_Count_19 = list(map(itemgetter('obs_value'), data['obs']))\n",
    "print(Sex_Wal_Count_19)\n"
   ]
  },
  {
   "cell_type": "code",
   "execution_count": null,
   "id": "b963cb38",
   "metadata": {},
   "outputs": [],
   "source": [
    "#create df from exatrcted values\n",
    "df_sex_19_Wal = pd.DataFrame(Sex_Wal_Count_19)\n",
    "df_sex_19_Wal"
   ]
  },
  {
   "cell_type": "code",
   "execution_count": null,
   "id": "1e29ff49",
   "metadata": {},
   "outputs": [],
   "source": [
    "#export this data to a csv file \n",
    "df_sex_19_Wal.to_csv('Sex_Wales_19.csv')"
   ]
  },
  {
   "cell_type": "code",
   "execution_count": null,
   "id": "6ecf8d46",
   "metadata": {},
   "outputs": [],
   "source": [
    "#extract values for count of M and F in Wales for 2019 and assign to variables\n",
    "Males_Wales_19 = df_sex_19_Wal.at[3, 'value']\n",
    "Females_Wales_19 = df_sex_19_Wal.at[5, 'value']"
   ]
  },
  {
   "cell_type": "markdown",
   "id": "bef670fb",
   "metadata": {},
   "source": [
    "#### Wales 2018"
   ]
  },
  {
   "cell_type": "code",
   "execution_count": null,
   "id": "aa43629a",
   "metadata": {},
   "outputs": [],
   "source": [
    "#make a call to the API and parse to json file\n",
    "link = \"https://www.nomisweb.co.uk/api/v01/dataset/NM_210_1.data.json?geography=2092957700&date=latestMINUS12&jtype=0,1&ftpt=0,1&etype=0,1&c_sex=0...2&c_occpuk11h_0=0,20002&measure=1&measures=20100,20701\"\n",
    "r = requests.get(link)\n",
    "data = r.json()\n",
    "\n",
    "#create df from json file\n",
    "df_2018_Wal = pd.DataFrame(data['obs'])\n",
    "\n",
    "#get specific data from within the list of dictionaries and store to variable Sex_Wal_Count_18\n",
    "Sex_Wal_Count_18 = list(map(itemgetter('obs_value'), data['obs']))\n",
    "print(Sex_Wal_Count_18)\n"
   ]
  },
  {
   "cell_type": "code",
   "execution_count": null,
   "id": "ed26ebd7",
   "metadata": {},
   "outputs": [],
   "source": [
    "#create df from exatrcted values\n",
    "df_sex_18_Wal = pd.DataFrame(Sex_Wal_Count_18)\n",
    "df_sex_18_Wal"
   ]
  },
  {
   "cell_type": "code",
   "execution_count": null,
   "id": "7fa323af",
   "metadata": {},
   "outputs": [],
   "source": [
    "#export this data to a csv file \n",
    "df_sex_18_Wal.to_csv('Sex_Wales_18.csv')"
   ]
  },
  {
   "cell_type": "code",
   "execution_count": null,
   "id": "bb8e20da",
   "metadata": {},
   "outputs": [],
   "source": [
    "#extract values for count of M and F in Wales for 2018 and assign to variables\n",
    "Males_Wales_18 = df_sex_18_Wal.at[3, 'value']\n",
    "Females_Wales_18 = df_sex_18_Wal.at[5, 'value']"
   ]
  },
  {
   "cell_type": "markdown",
   "id": "92411944",
   "metadata": {},
   "source": [
    "#### Wales 2017"
   ]
  },
  {
   "cell_type": "code",
   "execution_count": null,
   "id": "57e22b63",
   "metadata": {},
   "outputs": [],
   "source": [
    "#make a call to the API and parse to json file\n",
    "link = \"https://www.nomisweb.co.uk/api/v01/dataset/NM_210_1.data.json?geography=2092957700&date=latestMINUS16&jtype=0,1&ftpt=0,1&etype=0,1&c_sex=0...2&c_occpuk11h_0=0,20002&measure=1&measures=20100,20701\"\n",
    "r = requests.get(link)\n",
    "data = r.json()\n",
    "\n",
    "#create df from json file\n",
    "df_2017_Wal = pd.DataFrame(data['obs'])\n",
    "\n",
    "#get specific data from within the list of dictionaries and store to variable Sex_Wal_Count_17\n",
    "Sex_Wal_Count_17 = list(map(itemgetter('obs_value'), data['obs']))\n",
    "print(Sex_Wal_Count_17)\n"
   ]
  },
  {
   "cell_type": "code",
   "execution_count": null,
   "id": "745e5032",
   "metadata": {},
   "outputs": [],
   "source": [
    "#create df from exatrcted values\n",
    "df_sex_17_Wal = pd.DataFrame(Sex_Wal_Count_17)\n",
    "df_sex_17_Wal"
   ]
  },
  {
   "cell_type": "code",
   "execution_count": null,
   "id": "b40b2658",
   "metadata": {},
   "outputs": [],
   "source": [
    "#export this data to a csv file \n",
    "df_sex_17_Wal.to_csv('Sex_Wales_17.csv')"
   ]
  },
  {
   "cell_type": "code",
   "execution_count": null,
   "id": "b1b6ac30",
   "metadata": {},
   "outputs": [],
   "source": [
    "#extract values for count of M and F in Wales for 2017 and assign to variables\n",
    "Males_Wales_17 = df_sex_17_Wal.at[3, 'value']\n",
    "Females_Wales_17 = df_sex_17_Wal.at[5, 'value']"
   ]
  },
  {
   "cell_type": "markdown",
   "id": "d8037c12",
   "metadata": {},
   "source": [
    "#### Wales 2016"
   ]
  },
  {
   "cell_type": "code",
   "execution_count": null,
   "id": "507f2111",
   "metadata": {},
   "outputs": [],
   "source": [
    "#make a call to the API and parse to json file\n",
    "link = \"https://www.nomisweb.co.uk/api/v01/dataset/NM_210_1.data.json?geography=2092957700&date=latestMINUS20&jtype=0,1&ftpt=0,1&etype=0,1&c_sex=0...2&c_occpuk11h_0=0,20002&measure=1&measures=20100,20701\"\n",
    "r = requests.get(link)\n",
    "data = r.json()\n",
    "\n",
    "#create df from json file\n",
    "df_2016_Wal = pd.DataFrame(data['obs'])\n",
    "\n",
    "#get specific data from within the list of dictionaries and store to variable Sex_Wal_Count_16\n",
    "Sex_Wal_Count_16 = list(map(itemgetter('obs_value'), data['obs']))\n",
    "print(Sex_Wal_Count_16)\n"
   ]
  },
  {
   "cell_type": "code",
   "execution_count": null,
   "id": "8333b56c",
   "metadata": {},
   "outputs": [],
   "source": [
    "#create df from exatrcted values\n",
    "df_sex_16_Wal = pd.DataFrame(Sex_Wal_Count_16)\n",
    "df_sex_16_Wal"
   ]
  },
  {
   "cell_type": "code",
   "execution_count": null,
   "id": "dd8bd8d6",
   "metadata": {},
   "outputs": [],
   "source": [
    "#export this data to a csv file \n",
    "df_sex_16_Wal.to_csv('Sex_Wales_16.csv')"
   ]
  },
  {
   "cell_type": "code",
   "execution_count": null,
   "id": "0fe71240",
   "metadata": {},
   "outputs": [],
   "source": [
    "#extract values for count of M and F in Wales for 2016 and assign to variables\n",
    "Males_Wales_16 = df_sex_16_Wal.at[3, 'value']\n",
    "Females_Wales_16 = df_sex_16_Wal.at[5, 'value']"
   ]
  },
  {
   "cell_type": "markdown",
   "id": "e70d976a",
   "metadata": {},
   "source": [
    "#### Northern Ireland 2021"
   ]
  },
  {
   "cell_type": "code",
   "execution_count": null,
   "id": "ca7d6a0e",
   "metadata": {},
   "outputs": [],
   "source": [
    "#make a call to the API and parse to json file\n",
    "link = \"https://www.nomisweb.co.uk/api/v01/dataset/NM_210_1.data.json?geography=2092957702&date=latest&jtype=0,1&ftpt=0,1&etype=0,1&c_sex=0...2&c_occpuk11h_0=0,20002&measure=1&measures=20100,20701\"\n",
    "r = requests.get(link)\n",
    "data = r.json()\n",
    "\n",
    "#create df from json file\n",
    "df_2021_NI = pd.DataFrame(data['obs'])\n",
    "\n",
    "#get specific data from within the list of dictionaries and store to variable Sex_NI_Count_21\n",
    "Sex_NI_Count_21 = list(map(itemgetter('obs_value'), data['obs']))\n",
    "print(Sex_NI_Count_21)\n"
   ]
  },
  {
   "cell_type": "code",
   "execution_count": null,
   "id": "678e923d",
   "metadata": {},
   "outputs": [],
   "source": [
    "#create df from exatrcted values\n",
    "df_sex_21_NI = pd.DataFrame(Sex_NI_Count_21)\n",
    "df_sex_21_NI"
   ]
  },
  {
   "cell_type": "code",
   "execution_count": null,
   "id": "8056f211",
   "metadata": {},
   "outputs": [],
   "source": [
    "#export this data to a csv file \n",
    "df_sex_21_NI.to_csv('Sex_NI_21.csv')"
   ]
  },
  {
   "cell_type": "code",
   "execution_count": null,
   "id": "581deb53",
   "metadata": {},
   "outputs": [],
   "source": [
    "#extract values for count of M and F in Northern Ireland for 2021 and assign to variables\n",
    "Males_NI_21 = df_sex_21_NI.at[3, 'value']\n",
    "Females_NI_21 = df_sex_21_NI.at[5, 'value']"
   ]
  },
  {
   "cell_type": "code",
   "execution_count": null,
   "id": "0a0b6e7c",
   "metadata": {},
   "outputs": [],
   "source": []
  },
  {
   "cell_type": "markdown",
   "id": "2dca0b0c",
   "metadata": {},
   "source": [
    "#### Northern Ireland 2020"
   ]
  },
  {
   "cell_type": "code",
   "execution_count": null,
   "id": "f9d07adb",
   "metadata": {},
   "outputs": [],
   "source": [
    "#make a call to the API and parse to json file\n",
    "link = \"https://www.nomisweb.co.uk/api/v01/dataset/NM_210_1.data.json?geography=2092957702&date=latestMINUS4&jtype=0,1&ftpt=0,1&etype=0,1&c_sex=0...2&c_occpuk11h_0=0,20002&measure=1&measures=20100,20701\"\n",
    "r = requests.get(link)\n",
    "data = r.json()\n",
    "\n",
    "#create df from json file\n",
    "df_2020_NI = pd.DataFrame(data['obs'])\n",
    "\n",
    "#get specific data from within the list of dictionaries and store to variable Sex_NI_Count_20\n",
    "Sex_NI_Count_20 = list(map(itemgetter('obs_value'), data['obs']))\n",
    "print(Sex_NI_Count_20)\n"
   ]
  },
  {
   "cell_type": "code",
   "execution_count": null,
   "id": "ed8bc502",
   "metadata": {},
   "outputs": [],
   "source": [
    "#create df from exatrcted values\n",
    "df_sex_20_NI = pd.DataFrame(Sex_NI_Count_20)\n",
    "df_sex_20_NI"
   ]
  },
  {
   "cell_type": "code",
   "execution_count": null,
   "id": "95657b4f",
   "metadata": {},
   "outputs": [],
   "source": [
    "#export this data to a csv file \n",
    "df_sex_20_NI.to_csv('Sex_NI_20.csv')"
   ]
  },
  {
   "cell_type": "code",
   "execution_count": null,
   "id": "d19ca588",
   "metadata": {},
   "outputs": [],
   "source": [
    "#extract values for count of M and F in Northern Ireland for 2020 and assign to variables\n",
    "Males_NI_20 = df_sex_20_NI.at[3, 'value']\n",
    "Females_NI_20 = df_sex_20_NI.at[5, 'value']"
   ]
  },
  {
   "cell_type": "markdown",
   "id": "7e6a642e",
   "metadata": {},
   "source": [
    "#### Northern Ireland 2019"
   ]
  },
  {
   "cell_type": "code",
   "execution_count": null,
   "id": "304eb87e",
   "metadata": {},
   "outputs": [],
   "source": [
    "#make a call to the API and parse to json file\n",
    "link = \"https://www.nomisweb.co.uk/api/v01/dataset/NM_210_1.data.json?geography=2092957702&date=latestMINUS8&jtype=0,1&ftpt=0,1&etype=0,1&c_sex=0...2&c_occpuk11h_0=0,20002&measure=1&measures=20100,20701\"\n",
    "r = requests.get(link)\n",
    "data = r.json()\n",
    "\n",
    "#create df from json file\n",
    "df_2019_NI = pd.DataFrame(data['obs'])\n",
    "\n",
    "#get specific data from within the list of dictionaries and store to variable Sex_NI_Count_19\n",
    "Sex_NI_Count_19 = list(map(itemgetter('obs_value'), data['obs']))\n",
    "print(Sex_NI_Count_19)\n"
   ]
  },
  {
   "cell_type": "code",
   "execution_count": null,
   "id": "6b594140",
   "metadata": {},
   "outputs": [],
   "source": [
    "#create df from exatrcted values\n",
    "df_sex_19_NI = pd.DataFrame(Sex_NI_Count_19)\n",
    "df_sex_19_NI"
   ]
  },
  {
   "cell_type": "code",
   "execution_count": null,
   "id": "f361c5ed",
   "metadata": {},
   "outputs": [],
   "source": [
    "#export this data to a csv file \n",
    "df_sex_19_NI.to_csv('Sex_NI_19.csv')"
   ]
  },
  {
   "cell_type": "code",
   "execution_count": null,
   "id": "fb6524af",
   "metadata": {},
   "outputs": [],
   "source": [
    "#extract values for count of M and F in Northern Ireland for 2019 and assign to variables\n",
    "Males_NI_19 = df_sex_19_NI.at[3, 'value']\n",
    "Females_NI_19 = df_sex_19_NI.at[5, 'value']"
   ]
  },
  {
   "cell_type": "code",
   "execution_count": null,
   "id": "0b6baf09",
   "metadata": {},
   "outputs": [],
   "source": []
  },
  {
   "cell_type": "markdown",
   "id": "ceb1e93d",
   "metadata": {},
   "source": [
    "#### Northern Ireland 2018"
   ]
  },
  {
   "cell_type": "code",
   "execution_count": null,
   "id": "6765e3b5",
   "metadata": {},
   "outputs": [],
   "source": [
    "#make a call to the API and parse to json file\n",
    "link = \"https://www.nomisweb.co.uk/api/v01/dataset/NM_210_1.data.json?geography=2092957702&date=latestMINUS12&jtype=0,1&ftpt=0,1&etype=0,1&c_sex=0...2&c_occpuk11h_0=0,20002&measure=1&measures=20100,20701\"\n",
    "r = requests.get(link)\n",
    "data = r.json()\n",
    "\n",
    "#create df from json file\n",
    "df_2018_NI = pd.DataFrame(data['obs'])\n",
    "\n",
    "#get specific data from within the list of dictionaries and store to variable Sex_NI_Count_18\n",
    "Sex_NI_Count_18 = list(map(itemgetter('obs_value'), data['obs']))\n",
    "print(Sex_NI_Count_18)\n"
   ]
  },
  {
   "cell_type": "code",
   "execution_count": null,
   "id": "a0770f45",
   "metadata": {},
   "outputs": [],
   "source": [
    "#create df from exatrcted values\n",
    "df_sex_18_NI = pd.DataFrame(Sex_NI_Count_18)\n",
    "df_sex_18_NI"
   ]
  },
  {
   "cell_type": "code",
   "execution_count": null,
   "id": "6764e0db",
   "metadata": {},
   "outputs": [],
   "source": [
    "#export this data to a csv file \n",
    "df_sex_18_NI.to_csv('Sex_NI_18.csv')"
   ]
  },
  {
   "cell_type": "code",
   "execution_count": null,
   "id": "fb0951ba",
   "metadata": {},
   "outputs": [],
   "source": [
    "#extract values for count of M and F in Northern Ireland for 2018 and assign to variables\n",
    "Males_NI_18 = df_sex_18_NI.at[3, 'value']\n",
    "Females_NI_18 = df_sex_18_NI.at[5, 'value']"
   ]
  },
  {
   "cell_type": "markdown",
   "id": "7c966a25",
   "metadata": {},
   "source": [
    "#### Northern Ireland 2017"
   ]
  },
  {
   "cell_type": "code",
   "execution_count": null,
   "id": "d5985cfb",
   "metadata": {},
   "outputs": [],
   "source": [
    "#make a call to the API and parse to json file\n",
    "link = \"https://www.nomisweb.co.uk/api/v01/dataset/NM_210_1.data.json?geography=2092957702&date=latestMINUS16&jtype=0,1&ftpt=0,1&etype=0,1&c_sex=0...2&c_occpuk11h_0=0,20002&measure=1&measures=20100,20701\"\n",
    "r = requests.get(link)\n",
    "data = r.json()\n",
    "\n",
    "#create df from json file\n",
    "df_2017_NI = pd.DataFrame(data['obs'])\n",
    "\n",
    "#get specific data from within the list of dictionaries and store to variable Sex_NI_Count_17\n",
    "Sex_NI_Count_17 = list(map(itemgetter('obs_value'), data['obs']))\n",
    "print(Sex_NI_Count_17)\n"
   ]
  },
  {
   "cell_type": "code",
   "execution_count": null,
   "id": "f1aab2f3",
   "metadata": {},
   "outputs": [],
   "source": [
    "#create df from exatrcted values\n",
    "df_sex_17_NI = pd.DataFrame(Sex_NI_Count_17)\n",
    "df_sex_17_NI"
   ]
  },
  {
   "cell_type": "code",
   "execution_count": null,
   "id": "74c05ac8",
   "metadata": {},
   "outputs": [],
   "source": [
    "#export this data to a csv file \n",
    "df_sex_17_NI.to_csv('Sex_NI_17.csv')"
   ]
  },
  {
   "cell_type": "code",
   "execution_count": null,
   "id": "fc7be103",
   "metadata": {},
   "outputs": [],
   "source": [
    "#extract values for count of M and F in Northern Ireland for 2017 and assign to variables\n",
    "Males_NI_17 = df_sex_17_NI.at[3, 'value']\n",
    "Females_NI_17 = df_sex_17_NI.at[5, 'value']"
   ]
  },
  {
   "cell_type": "markdown",
   "id": "5564169d",
   "metadata": {},
   "source": [
    "#### Northern Ireland 2016"
   ]
  },
  {
   "cell_type": "code",
   "execution_count": null,
   "id": "05fed37e",
   "metadata": {},
   "outputs": [],
   "source": [
    "#make a call to the API and parse to json file\n",
    "link = \"https://www.nomisweb.co.uk/api/v01/dataset/NM_210_1.data.json?geography=2092957702&date=latestMINUS20&jtype=0,1&ftpt=0,1&etype=0,1&c_sex=0...2&c_occpuk11h_0=0,20002&measure=1&measures=20100,20701\"\n",
    "r = requests.get(link)\n",
    "data = r.json()\n",
    "\n",
    "#create df from json file\n",
    "df_2016_NI = pd.DataFrame(data['obs'])\n",
    "\n",
    "#get specific data from within the list of dictionaries and store to variable Sex_NI_Count_16\n",
    "Sex_NI_Count_16 = list(map(itemgetter('obs_value'), data['obs']))\n",
    "print(Sex_NI_Count_16)\n"
   ]
  },
  {
   "cell_type": "code",
   "execution_count": null,
   "id": "9d94dedf",
   "metadata": {},
   "outputs": [],
   "source": [
    "#create df from exatrcted values\n",
    "df_sex_16_NI = pd.DataFrame(Sex_NI_Count_16)\n",
    "df_sex_16_NI"
   ]
  },
  {
   "cell_type": "code",
   "execution_count": null,
   "id": "03ac6358",
   "metadata": {},
   "outputs": [],
   "source": [
    "#export this data to a csv file \n",
    "df_sex_16_NI.to_csv('Sex_NI_16.csv')"
   ]
  },
  {
   "cell_type": "code",
   "execution_count": null,
   "id": "ad736da8",
   "metadata": {},
   "outputs": [],
   "source": [
    "#extract values for count of M and F in Northern Ireland for 2016 and assign to variables\n",
    "Males_NI_16 = df_sex_16_NI.at[3, 'value']\n",
    "Females_NI_16 = df_sex_16_NI.at[5, 'value']"
   ]
  },
  {
   "cell_type": "markdown",
   "id": "b633bb08",
   "metadata": {},
   "source": [
    "#### Scotland 2021"
   ]
  },
  {
   "cell_type": "code",
   "execution_count": null,
   "id": "bdd4a9dd",
   "metadata": {},
   "outputs": [],
   "source": [
    "#make a call to the API and parse to json file\n",
    "link = \"https://www.nomisweb.co.uk/api/v01/dataset/NM_210_1.data.json?geography=2092957701&date=latest&jtype=0,1&ftpt=0,1&etype=0,1&c_sex=0...2&c_occpuk11h_0=0,20002&measure=1&measures=20100,20701\"\n",
    "r = requests.get(link)\n",
    "data = r.json()\n",
    "\n",
    "#create df from json file\n",
    "df_2021_Scot = pd.DataFrame(data['obs'])\n",
    "\n",
    "#get specific data from within the list of dictionaries and store to variable Sex_Scot_Count_21\n",
    "Sex_Scot_Count_21 = list(map(itemgetter('obs_value'), data['obs']))\n",
    "print(Sex_Scot_Count_21)\n"
   ]
  },
  {
   "cell_type": "code",
   "execution_count": null,
   "id": "c7208333",
   "metadata": {},
   "outputs": [],
   "source": [
    "#create df from exatrcted values\n",
    "df_sex_21_Scot = pd.DataFrame(Sex_Scot_Count_21)\n",
    "df_sex_21_Scot"
   ]
  },
  {
   "cell_type": "code",
   "execution_count": null,
   "id": "4dca45a2",
   "metadata": {},
   "outputs": [],
   "source": [
    "#export this data to a csv file \n",
    "df_sex_21_Scot.to_csv('Sex_Scot_21.csv')"
   ]
  },
  {
   "cell_type": "code",
   "execution_count": null,
   "id": "fe2a8d3e",
   "metadata": {},
   "outputs": [],
   "source": [
    "#extract values for count of M and F in Scotland for 2021 and assign to variables\n",
    "Males_Scot_21 = df_sex_21_Scot.at[3, 'value']\n",
    "Females_Scot_21 = df_sex_21_Scot.at[5, 'value']"
   ]
  },
  {
   "cell_type": "code",
   "execution_count": null,
   "id": "e1574e04",
   "metadata": {},
   "outputs": [],
   "source": []
  },
  {
   "cell_type": "markdown",
   "id": "7acd489c",
   "metadata": {},
   "source": [
    "#### Scotland 2020"
   ]
  },
  {
   "cell_type": "code",
   "execution_count": null,
   "id": "978efd2e",
   "metadata": {},
   "outputs": [],
   "source": [
    "#make a call to the API and parse to json file\n",
    "link = \"https://www.nomisweb.co.uk/api/v01/dataset/NM_210_1.data.json?geography=2092957701&date=latestMINUS4&jtype=0,1&ftpt=0,1&etype=0,1&c_sex=0...2&c_occpuk11h_0=0,20002&measure=1&measures=20100,20701\"\n",
    "r = requests.get(link)\n",
    "data = r.json()\n",
    "\n",
    "#create df from json file\n",
    "df_2020_Scot = pd.DataFrame(data['obs'])\n",
    "\n",
    "#get specific data from within the list of dictionaries and store to variable Sex_Scot_Count_20\n",
    "Sex_Scot_Count_20 = list(map(itemgetter('obs_value'), data['obs']))\n",
    "print(Sex_Scot_Count_20)\n"
   ]
  },
  {
   "cell_type": "code",
   "execution_count": null,
   "id": "27280898",
   "metadata": {},
   "outputs": [],
   "source": [
    "#create df from exatrcted values\n",
    "df_sex_20_Scot = pd.DataFrame(Sex_Scot_Count_20)\n",
    "df_sex_20_Scot"
   ]
  },
  {
   "cell_type": "code",
   "execution_count": null,
   "id": "36daa5c4",
   "metadata": {},
   "outputs": [],
   "source": [
    "#export this data to a csv file \n",
    "df_sex_20_Scot.to_csv('Sex_Scot_20.csv')"
   ]
  },
  {
   "cell_type": "code",
   "execution_count": null,
   "id": "d622c82d",
   "metadata": {},
   "outputs": [],
   "source": [
    "#extract values for count of M and F in Scotland for 2020 and assign to variables\n",
    "Males_Scot_20 = df_sex_20_Scot.at[3, 'value']\n",
    "Females_Scot_20 = df_sex_20_Scot.at[5, 'value']"
   ]
  },
  {
   "cell_type": "code",
   "execution_count": null,
   "id": "7b12283c",
   "metadata": {},
   "outputs": [],
   "source": []
  },
  {
   "cell_type": "markdown",
   "id": "1cdfbe90",
   "metadata": {},
   "source": [
    "#### Scotland 2019"
   ]
  },
  {
   "cell_type": "code",
   "execution_count": null,
   "id": "30251930",
   "metadata": {},
   "outputs": [],
   "source": [
    "#make a call to the API and parse to json file\n",
    "link = \"https://www.nomisweb.co.uk/api/v01/dataset/NM_210_1.data.json?geography=2092957701&date=latestMINUS8&jtype=0,1&ftpt=0,1&etype=0,1&c_sex=0...2&c_occpuk11h_0=0,20002&measure=1&measures=20100,20701\"\n",
    "r = requests.get(link)\n",
    "data = r.json()\n",
    "\n",
    "#create df from json file\n",
    "df_2019_Scot = pd.DataFrame(data['obs'])\n",
    "\n",
    "#get specific data from within the list of dictionaries and store to variable Sex_Scot_Count_19\n",
    "Sex_Scot_Count_19 = list(map(itemgetter('obs_value'), data['obs']))\n",
    "print(Sex_Scot_Count_19)\n"
   ]
  },
  {
   "cell_type": "code",
   "execution_count": null,
   "id": "7ddc9c3b",
   "metadata": {},
   "outputs": [],
   "source": [
    "#create df from exatrcted values\n",
    "df_sex_19_Scot = pd.DataFrame(Sex_Scot_Count_19)\n",
    "df_sex_19_Scot"
   ]
  },
  {
   "cell_type": "code",
   "execution_count": null,
   "id": "99e1fa18",
   "metadata": {},
   "outputs": [],
   "source": [
    "#export this data to a csv file \n",
    "df_sex_19_Scot.to_csv('Sex_Scot_19.csv')"
   ]
  },
  {
   "cell_type": "code",
   "execution_count": null,
   "id": "19ee676d",
   "metadata": {},
   "outputs": [],
   "source": [
    "#extract values for count of M and F in Scotland for 2019 and assign to variables\n",
    "Males_Scot_19 = df_sex_19_Scot.at[3, 'value']\n",
    "Females_Scot_19 = df_sex_19_Scot.at[5, 'value']"
   ]
  },
  {
   "cell_type": "markdown",
   "id": "4b64150c",
   "metadata": {},
   "source": [
    "#### Scotland 2018"
   ]
  },
  {
   "cell_type": "code",
   "execution_count": null,
   "id": "f0bdc3da",
   "metadata": {},
   "outputs": [],
   "source": [
    "#make a call to the API and parse to json file\n",
    "link = \"https://www.nomisweb.co.uk/api/v01/dataset/NM_210_1.data.json?geography=2092957701&date=latestMINUS12&jtype=0,1&ftpt=0,1&etype=0,1&c_sex=0...2&c_occpuk11h_0=0,20002&measure=1&measures=20100,20701\"\n",
    "r = requests.get(link)\n",
    "data = r.json()\n",
    "\n",
    "#create df from json file\n",
    "df_2018_Scot = pd.DataFrame(data['obs'])\n",
    "\n",
    "#get specific data from within the list of dictionaries and store to variable Sex_Scot_Count_18\n",
    "Sex_Scot_Count_18 = list(map(itemgetter('obs_value'), data['obs']))\n",
    "print(Sex_Scot_Count_18)\n"
   ]
  },
  {
   "cell_type": "code",
   "execution_count": null,
   "id": "0b276b73",
   "metadata": {},
   "outputs": [],
   "source": [
    "#create df from exatrcted values\n",
    "df_sex_18_Scot = pd.DataFrame(Sex_Scot_Count_18)\n",
    "df_sex_18_Scot"
   ]
  },
  {
   "cell_type": "code",
   "execution_count": null,
   "id": "4c465a2b",
   "metadata": {},
   "outputs": [],
   "source": [
    "#export this data to a csv file \n",
    "df_sex_18_Scot.to_csv('Sex_Scot_18.csv')"
   ]
  },
  {
   "cell_type": "code",
   "execution_count": null,
   "id": "3465b911",
   "metadata": {},
   "outputs": [],
   "source": [
    "#extract values for count of M and F in Scotland for 2018 and assign to variables\n",
    "Males_Scot_18 = df_sex_18_Scot.at[3, 'value']\n",
    "Females_Scot_18 = df_sex_18_Scot.at[5, 'value']"
   ]
  },
  {
   "cell_type": "code",
   "execution_count": null,
   "id": "0ba1e7a0",
   "metadata": {},
   "outputs": [],
   "source": []
  },
  {
   "cell_type": "markdown",
   "id": "b99574ae",
   "metadata": {},
   "source": [
    "#### Scotland 2017"
   ]
  },
  {
   "cell_type": "code",
   "execution_count": null,
   "id": "0185b8aa",
   "metadata": {},
   "outputs": [],
   "source": [
    "#make a call to the API and parse to json file\n",
    "link = \"https://www.nomisweb.co.uk/api/v01/dataset/NM_210_1.data.json?geography=2092957701&date=latestMINUS16&jtype=0,1&ftpt=0,1&etype=0,1&c_sex=0...2&c_occpuk11h_0=0,20002&measure=1&measures=20100,20701\"\n",
    "r = requests.get(link)\n",
    "data = r.json()\n",
    "\n",
    "#create df from json file\n",
    "df_2017_Scot = pd.DataFrame(data['obs'])\n",
    "\n",
    "#get specific data from within the list of dictionaries and store to variable Sex_Scot_Count_17\n",
    "Sex_Scot_Count_17 = list(map(itemgetter('obs_value'), data['obs']))\n",
    "print(Sex_Scot_Count_17)\n"
   ]
  },
  {
   "cell_type": "code",
   "execution_count": null,
   "id": "9f671286",
   "metadata": {},
   "outputs": [],
   "source": [
    "#create df from exatrcted values\n",
    "df_sex_17_Scot = pd.DataFrame(Sex_Scot_Count_17)\n",
    "df_sex_17_Scot"
   ]
  },
  {
   "cell_type": "code",
   "execution_count": null,
   "id": "89cde21b",
   "metadata": {},
   "outputs": [],
   "source": [
    "#export this data to a csv file \n",
    "df_sex_17_Scot.to_csv('Sex_Scot_17.csv')"
   ]
  },
  {
   "cell_type": "code",
   "execution_count": null,
   "id": "d55bb6c3",
   "metadata": {},
   "outputs": [],
   "source": [
    "#extract values for count of M and F in Scotland for 2017 and assign to variables\n",
    "Males_Scot_17 = df_sex_17_Scot.at[3, 'value']\n",
    "Females_Scot_17 = df_sex_17_Scot.at[5, 'value']"
   ]
  },
  {
   "cell_type": "code",
   "execution_count": null,
   "id": "54630325",
   "metadata": {},
   "outputs": [],
   "source": []
  },
  {
   "cell_type": "markdown",
   "id": "70edd12e",
   "metadata": {},
   "source": [
    "#### Scotland 2016"
   ]
  },
  {
   "cell_type": "code",
   "execution_count": null,
   "id": "345c503e",
   "metadata": {},
   "outputs": [],
   "source": [
    "#make a call to the API and parse to json file\n",
    "link = \"https://www.nomisweb.co.uk/api/v01/dataset/NM_210_1.data.json?geography=2092957701&date=latestMINUS20&jtype=0,1&ftpt=0,1&etype=0,1&c_sex=0...2&c_occpuk11h_0=0,20002&measure=1&measures=20100,20701\"\n",
    "r = requests.get(link)\n",
    "data = r.json()\n",
    "\n",
    "#create df from json file\n",
    "df_2016_Scot = pd.DataFrame(data['obs'])\n",
    "\n",
    "#get specific data from within the list of dictionaries and store to variable Sex_Scot_Count_16\n",
    "Sex_Scot_Count_16 = list(map(itemgetter('obs_value'), data['obs']))\n",
    "print(Sex_Scot_Count_16)\n"
   ]
  },
  {
   "cell_type": "code",
   "execution_count": null,
   "id": "6c01ccf7",
   "metadata": {},
   "outputs": [],
   "source": [
    "#create df from exatrcted values\n",
    "df_sex_16_Scot = pd.DataFrame(Sex_Scot_Count_16)\n",
    "df_sex_16_Scot"
   ]
  },
  {
   "cell_type": "code",
   "execution_count": null,
   "id": "64e59a3b",
   "metadata": {},
   "outputs": [],
   "source": [
    "#export this data to a csv file \n",
    "df_sex_16_Scot.to_csv('Sex_Scot_16.csv')"
   ]
  },
  {
   "cell_type": "code",
   "execution_count": null,
   "id": "5ba439f7",
   "metadata": {},
   "outputs": [],
   "source": [
    "#extract values for count of M and F in Scotland for 2016 and assign to variables\n",
    "Males_Scot_16 = df_sex_16_Scot.at[3, 'value']\n",
    "Females_Scot_16 = df_sex_16_Scot.at[5, 'value']"
   ]
  },
  {
   "cell_type": "code",
   "execution_count": null,
   "id": "656e7a3b",
   "metadata": {},
   "outputs": [],
   "source": []
  },
  {
   "cell_type": "markdown",
   "id": "e5ad2a4c",
   "metadata": {},
   "source": [
    "#### UK 2021"
   ]
  },
  {
   "cell_type": "code",
   "execution_count": null,
   "id": "df499c31",
   "metadata": {},
   "outputs": [],
   "source": [
    "#make a call to the API and parse to json file\n",
    "link = \"https://www.nomisweb.co.uk/api/v01/dataset/NM_210_1.data.json?geography=2092957697&date=latest&jtype=0,1&ftpt=0,1&etype=0,1&c_sex=0...2&c_occpuk11h_0=0,20002&measure=1&measures=20100,20701\"\n",
    "r = requests.get(link)\n",
    "data = r.json()\n",
    "\n",
    "#create df from json file\n",
    "df_2021_UK = pd.DataFrame(data['obs'])\n",
    "\n",
    "#get specific data from within the list of dictionaries and store to variable Sex_UK_Count_21\n",
    "Sex_UK_Count_21 = list(map(itemgetter('obs_value'), data['obs']))\n",
    "print(Sex_UK_Count_21)\n"
   ]
  },
  {
   "cell_type": "code",
   "execution_count": null,
   "id": "79604a9e",
   "metadata": {},
   "outputs": [],
   "source": [
    "#create df from exatrcted values\n",
    "df_sex_21_UK = pd.DataFrame(Sex_UK_Count_21)\n",
    "df_sex_21_UK"
   ]
  },
  {
   "cell_type": "code",
   "execution_count": null,
   "id": "f81692f6",
   "metadata": {},
   "outputs": [],
   "source": [
    "#export this data to a csv file \n",
    "df_sex_21_UK.to_csv('Sex_UK_21.csv')"
   ]
  },
  {
   "cell_type": "code",
   "execution_count": null,
   "id": "0ffa1527",
   "metadata": {},
   "outputs": [],
   "source": [
    "#extract values for count of M and F in UK for 2021 and assign to variables\n",
    "Males_UK_21 = df_sex_21_UK.at[3, 'value']\n",
    "Females_UK_21 = df_sex_21_UK.at[5, 'value']"
   ]
  },
  {
   "cell_type": "code",
   "execution_count": null,
   "id": "80373711",
   "metadata": {},
   "outputs": [],
   "source": []
  },
  {
   "cell_type": "markdown",
   "id": "3de211de",
   "metadata": {},
   "source": [
    "#### UK 2020"
   ]
  },
  {
   "cell_type": "code",
   "execution_count": null,
   "id": "429b0554",
   "metadata": {},
   "outputs": [],
   "source": [
    "#make a call to the API and parse to json file\n",
    "link = \"https://www.nomisweb.co.uk/api/v01/dataset/NM_210_1.data.json?geography=2092957697&date=latestMINUS4&jtype=0,1&ftpt=0,1&etype=0,1&c_sex=0...2&c_occpuk11h_0=0,20002&measure=1&measures=20100,20701\"\n",
    "r = requests.get(link)\n",
    "data = r.json()\n",
    "\n",
    "#create df from json file\n",
    "df_2020_UK = pd.DataFrame(data['obs'])\n",
    "\n",
    "#get specific data from within the list of dictionaries and store to variable Sex_UK_Count_20\n",
    "Sex_UK_Count_20 = list(map(itemgetter('obs_value'), data['obs']))\n",
    "print(Sex_UK_Count_20)\n"
   ]
  },
  {
   "cell_type": "code",
   "execution_count": null,
   "id": "0d1f9a42",
   "metadata": {},
   "outputs": [],
   "source": [
    "#create df from exatrcted values\n",
    "df_sex_20_UK = pd.DataFrame(Sex_UK_Count_20)\n",
    "df_sex_20_UK"
   ]
  },
  {
   "cell_type": "code",
   "execution_count": null,
   "id": "e917f058",
   "metadata": {},
   "outputs": [],
   "source": [
    "#export this data to a csv file \n",
    "df_sex_20_UK.to_csv('Sex_UK_20.csv')"
   ]
  },
  {
   "cell_type": "code",
   "execution_count": null,
   "id": "03896a6b",
   "metadata": {},
   "outputs": [],
   "source": [
    "#extract values for count of M and F in UK for 2020 and assign to variables\n",
    "Males_UK_20 = df_sex_20_UK.at[3, 'value']\n",
    "Females_UK_20 = df_sex_20_UK.at[5, 'value']"
   ]
  },
  {
   "cell_type": "code",
   "execution_count": null,
   "id": "7f026b22",
   "metadata": {},
   "outputs": [],
   "source": []
  },
  {
   "cell_type": "markdown",
   "id": "db1e07dc",
   "metadata": {},
   "source": [
    "#### UK 2019"
   ]
  },
  {
   "cell_type": "code",
   "execution_count": null,
   "id": "e3209cf7",
   "metadata": {},
   "outputs": [],
   "source": [
    "#make a call to the API and parse to json file\n",
    "link = \"https://www.nomisweb.co.uk/api/v01/dataset/NM_210_1.data.json?geography=2092957697&date=latestMINUS8&jtype=0,1&ftpt=0,1&etype=0,1&c_sex=0...2&c_occpuk11h_0=0,20002&measure=1&measures=20100,20701\"\n",
    "r = requests.get(link)\n",
    "data = r.json()\n",
    "\n",
    "#create df from json file\n",
    "df_2019_UK = pd.DataFrame(data['obs'])\n",
    "\n",
    "#get specific data from within the list of dictionaries and store to variable Sex_UK_Count_19\n",
    "Sex_UK_Count_19 = list(map(itemgetter('obs_value'), data['obs']))\n",
    "print(Sex_UK_Count_19)\n"
   ]
  },
  {
   "cell_type": "code",
   "execution_count": null,
   "id": "90f09aa9",
   "metadata": {},
   "outputs": [],
   "source": [
    "#create df from exatrcted values\n",
    "df_sex_19_UK = pd.DataFrame(Sex_UK_Count_19)\n",
    "df_sex_19_UK"
   ]
  },
  {
   "cell_type": "code",
   "execution_count": null,
   "id": "c8676be2",
   "metadata": {},
   "outputs": [],
   "source": [
    "#export this data to a csv file \n",
    "df_sex_19_UK.to_csv('Sex_UK_19.csv')"
   ]
  },
  {
   "cell_type": "code",
   "execution_count": null,
   "id": "3cd7b55e",
   "metadata": {},
   "outputs": [],
   "source": [
    "#extract values for count of M and F in UK for 2019 and assign to variables\n",
    "Males_UK_19 = df_sex_19_UK.at[3, 'value']\n",
    "Females_UK_19 = df_sex_19_UK.at[5, 'value']"
   ]
  },
  {
   "cell_type": "code",
   "execution_count": null,
   "id": "8fde1ef4",
   "metadata": {},
   "outputs": [],
   "source": []
  },
  {
   "cell_type": "markdown",
   "id": "278ad072",
   "metadata": {},
   "source": [
    "#### UK 2018"
   ]
  },
  {
   "cell_type": "code",
   "execution_count": null,
   "id": "156e6526",
   "metadata": {},
   "outputs": [],
   "source": [
    "#make a call to the API and parse to json file\n",
    "link = \"https://www.nomisweb.co.uk/api/v01/dataset/NM_210_1.data.json?geography=2092957697&date=latestMINUS12&jtype=0,1&ftpt=0,1&etype=0,1&c_sex=0...2&c_occpuk11h_0=0,20002&measure=1&measures=20100,20701\"\n",
    "r = requests.get(link)\n",
    "data = r.json()\n",
    "\n",
    "#create df from json file\n",
    "df_2018_UK = pd.DataFrame(data['obs'])\n",
    "\n",
    "#get specific data from within the list of dictionaries and store to variable Sex_UK_Count_18\n",
    "Sex_UK_Count_18 = list(map(itemgetter('obs_value'), data['obs']))\n",
    "print(Sex_UK_Count_18)\n"
   ]
  },
  {
   "cell_type": "code",
   "execution_count": null,
   "id": "a8e48a71",
   "metadata": {},
   "outputs": [],
   "source": [
    "#create df from exatrcted values\n",
    "df_sex_18_UK = pd.DataFrame(Sex_UK_Count_18)\n",
    "df_sex_18_UK"
   ]
  },
  {
   "cell_type": "code",
   "execution_count": null,
   "id": "8c13244a",
   "metadata": {},
   "outputs": [],
   "source": [
    "#export this data to a csv file \n",
    "df_sex_18_UK.to_csv('Sex_UK_18.csv')"
   ]
  },
  {
   "cell_type": "code",
   "execution_count": null,
   "id": "5b1314d3",
   "metadata": {},
   "outputs": [],
   "source": [
    "#extract values for count of M and F in UK for 2018 and assign to variables\n",
    "Males_UK_18 = df_sex_18_UK.at[3, 'value']\n",
    "Females_UK_18 = df_sex_18_UK.at[5, 'value']"
   ]
  },
  {
   "cell_type": "code",
   "execution_count": null,
   "id": "13664d11",
   "metadata": {},
   "outputs": [],
   "source": []
  },
  {
   "cell_type": "markdown",
   "id": "116def2b",
   "metadata": {},
   "source": [
    "#### UK 2017"
   ]
  },
  {
   "cell_type": "code",
   "execution_count": null,
   "id": "f037f18c",
   "metadata": {},
   "outputs": [],
   "source": [
    "#make a call to the API and parse to json file\n",
    "link = \"https://www.nomisweb.co.uk/api/v01/dataset/NM_210_1.data.json?geography=2092957697&date=latestMINUS16&jtype=0,1&ftpt=0,1&etype=0,1&c_sex=0...2&c_occpuk11h_0=0,20002&measure=1&measures=20100,20701\"\n",
    "r = requests.get(link)\n",
    "data = r.json()\n",
    "\n",
    "#create df from json file\n",
    "df_2017_UK = pd.DataFrame(data['obs'])\n",
    "\n",
    "#get specific data from within the list of dictionaries and store to variable Sex_UK_Count_17\n",
    "Sex_UK_Count_17 = list(map(itemgetter('obs_value'), data['obs']))\n",
    "print(Sex_UK_Count_17)\n"
   ]
  },
  {
   "cell_type": "code",
   "execution_count": null,
   "id": "e8f09f28",
   "metadata": {},
   "outputs": [],
   "source": [
    "#create df from exatrcted values\n",
    "df_sex_17_UK = pd.DataFrame(Sex_UK_Count_17)\n",
    "df_sex_17_UK"
   ]
  },
  {
   "cell_type": "code",
   "execution_count": null,
   "id": "f87c9517",
   "metadata": {},
   "outputs": [],
   "source": [
    "#export this data to a csv file \n",
    "df_sex_17_UK.to_csv('Sex_UK_17.csv')"
   ]
  },
  {
   "cell_type": "code",
   "execution_count": null,
   "id": "cbc8905e",
   "metadata": {},
   "outputs": [],
   "source": [
    "#extract values for count of M and F in UK for 2017 and assign to variables\n",
    "Males_UK_17 = df_sex_17_UK.at[3, 'value']\n",
    "Females_UK_17 = df_sex_17_UK.at[5, 'value']"
   ]
  },
  {
   "cell_type": "code",
   "execution_count": null,
   "id": "a94ef738",
   "metadata": {},
   "outputs": [],
   "source": []
  },
  {
   "cell_type": "markdown",
   "id": "83c48ba6",
   "metadata": {},
   "source": [
    "#### UK 2016"
   ]
  },
  {
   "cell_type": "code",
   "execution_count": 245,
   "id": "77b19d10",
   "metadata": {},
   "outputs": [
    {
     "name": "stdout",
     "output_type": "stream",
     "text": [
      "[{'value': 31239300, 'description': 'Undefined Value for United Kingdom (geography), Count (measure) for Jul 2015-Jun 2016 from annual population survey - regional - occupation by sex by employment type'}, {'value': 938100, 'description': 'Undefined Value for United Kingdom (geography), 213 Information Technology and Telecommunications Professionals (Occupation), Count (measure) for Jul 2015-Jun 2016 from annual population survey - regional - occupation by sex by employment type'}, {'value': 16642000, 'description': 'Undefined Value for United Kingdom (geography), Males (Sex), Count (measure) for Jul 2015-Jun 2016 from annual population survey - regional - occupation by sex by employment type'}, {'value': 780900, 'description': 'Undefined Value for United Kingdom (geography), Males (Sex), 213 Information Technology and Telecommunications Professionals (Occupation), Count (measure) for Jul 2015-Jun 2016 from annual population survey - regional - occupation by sex by employment type'}, {'value': 14597300, 'description': 'Undefined Value for United Kingdom (geography), Females (Sex), Count (measure) for Jul 2015-Jun 2016 from annual population survey - regional - occupation by sex by employment type'}, {'value': 157100, 'description': 'Undefined Value for United Kingdom (geography), Females (Sex), 213 Information Technology and Telecommunications Professionals (Occupation), Count (measure) for Jul 2015-Jun 2016 from annual population survey - regional - occupation by sex by employment type'}, {'value': 26433400, 'description': 'Undefined Value for United Kingdom (geography), Employee (Employee/Self-employed), Count (measure) for Jul 2015-Jun 2016 from annual population survey - regional - occupation by sex by employment type'}, {'value': 813800, 'description': 'Undefined Value for United Kingdom (geography), Employee (Employee/Self-employed), 213 Information Technology and Telecommunications Professionals (Occupation), Count (measure) for Jul 2015-Jun 2016 from annual population survey - regional - occupation by sex by employment type'}, {'value': 13425200, 'description': 'Undefined Value for United Kingdom (geography), Employee (Employee/Self-employed), Males (Sex), Count (measure) for Jul 2015-Jun 2016 from annual population survey - regional - occupation by sex by employment type'}, {'value': 672100, 'description': 'Undefined Value for United Kingdom (geography), Employee (Employee/Self-employed), Males (Sex), 213 Information Technology and Telecommunications Professionals (Occupation), Count (measure) for Jul 2015-Jun 2016 from annual population survey - regional - occupation by sex by employment type'}, {'value': 13008300, 'description': 'Undefined Value for United Kingdom (geography), Employee (Employee/Self-employed), Females (Sex), Count (measure) for Jul 2015-Jun 2016 from annual population survey - regional - occupation by sex by employment type'}, {'value': 141600, 'description': 'Undefined Value for United Kingdom (geography), Employee (Employee/Self-employed), Females (Sex), 213 Information Technology and Telecommunications Professionals (Occupation), Count (measure) for Jul 2015-Jun 2016 from annual population survey - regional - occupation by sex by employment type'}, {'value': 22801000, 'description': 'Undefined Value for United Kingdom (geography), Full-time (Full/Part-time), Count (measure) for Jul 2015-Jun 2016 from annual population survey - regional - occupation by sex by employment type'}, {'value': 879600, 'description': 'Undefined Value for United Kingdom (geography), Full-time (Full/Part-time), 213 Information Technology and Telecommunications Professionals (Occupation), Count (measure) for Jul 2015-Jun 2016 from annual population survey - regional - occupation by sex by employment type'}, {'value': 14422300, 'description': 'Undefined Value for United Kingdom (geography), Full-time (Full/Part-time), Males (Sex), Count (measure) for Jul 2015-Jun 2016 from annual population survey - regional - occupation by sex by employment type'}, {'value': 751700, 'description': 'Undefined Value for United Kingdom (geography), Full-time (Full/Part-time), Males (Sex), 213 Information Technology and Telecommunications Professionals (Occupation), Count (measure) for Jul 2015-Jun 2016 from annual population survey - regional - occupation by sex by employment type'}, {'value': 8378700, 'description': 'Undefined Value for United Kingdom (geography), Full-time (Full/Part-time), Females (Sex), Count (measure) for Jul 2015-Jun 2016 from annual population survey - regional - occupation by sex by employment type'}, {'value': 127900, 'description': 'Undefined Value for United Kingdom (geography), Full-time (Full/Part-time), Females (Sex), 213 Information Technology and Telecommunications Professionals (Occupation), Count (measure) for Jul 2015-Jun 2016 from annual population survey - regional - occupation by sex by employment type'}, {'value': 19481500, 'description': 'Undefined Value for United Kingdom (geography), Full-time (Full/Part-time), Employee (Employee/Self-employed), Count (measure) for Jul 2015-Jun 2016 from annual population survey - regional - occupation by sex by employment type'}, {'value': 776600, 'description': 'Undefined Value for United Kingdom (geography), Full-time (Full/Part-time), Employee (Employee/Self-employed), 213 Information Technology and Telecommunications Professionals (Occupation), Count (measure) for Jul 2015-Jun 2016 from annual population survey - regional - occupation by sex by employment type'}, {'value': 11821900, 'description': 'Undefined Value for United Kingdom (geography), Full-time (Full/Part-time), Employee (Employee/Self-employed), Males (Sex), Count (measure) for Jul 2015-Jun 2016 from annual population survey - regional - occupation by sex by employment type'}, {'value': 658900, 'description': 'Undefined Value for United Kingdom (geography), Full-time (Full/Part-time), Employee (Employee/Self-employed), Males (Sex), 213 Information Technology and Telecommunications Professionals (Occupation), Count (measure) for Jul 2015-Jun 2016 from annual population survey - regional - occupation by sex by employment type'}, {'value': 7659600, 'description': 'Undefined Value for United Kingdom (geography), Full-time (Full/Part-time), Employee (Employee/Self-employed), Females (Sex), Count (measure) for Jul 2015-Jun 2016 from annual population survey - regional - occupation by sex by employment type'}, {'value': 117700, 'description': 'Undefined Value for United Kingdom (geography), Full-time (Full/Part-time), Employee (Employee/Self-employed), Females (Sex), 213 Information Technology and Telecommunications Professionals (Occupation), Count (measure) for Jul 2015-Jun 2016 from annual population survey - regional - occupation by sex by employment type'}, {'value': 24788700, 'description': 'Undefined Value for United Kingdom (geography), Permanent (Permanent/non-permanent), Count (measure) for Jul 2015-Jun 2016 from annual population survey - regional - occupation by sex by employment type'}, {'value': 783900, 'description': 'Undefined Value for United Kingdom (geography), Permanent (Permanent/non-permanent), 213 Information Technology and Telecommunications Professionals (Occupation), Count (measure) for Jul 2015-Jun 2016 from annual population survey - regional - occupation by sex by employment type'}, {'value': 12653000, 'description': 'Undefined Value for United Kingdom (geography), Permanent (Permanent/non-permanent), Males (Sex), Count (measure) for Jul 2015-Jun 2016 from annual population survey - regional - occupation by sex by employment type'}, {'value': 648200, 'description': 'Undefined Value for United Kingdom (geography), Permanent (Permanent/non-permanent), Males (Sex), 213 Information Technology and Telecommunications Professionals (Occupation), Count (measure) for Jul 2015-Jun 2016 from annual population survey - regional - occupation by sex by employment type'}, {'value': 12135700, 'description': 'Undefined Value for United Kingdom (geography), Permanent (Permanent/non-permanent), Females (Sex), Count (measure) for Jul 2015-Jun 2016 from annual population survey - regional - occupation by sex by employment type'}, {'value': 135700, 'description': 'Undefined Value for United Kingdom (geography), Permanent (Permanent/non-permanent), Females (Sex), 213 Information Technology and Telecommunications Professionals (Occupation), Count (measure) for Jul 2015-Jun 2016 from annual population survey - regional - occupation by sex by employment type'}, {'value': 24788700, 'description': 'Undefined Value for United Kingdom (geography), Permanent (Permanent/non-permanent), Employee (Employee/Self-employed), Count (measure) for Jul 2015-Jun 2016 from annual population survey - regional - occupation by sex by employment type'}, {'value': 783900, 'description': 'Undefined Value for United Kingdom (geography), Permanent (Permanent/non-permanent), Employee (Employee/Self-employed), 213 Information Technology and Telecommunications Professionals (Occupation), Count (measure) for Jul 2015-Jun 2016 from annual population survey - regional - occupation by sex by employment type'}, {'value': 12653000, 'description': 'Undefined Value for United Kingdom (geography), Permanent (Permanent/non-permanent), Employee (Employee/Self-employed), Males (Sex), Count (measure) for Jul 2015-Jun 2016 from annual population survey - regional - occupation by sex by employment type'}, {'value': 648200, 'description': 'Undefined Value for United Kingdom (geography), Permanent (Permanent/non-permanent), Employee (Employee/Self-employed), Males (Sex), 213 Information Technology and Telecommunications Professionals (Occupation), Count (measure) for Jul 2015-Jun 2016 from annual population survey - regional - occupation by sex by employment type'}, {'value': 12135700, 'description': 'Undefined Value for United Kingdom (geography), Permanent (Permanent/non-permanent), Employee (Employee/Self-employed), Females (Sex), Count (measure) for Jul 2015-Jun 2016 from annual population survey - regional - occupation by sex by employment type'}, {'value': 135700, 'description': 'Undefined Value for United Kingdom (geography), Permanent (Permanent/non-permanent), Employee (Employee/Self-employed), Females (Sex), 213 Information Technology and Telecommunications Professionals (Occupation), Count (measure) for Jul 2015-Jun 2016 from annual population survey - regional - occupation by sex by employment type'}, {'value': 18649700, 'description': 'Undefined Value for United Kingdom (geography), Permanent (Permanent/non-permanent), Full-time (Full/Part-time), Count (measure) for Jul 2015-Jun 2016 from annual population survey - regional - occupation by sex by employment type'}, {'value': 750000, 'description': 'Undefined Value for United Kingdom (geography), Permanent (Permanent/non-permanent), Full-time (Full/Part-time), 213 Information Technology and Telecommunications Professionals (Occupation), Count (measure) for Jul 2015-Jun 2016 from annual population survey - regional - occupation by sex by employment type'}, {'value': 11365500, 'description': 'Undefined Value for United Kingdom (geography), Permanent (Permanent/non-permanent), Full-time (Full/Part-time), Males (Sex), Count (measure) for Jul 2015-Jun 2016 from annual population survey - regional - occupation by sex by employment type'}, {'value': 637100, 'description': 'Undefined Value for United Kingdom (geography), Permanent (Permanent/non-permanent), Full-time (Full/Part-time), Males (Sex), 213 Information Technology and Telecommunications Professionals (Occupation), Count (measure) for Jul 2015-Jun 2016 from annual population survey - regional - occupation by sex by employment type'}, {'value': 7284300, 'description': 'Undefined Value for United Kingdom (geography), Permanent (Permanent/non-permanent), Full-time (Full/Part-time), Females (Sex), Count (measure) for Jul 2015-Jun 2016 from annual population survey - regional - occupation by sex by employment type'}, {'value': 112900, 'description': 'Undefined Value for United Kingdom (geography), Permanent (Permanent/non-permanent), Full-time (Full/Part-time), Females (Sex), 213 Information Technology and Telecommunications Professionals (Occupation), Count (measure) for Jul 2015-Jun 2016 from annual population survey - regional - occupation by sex by employment type'}, {'value': 18649700, 'description': 'Undefined Value for United Kingdom (geography), Permanent (Permanent/non-permanent), Full-time (Full/Part-time), Employee (Employee/Self-employed), Count (measure) for Jul 2015-Jun 2016 from annual population survey - regional - occupation by sex by employment type'}, {'value': 750000, 'description': 'Undefined Value for United Kingdom (geography), Permanent (Permanent/non-permanent), Full-time (Full/Part-time), Employee (Employee/Self-employed), 213 Information Technology and Telecommunications Professionals (Occupation), Count (measure) for Jul 2015-Jun 2016 from annual population survey - regional - occupation by sex by employment type'}, {'value': 11365500, 'description': 'Undefined Value for United Kingdom (geography), Permanent (Permanent/non-permanent), Full-time (Full/Part-time), Employee (Employee/Self-employed), Males (Sex), Count (measure) for Jul 2015-Jun 2016 from annual population survey - regional - occupation by sex by employment type'}, {'value': 637100, 'description': 'Undefined Value for United Kingdom (geography), Permanent (Permanent/non-permanent), Full-time (Full/Part-time), Employee (Employee/Self-employed), Males (Sex), 213 Information Technology and Telecommunications Professionals (Occupation), Count (measure) for Jul 2015-Jun 2016 from annual population survey - regional - occupation by sex by employment type'}, {'value': 7284300, 'description': 'Undefined Value for United Kingdom (geography), Permanent (Permanent/non-permanent), Full-time (Full/Part-time), Employee (Employee/Self-employed), Females (Sex), Count (measure) for Jul 2015-Jun 2016 from annual population survey - regional - occupation by sex by employment type'}, {'value': 112900, 'description': 'Undefined Value for United Kingdom (geography), Permanent (Permanent/non-permanent), Full-time (Full/Part-time), Employee (Employee/Self-employed), Females (Sex), 213 Information Technology and Telecommunications Professionals (Occupation), Count (measure) for Jul 2015-Jun 2016 from annual population survey - regional - occupation by sex by employment type'}, {'value': 167600, 'description': 'Undefined Confidence for United Kingdom (geography), Count (measure) for Jul 2015-Jun 2016 from annual population survey - regional - occupation by sex by employment type'}, {'value': 29000, 'description': 'Undefined Confidence for United Kingdom (geography), 213 Information Technology and Telecommunications Professionals (Occupation), Count (measure) for Jul 2015-Jun 2016 from annual population survey - regional - occupation by sex by employment type'}, {'value': 122300, 'description': 'Undefined Confidence for United Kingdom (geography), Males (Sex), Count (measure) for Jul 2015-Jun 2016 from annual population survey - regional - occupation by sex by employment type'}, {'value': 26500, 'description': 'Undefined Confidence for United Kingdom (geography), Males (Sex), 213 Information Technology and Telecommunications Professionals (Occupation), Count (measure) for Jul 2015-Jun 2016 from annual population survey - regional - occupation by sex by employment type'}, {'value': 114600, 'description': 'Undefined Confidence for United Kingdom (geography), Females (Sex), Count (measure) for Jul 2015-Jun 2016 from annual population survey - regional - occupation by sex by employment type'}, {'value': 11900, 'description': 'Undefined Confidence for United Kingdom (geography), Females (Sex), 213 Information Technology and Telecommunications Professionals (Occupation), Count (measure) for Jul 2015-Jun 2016 from annual population survey - regional - occupation by sex by employment type'}, {'value': 154200, 'description': 'Undefined Confidence for United Kingdom (geography), Employee (Employee/Self-employed), Count (measure) for Jul 2015-Jun 2016 from annual population survey - regional - occupation by sex by employment type'}, {'value': 27100, 'description': 'Undefined Confidence for United Kingdom (geography), Employee (Employee/Self-employed), 213 Information Technology and Telecommunications Professionals (Occupation), Count (measure) for Jul 2015-Jun 2016 from annual population survey - regional - occupation by sex by employment type'}, {'value': 109900, 'description': 'Undefined Confidence for United Kingdom (geography), Employee (Employee/Self-employed), Males (Sex), Count (measure) for Jul 2015-Jun 2016 from annual population survey - regional - occupation by sex by employment type'}, {'value': 24600, 'description': 'Undefined Confidence for United Kingdom (geography), Employee (Employee/Self-employed), Males (Sex), 213 Information Technology and Telecommunications Professionals (Occupation), Count (measure) for Jul 2015-Jun 2016 from annual population survey - regional - occupation by sex by employment type'}, {'value': 108200, 'description': 'Undefined Confidence for United Kingdom (geography), Employee (Employee/Self-employed), Females (Sex), Count (measure) for Jul 2015-Jun 2016 from annual population survey - regional - occupation by sex by employment type'}, {'value': 11300, 'description': 'Undefined Confidence for United Kingdom (geography), Employee (Employee/Self-employed), Females (Sex), 213 Information Technology and Telecommunications Professionals (Occupation), Count (measure) for Jul 2015-Jun 2016 from annual population survey - regional - occupation by sex by employment type'}, {'value': 143200, 'description': 'Undefined Confidence for United Kingdom (geography), Full-time (Full/Part-time), Count (measure) for Jul 2015-Jun 2016 from annual population survey - regional - occupation by sex by employment type'}, {'value': 28100, 'description': 'Undefined Confidence for United Kingdom (geography), Full-time (Full/Part-time), 213 Information Technology and Telecommunications Professionals (Occupation), Count (measure) for Jul 2015-Jun 2016 from annual population survey - regional - occupation by sex by employment type'}, {'value': 113900, 'description': 'Undefined Confidence for United Kingdom (geography), Full-time (Full/Part-time), Males (Sex), Count (measure) for Jul 2015-Jun 2016 from annual population survey - regional - occupation by sex by employment type'}, {'value': 26000, 'description': 'Undefined Confidence for United Kingdom (geography), Full-time (Full/Part-time), Males (Sex), 213 Information Technology and Telecommunications Professionals (Occupation), Count (measure) for Jul 2015-Jun 2016 from annual population survey - regional - occupation by sex by employment type'}, {'value': 86800, 'description': 'Undefined Confidence for United Kingdom (geography), Full-time (Full/Part-time), Females (Sex), Count (measure) for Jul 2015-Jun 2016 from annual population survey - regional - occupation by sex by employment type'}, {'value': 10700, 'description': 'Undefined Confidence for United Kingdom (geography), Full-time (Full/Part-time), Females (Sex), 213 Information Technology and Telecommunications Professionals (Occupation), Count (measure) for Jul 2015-Jun 2016 from annual population survey - regional - occupation by sex by employment type'}, {'value': 132400, 'description': 'Undefined Confidence for United Kingdom (geography), Full-time (Full/Part-time), Employee (Employee/Self-employed), Count (measure) for Jul 2015-Jun 2016 from annual population survey - regional - occupation by sex by employment type'}, {'value': 26400, 'description': 'Undefined Confidence for United Kingdom (geography), Full-time (Full/Part-time), Employee (Employee/Self-employed), 213 Information Technology and Telecommunications Professionals (Occupation), Count (measure) for Jul 2015-Jun 2016 from annual population survey - regional - occupation by sex by employment type'}, {'value': 103100, 'description': 'Undefined Confidence for United Kingdom (geography), Full-time (Full/Part-time), Employee (Employee/Self-employed), Males (Sex), Count (measure) for Jul 2015-Jun 2016 from annual population survey - regional - occupation by sex by employment type'}, {'value': 24300, 'description': 'Undefined Confidence for United Kingdom (geography), Full-time (Full/Part-time), Employee (Employee/Self-employed), Males (Sex), 213 Information Technology and Telecommunications Professionals (Occupation), Count (measure) for Jul 2015-Jun 2016 from annual population survey - regional - occupation by sex by employment type'}, {'value': 83000, 'description': 'Undefined Confidence for United Kingdom (geography), Full-time (Full/Part-time), Employee (Employee/Self-employed), Females (Sex), Count (measure) for Jul 2015-Jun 2016 from annual population survey - regional - occupation by sex by employment type'}, {'value': 10300, 'description': 'Undefined Confidence for United Kingdom (geography), Full-time (Full/Part-time), Employee (Employee/Self-employed), Females (Sex), 213 Information Technology and Telecommunications Professionals (Occupation), Count (measure) for Jul 2015-Jun 2016 from annual population survey - regional - occupation by sex by employment type'}, {'value': 149300, 'description': 'Undefined Confidence for United Kingdom (geography), Permanent (Permanent/non-permanent), Count (measure) for Jul 2015-Jun 2016 from annual population survey - regional - occupation by sex by employment type'}, {'value': 26600, 'description': 'Undefined Confidence for United Kingdom (geography), Permanent (Permanent/non-permanent), 213 Information Technology and Telecommunications Professionals (Occupation), Count (measure) for Jul 2015-Jun 2016 from annual population survey - regional - occupation by sex by employment type'}, {'value': 106700, 'description': 'Undefined Confidence for United Kingdom (geography), Permanent (Permanent/non-permanent), Males (Sex), Count (measure) for Jul 2015-Jun 2016 from annual population survey - regional - occupation by sex by employment type'}, {'value': 24100, 'description': 'Undefined Confidence for United Kingdom (geography), Permanent (Permanent/non-permanent), Males (Sex), 213 Information Technology and Telecommunications Professionals (Occupation), Count (measure) for Jul 2015-Jun 2016 from annual population survey - regional - occupation by sex by employment type'}, {'value': 104500, 'description': 'Undefined Confidence for United Kingdom (geography), Permanent (Permanent/non-permanent), Females (Sex), Count (measure) for Jul 2015-Jun 2016 from annual population survey - regional - occupation by sex by employment type'}, {'value': 11000, 'description': 'Undefined Confidence for United Kingdom (geography), Permanent (Permanent/non-permanent), Females (Sex), 213 Information Technology and Telecommunications Professionals (Occupation), Count (measure) for Jul 2015-Jun 2016 from annual population survey - regional - occupation by sex by employment type'}, {'value': 149300, 'description': 'Undefined Confidence for United Kingdom (geography), Permanent (Permanent/non-permanent), Employee (Employee/Self-employed), Count (measure) for Jul 2015-Jun 2016 from annual population survey - regional - occupation by sex by employment type'}, {'value': 26600, 'description': 'Undefined Confidence for United Kingdom (geography), Permanent (Permanent/non-permanent), Employee (Employee/Self-employed), 213 Information Technology and Telecommunications Professionals (Occupation), Count (measure) for Jul 2015-Jun 2016 from annual population survey - regional - occupation by sex by employment type'}, {'value': 106700, 'description': 'Undefined Confidence for United Kingdom (geography), Permanent (Permanent/non-permanent), Employee (Employee/Self-employed), Males (Sex), Count (measure) for Jul 2015-Jun 2016 from annual population survey - regional - occupation by sex by employment type'}, {'value': 24100, 'description': 'Undefined Confidence for United Kingdom (geography), Permanent (Permanent/non-permanent), Employee (Employee/Self-employed), Males (Sex), 213 Information Technology and Telecommunications Professionals (Occupation), Count (measure) for Jul 2015-Jun 2016 from annual population survey - regional - occupation by sex by employment type'}, {'value': 104500, 'description': 'Undefined Confidence for United Kingdom (geography), Permanent (Permanent/non-permanent), Employee (Employee/Self-employed), Females (Sex), Count (measure) for Jul 2015-Jun 2016 from annual population survey - regional - occupation by sex by employment type'}, {'value': 11000, 'description': 'Undefined Confidence for United Kingdom (geography), Permanent (Permanent/non-permanent), Employee (Employee/Self-employed), Females (Sex), 213 Information Technology and Telecommunications Professionals (Occupation), Count (measure) for Jul 2015-Jun 2016 from annual population survey - regional - occupation by sex by employment type'}, {'value': 129500, 'description': 'Undefined Confidence for United Kingdom (geography), Permanent (Permanent/non-permanent), Full-time (Full/Part-time), Count (measure) for Jul 2015-Jun 2016 from annual population survey - regional - occupation by sex by employment type'}, {'value': 26000, 'description': 'Undefined Confidence for United Kingdom (geography), Permanent (Permanent/non-permanent), Full-time (Full/Part-time), 213 Information Technology and Telecommunications Professionals (Occupation), Count (measure) for Jul 2015-Jun 2016 from annual population survey - regional - occupation by sex by employment type'}, {'value': 101100, 'description': 'Undefined Confidence for United Kingdom (geography), Permanent (Permanent/non-permanent), Full-time (Full/Part-time), Males (Sex), Count (measure) for Jul 2015-Jun 2016 from annual population survey - regional - occupation by sex by employment type'}, {'value': 23900, 'description': 'Undefined Confidence for United Kingdom (geography), Permanent (Permanent/non-permanent), Full-time (Full/Part-time), Males (Sex), 213 Information Technology and Telecommunications Professionals (Occupation), Count (measure) for Jul 2015-Jun 2016 from annual population survey - regional - occupation by sex by employment type'}, {'value': 80900, 'description': 'Undefined Confidence for United Kingdom (geography), Permanent (Permanent/non-permanent), Full-time (Full/Part-time), Females (Sex), Count (measure) for Jul 2015-Jun 2016 from annual population survey - regional - occupation by sex by employment type'}, {'value': 10100, 'description': 'Undefined Confidence for United Kingdom (geography), Permanent (Permanent/non-permanent), Full-time (Full/Part-time), Females (Sex), 213 Information Technology and Telecommunications Professionals (Occupation), Count (measure) for Jul 2015-Jun 2016 from annual population survey - regional - occupation by sex by employment type'}, {'value': 129500, 'description': 'Undefined Confidence for United Kingdom (geography), Permanent (Permanent/non-permanent), Full-time (Full/Part-time), Employee (Employee/Self-employed), Count (measure) for Jul 2015-Jun 2016 from annual population survey - regional - occupation by sex by employment type'}, {'value': 26000, 'description': 'Undefined Confidence for United Kingdom (geography), Permanent (Permanent/non-permanent), Full-time (Full/Part-time), Employee (Employee/Self-employed), 213 Information Technology and Telecommunications Professionals (Occupation), Count (measure) for Jul 2015-Jun 2016 from annual population survey - regional - occupation by sex by employment type'}, {'value': 101100, 'description': 'Undefined Confidence for United Kingdom (geography), Permanent (Permanent/non-permanent), Full-time (Full/Part-time), Employee (Employee/Self-employed), Males (Sex), Count (measure) for Jul 2015-Jun 2016 from annual population survey - regional - occupation by sex by employment type'}, {'value': 23900, 'description': 'Undefined Confidence for United Kingdom (geography), Permanent (Permanent/non-permanent), Full-time (Full/Part-time), Employee (Employee/Self-employed), Males (Sex), 213 Information Technology and Telecommunications Professionals (Occupation), Count (measure) for Jul 2015-Jun 2016 from annual population survey - regional - occupation by sex by employment type'}, {'value': 80900, 'description': 'Undefined Confidence for United Kingdom (geography), Permanent (Permanent/non-permanent), Full-time (Full/Part-time), Employee (Employee/Self-employed), Females (Sex), Count (measure) for Jul 2015-Jun 2016 from annual population survey - regional - occupation by sex by employment type'}, {'value': 10100, 'description': 'Undefined Confidence for United Kingdom (geography), Permanent (Permanent/non-permanent), Full-time (Full/Part-time), Employee (Employee/Self-employed), Females (Sex), 213 Information Technology and Telecommunications Professionals (Occupation), Count (measure) for Jul 2015-Jun 2016 from annual population survey - regional - occupation by sex by employment type'}]\n"
     ]
    }
   ],
   "source": [
    "#make a call to the API and parse to json file\n",
    "link = \"https://www.nomisweb.co.uk/api/v01/dataset/NM_210_1.data.json?geography=2092957697&date=latestMINUS20&jtype=0,1&ftpt=0,1&etype=0,1&c_sex=0...2&c_occpuk11h_0=0,20002&measure=1&measures=20100,20701\"\n",
    "r = requests.get(link)\n",
    "data = r.json()\n",
    "\n",
    "#create df from json file\n",
    "df_2016_UK = pd.DataFrame(data['obs'])\n",
    "\n",
    "#get specific data from within the list of dictionaries and store to variable Sex_UK_Count_16\n",
    "Sex_UK_Count_16 = list(map(itemgetter('obs_value'), data['obs']))\n",
    "print(Sex_UK_Count_16)\n"
   ]
  },
  {
   "cell_type": "code",
   "execution_count": 246,
   "id": "e0275711",
   "metadata": {},
   "outputs": [
    {
     "data": {
      "text/html": [
       "<div>\n",
       "<style scoped>\n",
       "    .dataframe tbody tr th:only-of-type {\n",
       "        vertical-align: middle;\n",
       "    }\n",
       "\n",
       "    .dataframe tbody tr th {\n",
       "        vertical-align: top;\n",
       "    }\n",
       "\n",
       "    .dataframe thead th {\n",
       "        text-align: right;\n",
       "    }\n",
       "</style>\n",
       "<table border=\"1\" class=\"dataframe\">\n",
       "  <thead>\n",
       "    <tr style=\"text-align: right;\">\n",
       "      <th></th>\n",
       "      <th>value</th>\n",
       "      <th>description</th>\n",
       "    </tr>\n",
       "  </thead>\n",
       "  <tbody>\n",
       "    <tr>\n",
       "      <th>0</th>\n",
       "      <td>31239300</td>\n",
       "      <td>Undefined Value for United Kingdom (geography)...</td>\n",
       "    </tr>\n",
       "    <tr>\n",
       "      <th>1</th>\n",
       "      <td>938100</td>\n",
       "      <td>Undefined Value for United Kingdom (geography)...</td>\n",
       "    </tr>\n",
       "    <tr>\n",
       "      <th>2</th>\n",
       "      <td>16642000</td>\n",
       "      <td>Undefined Value for United Kingdom (geography)...</td>\n",
       "    </tr>\n",
       "    <tr>\n",
       "      <th>3</th>\n",
       "      <td>780900</td>\n",
       "      <td>Undefined Value for United Kingdom (geography)...</td>\n",
       "    </tr>\n",
       "    <tr>\n",
       "      <th>4</th>\n",
       "      <td>14597300</td>\n",
       "      <td>Undefined Value for United Kingdom (geography)...</td>\n",
       "    </tr>\n",
       "    <tr>\n",
       "      <th>...</th>\n",
       "      <td>...</td>\n",
       "      <td>...</td>\n",
       "    </tr>\n",
       "    <tr>\n",
       "      <th>91</th>\n",
       "      <td>26000</td>\n",
       "      <td>Undefined Confidence for United Kingdom (geogr...</td>\n",
       "    </tr>\n",
       "    <tr>\n",
       "      <th>92</th>\n",
       "      <td>101100</td>\n",
       "      <td>Undefined Confidence for United Kingdom (geogr...</td>\n",
       "    </tr>\n",
       "    <tr>\n",
       "      <th>93</th>\n",
       "      <td>23900</td>\n",
       "      <td>Undefined Confidence for United Kingdom (geogr...</td>\n",
       "    </tr>\n",
       "    <tr>\n",
       "      <th>94</th>\n",
       "      <td>80900</td>\n",
       "      <td>Undefined Confidence for United Kingdom (geogr...</td>\n",
       "    </tr>\n",
       "    <tr>\n",
       "      <th>95</th>\n",
       "      <td>10100</td>\n",
       "      <td>Undefined Confidence for United Kingdom (geogr...</td>\n",
       "    </tr>\n",
       "  </tbody>\n",
       "</table>\n",
       "<p>96 rows × 2 columns</p>\n",
       "</div>"
      ],
      "text/plain": [
       "       value                                        description\n",
       "0   31239300  Undefined Value for United Kingdom (geography)...\n",
       "1     938100  Undefined Value for United Kingdom (geography)...\n",
       "2   16642000  Undefined Value for United Kingdom (geography)...\n",
       "3     780900  Undefined Value for United Kingdom (geography)...\n",
       "4   14597300  Undefined Value for United Kingdom (geography)...\n",
       "..       ...                                                ...\n",
       "91     26000  Undefined Confidence for United Kingdom (geogr...\n",
       "92    101100  Undefined Confidence for United Kingdom (geogr...\n",
       "93     23900  Undefined Confidence for United Kingdom (geogr...\n",
       "94     80900  Undefined Confidence for United Kingdom (geogr...\n",
       "95     10100  Undefined Confidence for United Kingdom (geogr...\n",
       "\n",
       "[96 rows x 2 columns]"
      ]
     },
     "execution_count": 246,
     "metadata": {},
     "output_type": "execute_result"
    }
   ],
   "source": [
    "#create df from exatrcted values\n",
    "df_sex_16_UK = pd.DataFrame(Sex_UK_Count_16)\n",
    "df_sex_16_UK"
   ]
  },
  {
   "cell_type": "code",
   "execution_count": 247,
   "id": "860fbdc2",
   "metadata": {},
   "outputs": [],
   "source": [
    "#export this data to a csv file \n",
    "df_sex_16_UK.to_csv('Sex_UK_16.csv')"
   ]
  },
  {
   "cell_type": "code",
   "execution_count": 248,
   "id": "cd0cb6e2",
   "metadata": {},
   "outputs": [],
   "source": [
    "#extract values for count of M and F in UK for 2016 and assign to variables\n",
    "Males_UK_16 = df_sex_16_UK.at[3, 'value']\n",
    "Females_UK_16 = df_sex_16_UK.at[5, 'value']"
   ]
  },
  {
   "cell_type": "markdown",
   "id": "4e6a14dc",
   "metadata": {},
   "source": [
    "### Create Data Frame to store data on total count of Tech occupations by sex, by region"
   ]
  },
  {
   "cell_type": "code",
   "execution_count": 553,
   "id": "d687df2f",
   "metadata": {},
   "outputs": [
    {
     "name": "stdout",
     "output_type": "stream",
     "text": [
      "Empty DataFrame\n",
      "Columns: [Year, Males, Females, Location]\n",
      "Index: []\n"
     ]
    }
   ],
   "source": [
    "#assign column names to a list\n",
    "column_names = [\"Year\", \"Males\", \"Females\", \"Location\"]\n",
    "\n",
    "#Create empty DataFrame with `column_names`\n",
    "Results_df = pd.DataFrame(columns = column_names)\n",
    "\n",
    "print(Results_df)"
   ]
  },
  {
   "cell_type": "code",
   "execution_count": 554,
   "id": "6f1bb1e6",
   "metadata": {
    "scrolled": true
   },
   "outputs": [
    {
     "name": "stdout",
     "output_type": "stream",
     "text": [
      "    Year    Males Females          Location\n",
      "0   2021   909800  238800           England\n",
      "1   2020   818800  168900           England\n",
      "2   2019   750800  149600           England\n",
      "3   2018   692600  149600           England\n",
      "4   2017   697200  145400           England\n",
      "5   2016   689100  137200           England\n",
      "6   2021    24700    5900             Wales\n",
      "7   2020    25500    4400             Wales\n",
      "8   2019    22000    4500             Wales\n",
      "9   2018    23000    4100             Wales\n",
      "10  2017    23400    3600             Wales\n",
      "11  2016    19400    4200             Wales\n",
      "12  2021    26200    5000  Northern Ireland\n",
      "13  2020    17600    3900  Northern Ireland\n",
      "14  2019    15200    2500  Northern Ireland\n",
      "15  2018    17500    2900  Northern Ireland\n",
      "16  2017    13800    2800  Northern Ireland\n",
      "17  2016    15700    2800  Northern Ireland\n",
      "18  2021    72700   20000          Scotland\n",
      "19  2020    53400   14600          Scotland\n",
      "20  2019    49500   12600          Scotland\n",
      "21  2018    55600   17200          Scotland\n",
      "22  2017    55000   14900          Scotland\n",
      "23  2016    56800   13000          Scotland\n",
      "24  2021  1033400  269600                UK\n",
      "25  2020   915300  191800                UK\n",
      "26  2019   837500  169200                UK\n",
      "27  2018   788800  173800                UK\n",
      "28  2017   789400  166800                UK\n",
      "29  2016   780900  157100                UK\n"
     ]
    }
   ],
   "source": [
    "#append rows to the empty df\n",
    "#England\n",
    "Results_df = Results_df.append({'Year': '2021', 'Males': Males_England_21, 'Females': Females_England_21,\"Location\": 'England'}, ignore_index=True)\n",
    "Results_df = Results_df.append({'Year': '2020', 'Males': Males_England_20, 'Females': Females_England_20, \"Location\": 'England'}, ignore_index=True)\n",
    "Results_df = Results_df.append({'Year': '2019', 'Males': Males_England_19, 'Females': Females_England_19, \"Location\": 'England'}, ignore_index=True)\n",
    "Results_df = Results_df.append({'Year': '2018', 'Males': Males_England_18, 'Females': Females_England_18, \"Location\": 'England'}, ignore_index=True)\n",
    "Results_df = Results_df.append({'Year': '2017', 'Males': Males_England_17, 'Females': Females_England_17, \"Location\": 'England'}, ignore_index=True)\n",
    "Results_df = Results_df.append({'Year': '2016', 'Males': Males_England_16, 'Females': Females_England_16, \"Location\": 'England'}, ignore_index=True)\n",
    "#Wales\n",
    "Results_df = Results_df.append({'Year': '2021', 'Males': Males_Wales_21, 'Females': Females_Wales_21, \"Location\": 'Wales'}, ignore_index=True)\n",
    "Results_df = Results_df.append({'Year': '2020', 'Males': Males_Wales_20, 'Females': Females_Wales_20, \"Location\": 'Wales'}, ignore_index=True)\n",
    "Results_df = Results_df.append({'Year': '2019', 'Males': Males_Wales_19, 'Females': Females_Wales_19, \"Location\": 'Wales'}, ignore_index=True)\n",
    "Results_df = Results_df.append({'Year': '2018', 'Males': Males_Wales_18, 'Females': Females_Wales_18, \"Location\": 'Wales'}, ignore_index=True)\n",
    "Results_df = Results_df.append({'Year': '2017', 'Males': Males_Wales_17, 'Females': Females_Wales_17, \"Location\": 'Wales'}, ignore_index=True)\n",
    "Results_df = Results_df.append({'Year': '2016', 'Males': Males_Wales_16, 'Females': Females_Wales_16, \"Location\": 'Wales'}, ignore_index=True)\n",
    "#Northern Ireland\n",
    "Results_df = Results_df.append({'Year': '2021', 'Males': Males_NI_21, 'Females': Females_NI_21, \"Location\": 'Northern Ireland'}, ignore_index=True)\n",
    "Results_df = Results_df.append({'Year': '2020', 'Males': Males_NI_20, 'Females': Females_NI_20, \"Location\": 'Northern Ireland'}, ignore_index=True)\n",
    "Results_df = Results_df.append({'Year': '2019', 'Males': Males_NI_19, 'Females': Females_NI_19, \"Location\": 'Northern Ireland'}, ignore_index=True)\n",
    "Results_df = Results_df.append({'Year': '2018', 'Males': Males_NI_18, 'Females': Females_NI_18, \"Location\": 'Northern Ireland'}, ignore_index=True)\n",
    "Results_df = Results_df.append({'Year': '2017', 'Males': Males_NI_17, 'Females': Females_NI_17, \"Location\": 'Northern Ireland'}, ignore_index=True)\n",
    "Results_df = Results_df.append({'Year': '2016', 'Males': Males_NI_16, 'Females': Females_NI_16, \"Location\": 'Northern Ireland'}, ignore_index=True)\n",
    "#Scotland\n",
    "Results_df = Results_df.append({'Year': '2021', 'Males': Males_Scot_21, 'Females': Females_Scot_21, \"Location\": 'Scotland'}, ignore_index=True)\n",
    "Results_df = Results_df.append({'Year': '2020', 'Males': Males_Scot_20, 'Females': Females_Scot_20, \"Location\": 'Scotland'}, ignore_index=True)\n",
    "Results_df = Results_df.append({'Year': '2019', 'Males': Males_Scot_19, 'Females': Females_Scot_19, \"Location\": 'Scotland'}, ignore_index=True)\n",
    "Results_df = Results_df.append({'Year': '2018', 'Males': Males_Scot_18, 'Females': Females_Scot_18, \"Location\": 'Scotland'}, ignore_index=True)\n",
    "Results_df = Results_df.append({'Year': '2017', 'Males': Males_Scot_17, 'Females': Females_Scot_17, \"Location\": 'Scotland'}, ignore_index=True)\n",
    "Results_df = Results_df.append({'Year': '2016', 'Males': Males_Scot_16, 'Females': Females_Scot_16, \"Location\": 'Scotland'}, ignore_index=True)\n",
    "#UK\n",
    "Results_df = Results_df.append({'Year': '2021', 'Males': Males_UK_21, 'Females': Females_UK_21, \"Location\": 'UK'}, ignore_index=True)\n",
    "Results_df = Results_df.append({'Year': '2020', 'Males': Males_UK_20, 'Females': Females_UK_20, \"Location\": 'UK'}, ignore_index=True)\n",
    "Results_df = Results_df.append({'Year': '2019', 'Males': Males_UK_19, 'Females': Females_UK_19, \"Location\": 'UK'}, ignore_index=True)\n",
    "Results_df = Results_df.append({'Year': '2018', 'Males': Males_UK_18, 'Females': Females_UK_18, \"Location\": 'UK'}, ignore_index=True)\n",
    "Results_df = Results_df.append({'Year': '2017', 'Males': Males_UK_17, 'Females': Females_UK_17, \"Location\": 'UK'}, ignore_index=True)\n",
    "Results_df = Results_df.append({'Year': '2016', 'Males': Males_UK_16, 'Females': Females_UK_16, \"Location\": 'UK'}, ignore_index=True)\n",
    "\n",
    "print(Results_df)\n",
    "\n"
   ]
  },
  {
   "cell_type": "code",
   "execution_count": 574,
   "id": "a3c1fba4",
   "metadata": {},
   "outputs": [
    {
     "data": {
      "text/html": [
       "<div>\n",
       "<style scoped>\n",
       "    .dataframe tbody tr th:only-of-type {\n",
       "        vertical-align: middle;\n",
       "    }\n",
       "\n",
       "    .dataframe tbody tr th {\n",
       "        vertical-align: top;\n",
       "    }\n",
       "\n",
       "    .dataframe thead th {\n",
       "        text-align: right;\n",
       "    }\n",
       "</style>\n",
       "<table border=\"1\" class=\"dataframe\">\n",
       "  <thead>\n",
       "    <tr style=\"text-align: right;\">\n",
       "      <th></th>\n",
       "      <th>Year</th>\n",
       "      <th>Males</th>\n",
       "      <th>Females</th>\n",
       "      <th>Location</th>\n",
       "    </tr>\n",
       "  </thead>\n",
       "  <tbody>\n",
       "    <tr>\n",
       "      <th>0</th>\n",
       "      <td>False</td>\n",
       "      <td>False</td>\n",
       "      <td>False</td>\n",
       "      <td>False</td>\n",
       "    </tr>\n",
       "    <tr>\n",
       "      <th>1</th>\n",
       "      <td>False</td>\n",
       "      <td>False</td>\n",
       "      <td>False</td>\n",
       "      <td>False</td>\n",
       "    </tr>\n",
       "    <tr>\n",
       "      <th>2</th>\n",
       "      <td>False</td>\n",
       "      <td>False</td>\n",
       "      <td>False</td>\n",
       "      <td>False</td>\n",
       "    </tr>\n",
       "    <tr>\n",
       "      <th>3</th>\n",
       "      <td>False</td>\n",
       "      <td>False</td>\n",
       "      <td>False</td>\n",
       "      <td>False</td>\n",
       "    </tr>\n",
       "    <tr>\n",
       "      <th>4</th>\n",
       "      <td>False</td>\n",
       "      <td>False</td>\n",
       "      <td>False</td>\n",
       "      <td>False</td>\n",
       "    </tr>\n",
       "    <tr>\n",
       "      <th>5</th>\n",
       "      <td>False</td>\n",
       "      <td>False</td>\n",
       "      <td>False</td>\n",
       "      <td>False</td>\n",
       "    </tr>\n",
       "    <tr>\n",
       "      <th>6</th>\n",
       "      <td>False</td>\n",
       "      <td>False</td>\n",
       "      <td>False</td>\n",
       "      <td>False</td>\n",
       "    </tr>\n",
       "    <tr>\n",
       "      <th>7</th>\n",
       "      <td>False</td>\n",
       "      <td>False</td>\n",
       "      <td>False</td>\n",
       "      <td>False</td>\n",
       "    </tr>\n",
       "    <tr>\n",
       "      <th>8</th>\n",
       "      <td>False</td>\n",
       "      <td>False</td>\n",
       "      <td>False</td>\n",
       "      <td>False</td>\n",
       "    </tr>\n",
       "    <tr>\n",
       "      <th>9</th>\n",
       "      <td>False</td>\n",
       "      <td>False</td>\n",
       "      <td>False</td>\n",
       "      <td>False</td>\n",
       "    </tr>\n",
       "    <tr>\n",
       "      <th>10</th>\n",
       "      <td>False</td>\n",
       "      <td>False</td>\n",
       "      <td>False</td>\n",
       "      <td>False</td>\n",
       "    </tr>\n",
       "    <tr>\n",
       "      <th>11</th>\n",
       "      <td>False</td>\n",
       "      <td>False</td>\n",
       "      <td>False</td>\n",
       "      <td>False</td>\n",
       "    </tr>\n",
       "    <tr>\n",
       "      <th>12</th>\n",
       "      <td>False</td>\n",
       "      <td>False</td>\n",
       "      <td>False</td>\n",
       "      <td>False</td>\n",
       "    </tr>\n",
       "    <tr>\n",
       "      <th>13</th>\n",
       "      <td>False</td>\n",
       "      <td>False</td>\n",
       "      <td>False</td>\n",
       "      <td>False</td>\n",
       "    </tr>\n",
       "    <tr>\n",
       "      <th>14</th>\n",
       "      <td>False</td>\n",
       "      <td>False</td>\n",
       "      <td>False</td>\n",
       "      <td>False</td>\n",
       "    </tr>\n",
       "    <tr>\n",
       "      <th>15</th>\n",
       "      <td>False</td>\n",
       "      <td>False</td>\n",
       "      <td>False</td>\n",
       "      <td>False</td>\n",
       "    </tr>\n",
       "    <tr>\n",
       "      <th>16</th>\n",
       "      <td>False</td>\n",
       "      <td>False</td>\n",
       "      <td>False</td>\n",
       "      <td>False</td>\n",
       "    </tr>\n",
       "    <tr>\n",
       "      <th>17</th>\n",
       "      <td>False</td>\n",
       "      <td>False</td>\n",
       "      <td>False</td>\n",
       "      <td>False</td>\n",
       "    </tr>\n",
       "    <tr>\n",
       "      <th>18</th>\n",
       "      <td>False</td>\n",
       "      <td>False</td>\n",
       "      <td>False</td>\n",
       "      <td>False</td>\n",
       "    </tr>\n",
       "    <tr>\n",
       "      <th>19</th>\n",
       "      <td>False</td>\n",
       "      <td>False</td>\n",
       "      <td>False</td>\n",
       "      <td>False</td>\n",
       "    </tr>\n",
       "    <tr>\n",
       "      <th>20</th>\n",
       "      <td>False</td>\n",
       "      <td>False</td>\n",
       "      <td>False</td>\n",
       "      <td>False</td>\n",
       "    </tr>\n",
       "    <tr>\n",
       "      <th>21</th>\n",
       "      <td>False</td>\n",
       "      <td>False</td>\n",
       "      <td>False</td>\n",
       "      <td>False</td>\n",
       "    </tr>\n",
       "    <tr>\n",
       "      <th>22</th>\n",
       "      <td>False</td>\n",
       "      <td>False</td>\n",
       "      <td>False</td>\n",
       "      <td>False</td>\n",
       "    </tr>\n",
       "    <tr>\n",
       "      <th>23</th>\n",
       "      <td>False</td>\n",
       "      <td>False</td>\n",
       "      <td>False</td>\n",
       "      <td>False</td>\n",
       "    </tr>\n",
       "    <tr>\n",
       "      <th>24</th>\n",
       "      <td>False</td>\n",
       "      <td>False</td>\n",
       "      <td>False</td>\n",
       "      <td>False</td>\n",
       "    </tr>\n",
       "    <tr>\n",
       "      <th>25</th>\n",
       "      <td>False</td>\n",
       "      <td>False</td>\n",
       "      <td>False</td>\n",
       "      <td>False</td>\n",
       "    </tr>\n",
       "    <tr>\n",
       "      <th>26</th>\n",
       "      <td>False</td>\n",
       "      <td>False</td>\n",
       "      <td>False</td>\n",
       "      <td>False</td>\n",
       "    </tr>\n",
       "    <tr>\n",
       "      <th>27</th>\n",
       "      <td>False</td>\n",
       "      <td>False</td>\n",
       "      <td>False</td>\n",
       "      <td>False</td>\n",
       "    </tr>\n",
       "    <tr>\n",
       "      <th>28</th>\n",
       "      <td>False</td>\n",
       "      <td>False</td>\n",
       "      <td>False</td>\n",
       "      <td>False</td>\n",
       "    </tr>\n",
       "    <tr>\n",
       "      <th>29</th>\n",
       "      <td>False</td>\n",
       "      <td>False</td>\n",
       "      <td>False</td>\n",
       "      <td>False</td>\n",
       "    </tr>\n",
       "  </tbody>\n",
       "</table>\n",
       "</div>"
      ],
      "text/plain": [
       "     Year  Males  Females  Location\n",
       "0   False  False    False     False\n",
       "1   False  False    False     False\n",
       "2   False  False    False     False\n",
       "3   False  False    False     False\n",
       "4   False  False    False     False\n",
       "5   False  False    False     False\n",
       "6   False  False    False     False\n",
       "7   False  False    False     False\n",
       "8   False  False    False     False\n",
       "9   False  False    False     False\n",
       "10  False  False    False     False\n",
       "11  False  False    False     False\n",
       "12  False  False    False     False\n",
       "13  False  False    False     False\n",
       "14  False  False    False     False\n",
       "15  False  False    False     False\n",
       "16  False  False    False     False\n",
       "17  False  False    False     False\n",
       "18  False  False    False     False\n",
       "19  False  False    False     False\n",
       "20  False  False    False     False\n",
       "21  False  False    False     False\n",
       "22  False  False    False     False\n",
       "23  False  False    False     False\n",
       "24  False  False    False     False\n",
       "25  False  False    False     False\n",
       "26  False  False    False     False\n",
       "27  False  False    False     False\n",
       "28  False  False    False     False\n",
       "29  False  False    False     False"
      ]
     },
     "execution_count": 574,
     "metadata": {},
     "output_type": "execute_result"
    }
   ],
   "source": [
    "#Check df for null values\n",
    "Results_df.isnull()"
   ]
  },
  {
   "cell_type": "code",
   "execution_count": 443,
   "id": "6db1efcf",
   "metadata": {},
   "outputs": [],
   "source": [
    "#export this data to a csv file \n",
    "Results_df.to_csv('Sex_Total_Count_All_UK.csv')"
   ]
  },
  {
   "cell_type": "code",
   "execution_count": 477,
   "id": "ddc7e3e5",
   "metadata": {},
   "outputs": [
    {
     "data": {
      "text/html": [
       "<div>\n",
       "<style scoped>\n",
       "    .dataframe tbody tr th:only-of-type {\n",
       "        vertical-align: middle;\n",
       "    }\n",
       "\n",
       "    .dataframe tbody tr th {\n",
       "        vertical-align: top;\n",
       "    }\n",
       "\n",
       "    .dataframe thead th {\n",
       "        text-align: right;\n",
       "    }\n",
       "</style>\n",
       "<table border=\"1\" class=\"dataframe\">\n",
       "  <thead>\n",
       "    <tr style=\"text-align: right;\">\n",
       "      <th></th>\n",
       "      <th>Year</th>\n",
       "      <th>Males</th>\n",
       "      <th>Females</th>\n",
       "      <th>Location</th>\n",
       "    </tr>\n",
       "  </thead>\n",
       "  <tbody>\n",
       "    <tr>\n",
       "      <th>count</th>\n",
       "      <td>30</td>\n",
       "      <td>30</td>\n",
       "      <td>30</td>\n",
       "      <td>30</td>\n",
       "    </tr>\n",
       "    <tr>\n",
       "      <th>unique</th>\n",
       "      <td>6</td>\n",
       "      <td>30</td>\n",
       "      <td>28</td>\n",
       "      <td>5</td>\n",
       "    </tr>\n",
       "    <tr>\n",
       "      <th>top</th>\n",
       "      <td>2021</td>\n",
       "      <td>909800</td>\n",
       "      <td>2800</td>\n",
       "      <td>England</td>\n",
       "    </tr>\n",
       "    <tr>\n",
       "      <th>freq</th>\n",
       "      <td>5</td>\n",
       "      <td>1</td>\n",
       "      <td>2</td>\n",
       "      <td>6</td>\n",
       "    </tr>\n",
       "  </tbody>\n",
       "</table>\n",
       "</div>"
      ],
      "text/plain": [
       "        Year   Males  Females Location\n",
       "count     30      30       30       30\n",
       "unique     6      30       28        5\n",
       "top     2021  909800     2800  England\n",
       "freq       5       1        2        6"
      ]
     },
     "execution_count": 477,
     "metadata": {},
     "output_type": "execute_result"
    }
   ],
   "source": [
    "import numpy as np\n",
    "Results_df.describe()"
   ]
  },
  {
   "cell_type": "code",
   "execution_count": 478,
   "id": "bf42311c",
   "metadata": {},
   "outputs": [
    {
     "name": "stdout",
     "output_type": "stream",
     "text": [
      "<class 'pandas.core.frame.DataFrame'>\n",
      "RangeIndex: 30 entries, 0 to 29\n",
      "Data columns (total 4 columns):\n",
      " #   Column    Non-Null Count  Dtype \n",
      "---  ------    --------------  ----- \n",
      " 0   Year      30 non-null     object\n",
      " 1   Males     30 non-null     object\n",
      " 2   Females   30 non-null     object\n",
      " 3   Location  30 non-null     object\n",
      "dtypes: object(4)\n",
      "memory usage: 1.1+ KB\n"
     ]
    }
   ],
   "source": [
    "Results_df.info()"
   ]
  },
  {
   "cell_type": "code",
   "execution_count": 256,
   "id": "62fea5ee",
   "metadata": {},
   "outputs": [
    {
     "data": {
      "text/html": [
       "<div>\n",
       "<style scoped>\n",
       "    .dataframe tbody tr th:only-of-type {\n",
       "        vertical-align: middle;\n",
       "    }\n",
       "\n",
       "    .dataframe tbody tr th {\n",
       "        vertical-align: top;\n",
       "    }\n",
       "\n",
       "    .dataframe thead th {\n",
       "        text-align: right;\n",
       "    }\n",
       "</style>\n",
       "<table border=\"1\" class=\"dataframe\">\n",
       "  <thead>\n",
       "    <tr style=\"text-align: right;\">\n",
       "      <th></th>\n",
       "      <th>Year</th>\n",
       "      <th>Males</th>\n",
       "      <th>Females</th>\n",
       "      <th>Location</th>\n",
       "    </tr>\n",
       "  </thead>\n",
       "  <tbody>\n",
       "    <tr>\n",
       "      <th>5</th>\n",
       "      <td>2016</td>\n",
       "      <td>689100</td>\n",
       "      <td>137200</td>\n",
       "      <td>England</td>\n",
       "    </tr>\n",
       "    <tr>\n",
       "      <th>17</th>\n",
       "      <td>2016</td>\n",
       "      <td>15700</td>\n",
       "      <td>2800</td>\n",
       "      <td>Northern Ireland</td>\n",
       "    </tr>\n",
       "    <tr>\n",
       "      <th>23</th>\n",
       "      <td>2016</td>\n",
       "      <td>56800</td>\n",
       "      <td>13000</td>\n",
       "      <td>Scotland</td>\n",
       "    </tr>\n",
       "    <tr>\n",
       "      <th>29</th>\n",
       "      <td>2016</td>\n",
       "      <td>780900</td>\n",
       "      <td>157100</td>\n",
       "      <td>UK</td>\n",
       "    </tr>\n",
       "    <tr>\n",
       "      <th>11</th>\n",
       "      <td>2016</td>\n",
       "      <td>19400</td>\n",
       "      <td>4200</td>\n",
       "      <td>Wales</td>\n",
       "    </tr>\n",
       "    <tr>\n",
       "      <th>4</th>\n",
       "      <td>2017</td>\n",
       "      <td>697200</td>\n",
       "      <td>145400</td>\n",
       "      <td>England</td>\n",
       "    </tr>\n",
       "    <tr>\n",
       "      <th>16</th>\n",
       "      <td>2017</td>\n",
       "      <td>13800</td>\n",
       "      <td>2800</td>\n",
       "      <td>Northern Ireland</td>\n",
       "    </tr>\n",
       "    <tr>\n",
       "      <th>22</th>\n",
       "      <td>2017</td>\n",
       "      <td>55000</td>\n",
       "      <td>14900</td>\n",
       "      <td>Scotland</td>\n",
       "    </tr>\n",
       "    <tr>\n",
       "      <th>28</th>\n",
       "      <td>2017</td>\n",
       "      <td>789400</td>\n",
       "      <td>166800</td>\n",
       "      <td>UK</td>\n",
       "    </tr>\n",
       "    <tr>\n",
       "      <th>10</th>\n",
       "      <td>2017</td>\n",
       "      <td>23400</td>\n",
       "      <td>3600</td>\n",
       "      <td>Wales</td>\n",
       "    </tr>\n",
       "    <tr>\n",
       "      <th>3</th>\n",
       "      <td>2018</td>\n",
       "      <td>692600</td>\n",
       "      <td>149600</td>\n",
       "      <td>England</td>\n",
       "    </tr>\n",
       "    <tr>\n",
       "      <th>15</th>\n",
       "      <td>2018</td>\n",
       "      <td>17500</td>\n",
       "      <td>2900</td>\n",
       "      <td>Northern Ireland</td>\n",
       "    </tr>\n",
       "    <tr>\n",
       "      <th>21</th>\n",
       "      <td>2018</td>\n",
       "      <td>55600</td>\n",
       "      <td>17200</td>\n",
       "      <td>Scotland</td>\n",
       "    </tr>\n",
       "    <tr>\n",
       "      <th>27</th>\n",
       "      <td>2018</td>\n",
       "      <td>788800</td>\n",
       "      <td>173800</td>\n",
       "      <td>UK</td>\n",
       "    </tr>\n",
       "    <tr>\n",
       "      <th>9</th>\n",
       "      <td>2018</td>\n",
       "      <td>23000</td>\n",
       "      <td>4100</td>\n",
       "      <td>Wales</td>\n",
       "    </tr>\n",
       "    <tr>\n",
       "      <th>2</th>\n",
       "      <td>2019</td>\n",
       "      <td>750800</td>\n",
       "      <td>149600</td>\n",
       "      <td>England</td>\n",
       "    </tr>\n",
       "    <tr>\n",
       "      <th>14</th>\n",
       "      <td>2019</td>\n",
       "      <td>15200</td>\n",
       "      <td>2500</td>\n",
       "      <td>Northern Ireland</td>\n",
       "    </tr>\n",
       "    <tr>\n",
       "      <th>20</th>\n",
       "      <td>2019</td>\n",
       "      <td>49500</td>\n",
       "      <td>12600</td>\n",
       "      <td>Scotland</td>\n",
       "    </tr>\n",
       "    <tr>\n",
       "      <th>26</th>\n",
       "      <td>2019</td>\n",
       "      <td>837500</td>\n",
       "      <td>169200</td>\n",
       "      <td>UK</td>\n",
       "    </tr>\n",
       "    <tr>\n",
       "      <th>8</th>\n",
       "      <td>2019</td>\n",
       "      <td>22000</td>\n",
       "      <td>4500</td>\n",
       "      <td>Wales</td>\n",
       "    </tr>\n",
       "    <tr>\n",
       "      <th>1</th>\n",
       "      <td>2020</td>\n",
       "      <td>818800</td>\n",
       "      <td>168900</td>\n",
       "      <td>England</td>\n",
       "    </tr>\n",
       "    <tr>\n",
       "      <th>13</th>\n",
       "      <td>2020</td>\n",
       "      <td>17600</td>\n",
       "      <td>3900</td>\n",
       "      <td>Northern Ireland</td>\n",
       "    </tr>\n",
       "    <tr>\n",
       "      <th>19</th>\n",
       "      <td>2020</td>\n",
       "      <td>53400</td>\n",
       "      <td>14600</td>\n",
       "      <td>Scotland</td>\n",
       "    </tr>\n",
       "    <tr>\n",
       "      <th>25</th>\n",
       "      <td>2020</td>\n",
       "      <td>915300</td>\n",
       "      <td>191800</td>\n",
       "      <td>UK</td>\n",
       "    </tr>\n",
       "    <tr>\n",
       "      <th>7</th>\n",
       "      <td>2020</td>\n",
       "      <td>25500</td>\n",
       "      <td>4400</td>\n",
       "      <td>Wales</td>\n",
       "    </tr>\n",
       "    <tr>\n",
       "      <th>0</th>\n",
       "      <td>2021</td>\n",
       "      <td>909800</td>\n",
       "      <td>238800</td>\n",
       "      <td>England</td>\n",
       "    </tr>\n",
       "    <tr>\n",
       "      <th>12</th>\n",
       "      <td>2021</td>\n",
       "      <td>26200</td>\n",
       "      <td>5000</td>\n",
       "      <td>Northern Ireland</td>\n",
       "    </tr>\n",
       "    <tr>\n",
       "      <th>18</th>\n",
       "      <td>2021</td>\n",
       "      <td>72700</td>\n",
       "      <td>20000</td>\n",
       "      <td>Scotland</td>\n",
       "    </tr>\n",
       "    <tr>\n",
       "      <th>24</th>\n",
       "      <td>2021</td>\n",
       "      <td>1033400</td>\n",
       "      <td>269600</td>\n",
       "      <td>UK</td>\n",
       "    </tr>\n",
       "    <tr>\n",
       "      <th>6</th>\n",
       "      <td>2021</td>\n",
       "      <td>24700</td>\n",
       "      <td>5900</td>\n",
       "      <td>Wales</td>\n",
       "    </tr>\n",
       "  </tbody>\n",
       "</table>\n",
       "</div>"
      ],
      "text/plain": [
       "    Year    Males Females          Location\n",
       "5   2016   689100  137200           England\n",
       "17  2016    15700    2800  Northern Ireland\n",
       "23  2016    56800   13000          Scotland\n",
       "29  2016   780900  157100                UK\n",
       "11  2016    19400    4200             Wales\n",
       "4   2017   697200  145400           England\n",
       "16  2017    13800    2800  Northern Ireland\n",
       "22  2017    55000   14900          Scotland\n",
       "28  2017   789400  166800                UK\n",
       "10  2017    23400    3600             Wales\n",
       "3   2018   692600  149600           England\n",
       "15  2018    17500    2900  Northern Ireland\n",
       "21  2018    55600   17200          Scotland\n",
       "27  2018   788800  173800                UK\n",
       "9   2018    23000    4100             Wales\n",
       "2   2019   750800  149600           England\n",
       "14  2019    15200    2500  Northern Ireland\n",
       "20  2019    49500   12600          Scotland\n",
       "26  2019   837500  169200                UK\n",
       "8   2019    22000    4500             Wales\n",
       "1   2020   818800  168900           England\n",
       "13  2020    17600    3900  Northern Ireland\n",
       "19  2020    53400   14600          Scotland\n",
       "25  2020   915300  191800                UK\n",
       "7   2020    25500    4400             Wales\n",
       "0   2021   909800  238800           England\n",
       "12  2021    26200    5000  Northern Ireland\n",
       "18  2021    72700   20000          Scotland\n",
       "24  2021  1033400  269600                UK\n",
       "6   2021    24700    5900             Wales"
      ]
     },
     "execution_count": 256,
     "metadata": {},
     "output_type": "execute_result"
    }
   ],
   "source": [
    "Results_df.sort_values(by=['Year','Location'],ascending=[True,True],inplace=False)"
   ]
  },
  {
   "cell_type": "code",
   "execution_count": 390,
   "id": "499ba00c",
   "metadata": {
    "scrolled": true
   },
   "outputs": [
    {
     "name": "stdout",
     "output_type": "stream",
     "text": [
      "    Year    Males Females          Location Males - Females Males + Females\n",
      "0   2021   909800  238800           England          671000         1148600\n",
      "1   2020   818800  168900           England          649900          987700\n",
      "2   2019   750800  149600           England          601200          900400\n",
      "3   2018   692600  149600           England          543000          842200\n",
      "4   2017   697200  145400           England          551800          842600\n",
      "5   2016   689100  137200           England          551900          826300\n",
      "6   2021    24700    5900             Wales           18800           30600\n",
      "7   2020    25500    4400             Wales           21100           29900\n",
      "8   2019    22000    4500             Wales           17500           26500\n",
      "9   2018    23000    4100             Wales           18900           27100\n",
      "10  2017    23400    3600             Wales           19800           27000\n",
      "11  2016    19400    4200             Wales           15200           23600\n",
      "12  2021    26200    5000  Northern Ireland           21200           31200\n",
      "13  2020    17600    3900  Northern Ireland           13700           21500\n",
      "14  2019    15200    2500  Northern Ireland           12700           17700\n",
      "15  2018    17500    2900  Northern Ireland           14600           20400\n",
      "16  2017    13800    2800  Northern Ireland           11000           16600\n",
      "17  2016    15700    2800  Northern Ireland           12900           18500\n",
      "18  2021    72700   20000          Scotland           52700           92700\n",
      "19  2020    53400   14600          Scotland           38800           68000\n",
      "20  2019    49500   12600          Scotland           36900           62100\n",
      "21  2018    55600   17200          Scotland           38400           72800\n",
      "22  2017    55000   14900          Scotland           40100           69900\n",
      "23  2016    56800   13000          Scotland           43800           69800\n",
      "24  2021  1033400  269600                UK          763800         1303000\n",
      "25  2020   915300  191800                UK          723500         1107100\n",
      "26  2019   837500  169200                UK          668300         1006700\n",
      "27  2018   788800  173800                UK          615000          962600\n",
      "28  2017   789400  166800                UK          622600          956200\n",
      "29  2016   780900  157100                UK          623800          938000\n"
     ]
    }
   ],
   "source": [
    "Results_df['Males - Females'] = Results_df['Males'] - Results_df['Females']\n",
    "Results_df['Males + Females'] = Results_df['Males'] + Results_df['Females']\n",
    "print(Results_df)"
   ]
  },
  {
   "cell_type": "code",
   "execution_count": null,
   "id": "9ed5310d",
   "metadata": {},
   "outputs": [],
   "source": [
    "import matplotlib.pyplot as plt\n",
    "import seaborn as sns"
   ]
  },
  {
   "cell_type": "markdown",
   "id": "d9214488",
   "metadata": {},
   "source": [
    "# Analysis"
   ]
  },
  {
   "cell_type": "markdown",
   "id": "c0a0f838",
   "metadata": {},
   "source": [
    "### Trends for mean values of males in tech by region"
   ]
  },
  {
   "cell_type": "code",
   "execution_count": 395,
   "id": "8644178c",
   "metadata": {},
   "outputs": [
    {
     "data": {
      "text/plain": [
       "<matplotlib.legend.Legend at 0x7ff26b5270d0>"
      ]
     },
     "execution_count": 395,
     "metadata": {},
     "output_type": "execute_result"
    },
    {
     "data": {
      "image/png": "[encoded data removed]",
      "text/plain": [
       "<Figure size 432x288 with 1 Axes>"
      ]
     },
     "metadata": {
      "needs_background": "light"
     },
     "output_type": "display_data"
    }
   ],
   "source": [
    "Mean_Males_trend = Results_df.pivot_table(\n",
    "    values='Males',\n",
    "    index='Year',\n",
    "    columns=\"Location\",\n",
    "    aggfunc=np.mean\n",
    ").plot()\n",
    "plt.legend(loc=\"lower right\", bbox_to_anchor=(1.5, 0.2))"
   ]
  },
  {
   "cell_type": "markdown",
   "id": "20845279",
   "metadata": {},
   "source": [
    "### Trends for mean values of females in tech by region"
   ]
  },
  {
   "cell_type": "code",
   "execution_count": 322,
   "id": "aee2daab",
   "metadata": {},
   "outputs": [
    {
     "data": {
      "text/plain": [
       "<AxesSubplot:xlabel='Year'>"
      ]
     },
     "execution_count": 322,
     "metadata": {},
     "output_type": "execute_result"
    },
    {
     "data": {
      "image/png": "[encoded data removed]",
      "text/plain": [
       "<Figure size 432x288 with 1 Axes>"
      ]
     },
     "metadata": {
      "needs_background": "light"
     },
     "output_type": "display_data"
    }
   ],
   "source": [
    "Mean_Females_trend = Results_df.pivot_table(\n",
    "    values='Females',\n",
    "    index='Year',\n",
    "    columns='Location',\n",
    "    aggfunc=np.mean\n",
    ").plot()\n",
    "plt.legend(loc=\"lower right\", bbox_to_anchor=(1.5, 0.2))\n",
    "\n",
    "Mean_Females"
   ]
  },
  {
   "cell_type": "markdown",
   "id": "06ee7fa6",
   "metadata": {},
   "source": [
    "### Trends for total values of males in tech by region"
   ]
  },
  {
   "cell_type": "code",
   "execution_count": 323,
   "id": "912d07b0",
   "metadata": {},
   "outputs": [
    {
     "data": {
      "text/plain": [
       "<matplotlib.legend.Legend at 0x7ff264619100>"
      ]
     },
     "execution_count": 323,
     "metadata": {},
     "output_type": "execute_result"
    },
    {
     "data": {
      "image/png": "[encoded data removed]",
      "text/plain": [
       "<Figure size 432x288 with 1 Axes>"
      ]
     },
     "metadata": {
      "needs_background": "light"
     },
     "output_type": "display_data"
    }
   ],
   "source": [
    "Sum_Males_trend = Results_df.pivot_table(\n",
    "    values='Males',\n",
    "    index='Year',\n",
    "    columns=\"Location\",\n",
    "    aggfunc=np.sum\n",
    ").plot()\n",
    "plt.legend(loc=\"lower right\", bbox_to_anchor=(1.5, 0.2))\n"
   ]
  },
  {
   "cell_type": "markdown",
   "id": "3c14e5c3",
   "metadata": {},
   "source": [
    "### Trends for total values of females in tech by region"
   ]
  },
  {
   "cell_type": "code",
   "execution_count": 320,
   "id": "9590ae66",
   "metadata": {},
   "outputs": [
    {
     "data": {
      "text/plain": [
       "<matplotlib.legend.Legend at 0x7ff265cb3400>"
      ]
     },
     "execution_count": 320,
     "metadata": {},
     "output_type": "execute_result"
    },
    {
     "data": {
      "image/png": "[encoded data removed]",
      "text/plain": [
       "<Figure size 432x288 with 1 Axes>"
      ]
     },
     "metadata": {
      "needs_background": "light"
     },
     "output_type": "display_data"
    }
   ],
   "source": [
    "Sum_Females_trend = Results_df.pivot_table(\n",
    "    values='Females',\n",
    "    index='Year',\n",
    "    columns=\"Location\",\n",
    "    aggfunc=np.sum\n",
    ").plot()\n",
    "plt.legend(loc=\"lower right\", bbox_to_anchor=(1.5, 0.2))\n"
   ]
  },
  {
   "cell_type": "markdown",
   "id": "7383f56e",
   "metadata": {},
   "source": [
    "### Total of females in tech by region and year"
   ]
  },
  {
   "cell_type": "code",
   "execution_count": 324,
   "id": "42a48845",
   "metadata": {},
   "outputs": [
    {
     "data": {
      "text/plain": [
       "<matplotlib.legend.Legend at 0x7ff265ba9490>"
      ]
     },
     "execution_count": 324,
     "metadata": {},
     "output_type": "execute_result"
    },
    {
     "data": {
      "image/png": "[encoded data removed]",
      "text/plain": [
       "<Figure size 720x720 with 1 Axes>"
      ]
     },
     "metadata": {
      "needs_background": "light"
     },
     "output_type": "display_data"
    }
   ],
   "source": [
    "Sum_Females_bar = Results_df.pivot_table(\n",
    "    values='Females',\n",
    "    index='Location',\n",
    "    columns=\"Year\",\n",
    "    aggfunc=np.sum\n",
    ").plot.bar(figsize=(10,10))\n",
    "plt.legend(loc=\"lower right\", bbox_to_anchor=(1.5, 0.2))"
   ]
  },
  {
   "cell_type": "markdown",
   "id": "b4b82ac1",
   "metadata": {},
   "source": [
    "### Total of males in tech by region and year"
   ]
  },
  {
   "cell_type": "code",
   "execution_count": 333,
   "id": "c0956ea9",
   "metadata": {},
   "outputs": [
    {
     "data": {
      "text/plain": [
       "<matplotlib.legend.Legend at 0x7ff26805f7c0>"
      ]
     },
     "execution_count": 333,
     "metadata": {},
     "output_type": "execute_result"
    },
    {
     "data": {
      "image/png": "[encoded data removed]",
      "text/plain": [
       "<Figure size 720x720 with 1 Axes>"
      ]
     },
     "metadata": {
      "needs_background": "light"
     },
     "output_type": "display_data"
    }
   ],
   "source": [
    "Sum_Males_Bar = Results_df.pivot_table(\n",
    "    values='Males',\n",
    "    index='Location',\n",
    "    columns=\"Year\",\n",
    "    aggfunc=np.sum\n",
    ").plot.bar(figsize=(10,10), rot=0, )\n",
    "plt.legend(loc=\"lower right\", bbox_to_anchor=(1.5, 0.2))\n",
    " "
   ]
  },
  {
   "cell_type": "markdown",
   "id": "f9180163",
   "metadata": {},
   "source": [
    "### Total males in df format"
   ]
  },
  {
   "cell_type": "code",
   "execution_count": 557,
   "id": "43c22973",
   "metadata": {},
   "outputs": [],
   "source": [
    "Sum_Males = Results_df.pivot_table(\n",
    "    values='Males',\n",
    "    index='Year',\n",
    "    columns=\"Location\",\n",
    "    aggfunc=np.sum\n",
    ")"
   ]
  },
  {
   "cell_type": "code",
   "execution_count": 558,
   "id": "6caac6be",
   "metadata": {
    "scrolled": true
   },
   "outputs": [
    {
     "data": {
      "text/html": [
       "<div>\n",
       "<style scoped>\n",
       "    .dataframe tbody tr th:only-of-type {\n",
       "        vertical-align: middle;\n",
       "    }\n",
       "\n",
       "    .dataframe tbody tr th {\n",
       "        vertical-align: top;\n",
       "    }\n",
       "\n",
       "    .dataframe thead th {\n",
       "        text-align: right;\n",
       "    }\n",
       "</style>\n",
       "<table border=\"1\" class=\"dataframe\">\n",
       "  <thead>\n",
       "    <tr style=\"text-align: right;\">\n",
       "      <th>Location</th>\n",
       "      <th>Year</th>\n",
       "      <th>England</th>\n",
       "      <th>Northern Ireland</th>\n",
       "      <th>Scotland</th>\n",
       "      <th>UK</th>\n",
       "      <th>Wales</th>\n",
       "    </tr>\n",
       "  </thead>\n",
       "  <tbody>\n",
       "    <tr>\n",
       "      <th>0</th>\n",
       "      <td>2016</td>\n",
       "      <td>689100</td>\n",
       "      <td>15700</td>\n",
       "      <td>56800</td>\n",
       "      <td>780900</td>\n",
       "      <td>19400</td>\n",
       "    </tr>\n",
       "    <tr>\n",
       "      <th>1</th>\n",
       "      <td>2017</td>\n",
       "      <td>697200</td>\n",
       "      <td>13800</td>\n",
       "      <td>55000</td>\n",
       "      <td>789400</td>\n",
       "      <td>23400</td>\n",
       "    </tr>\n",
       "    <tr>\n",
       "      <th>2</th>\n",
       "      <td>2018</td>\n",
       "      <td>692600</td>\n",
       "      <td>17500</td>\n",
       "      <td>55600</td>\n",
       "      <td>788800</td>\n",
       "      <td>23000</td>\n",
       "    </tr>\n",
       "    <tr>\n",
       "      <th>3</th>\n",
       "      <td>2019</td>\n",
       "      <td>750800</td>\n",
       "      <td>15200</td>\n",
       "      <td>49500</td>\n",
       "      <td>837500</td>\n",
       "      <td>22000</td>\n",
       "    </tr>\n",
       "    <tr>\n",
       "      <th>4</th>\n",
       "      <td>2020</td>\n",
       "      <td>818800</td>\n",
       "      <td>17600</td>\n",
       "      <td>53400</td>\n",
       "      <td>915300</td>\n",
       "      <td>25500</td>\n",
       "    </tr>\n",
       "    <tr>\n",
       "      <th>5</th>\n",
       "      <td>2021</td>\n",
       "      <td>909800</td>\n",
       "      <td>26200</td>\n",
       "      <td>72700</td>\n",
       "      <td>1033400</td>\n",
       "      <td>24700</td>\n",
       "    </tr>\n",
       "  </tbody>\n",
       "</table>\n",
       "</div>"
      ],
      "text/plain": [
       "Location  Year  England  Northern Ireland  Scotland       UK  Wales\n",
       "0         2016   689100             15700     56800   780900  19400\n",
       "1         2017   697200             13800     55000   789400  23400\n",
       "2         2018   692600             17500     55600   788800  23000\n",
       "3         2019   750800             15200     49500   837500  22000\n",
       "4         2020   818800             17600     53400   915300  25500\n",
       "5         2021   909800             26200     72700  1033400  24700"
      ]
     },
     "execution_count": 558,
     "metadata": {},
     "output_type": "execute_result"
    }
   ],
   "source": [
    "males_sum_df = Sum_Males.reset_index()\n",
    "males_sum_df"
   ]
  },
  {
   "cell_type": "markdown",
   "id": "e546bd1e",
   "metadata": {},
   "source": [
    "### Total females in df format"
   ]
  },
  {
   "cell_type": "code",
   "execution_count": 559,
   "id": "ee3b9300",
   "metadata": {},
   "outputs": [],
   "source": [
    "Sum_Females_bar = Results_df.pivot_table(\n",
    "    values='Females',\n",
    "    index='Year',\n",
    "    columns=\"Location\",\n",
    "    aggfunc=np.sum\n",
    ")"
   ]
  },
  {
   "cell_type": "code",
   "execution_count": 560,
   "id": "fb38788f",
   "metadata": {},
   "outputs": [
    {
     "data": {
      "text/html": [
       "<div>\n",
       "<style scoped>\n",
       "    .dataframe tbody tr th:only-of-type {\n",
       "        vertical-align: middle;\n",
       "    }\n",
       "\n",
       "    .dataframe tbody tr th {\n",
       "        vertical-align: top;\n",
       "    }\n",
       "\n",
       "    .dataframe thead th {\n",
       "        text-align: right;\n",
       "    }\n",
       "</style>\n",
       "<table border=\"1\" class=\"dataframe\">\n",
       "  <thead>\n",
       "    <tr style=\"text-align: right;\">\n",
       "      <th>Location</th>\n",
       "      <th>Year</th>\n",
       "      <th>England</th>\n",
       "      <th>Northern Ireland</th>\n",
       "      <th>Scotland</th>\n",
       "      <th>UK</th>\n",
       "      <th>Wales</th>\n",
       "    </tr>\n",
       "  </thead>\n",
       "  <tbody>\n",
       "    <tr>\n",
       "      <th>0</th>\n",
       "      <td>2016</td>\n",
       "      <td>137200</td>\n",
       "      <td>2800</td>\n",
       "      <td>13000</td>\n",
       "      <td>157100</td>\n",
       "      <td>4200</td>\n",
       "    </tr>\n",
       "    <tr>\n",
       "      <th>1</th>\n",
       "      <td>2017</td>\n",
       "      <td>145400</td>\n",
       "      <td>2800</td>\n",
       "      <td>14900</td>\n",
       "      <td>166800</td>\n",
       "      <td>3600</td>\n",
       "    </tr>\n",
       "    <tr>\n",
       "      <th>2</th>\n",
       "      <td>2018</td>\n",
       "      <td>149600</td>\n",
       "      <td>2900</td>\n",
       "      <td>17200</td>\n",
       "      <td>173800</td>\n",
       "      <td>4100</td>\n",
       "    </tr>\n",
       "    <tr>\n",
       "      <th>3</th>\n",
       "      <td>2019</td>\n",
       "      <td>149600</td>\n",
       "      <td>2500</td>\n",
       "      <td>12600</td>\n",
       "      <td>169200</td>\n",
       "      <td>4500</td>\n",
       "    </tr>\n",
       "    <tr>\n",
       "      <th>4</th>\n",
       "      <td>2020</td>\n",
       "      <td>168900</td>\n",
       "      <td>3900</td>\n",
       "      <td>14600</td>\n",
       "      <td>191800</td>\n",
       "      <td>4400</td>\n",
       "    </tr>\n",
       "    <tr>\n",
       "      <th>5</th>\n",
       "      <td>2021</td>\n",
       "      <td>238800</td>\n",
       "      <td>5000</td>\n",
       "      <td>20000</td>\n",
       "      <td>269600</td>\n",
       "      <td>5900</td>\n",
       "    </tr>\n",
       "  </tbody>\n",
       "</table>\n",
       "</div>"
      ],
      "text/plain": [
       "Location  Year  England  Northern Ireland  Scotland      UK  Wales\n",
       "0         2016   137200              2800     13000  157100   4200\n",
       "1         2017   145400              2800     14900  166800   3600\n",
       "2         2018   149600              2900     17200  173800   4100\n",
       "3         2019   149600              2500     12600  169200   4500\n",
       "4         2020   168900              3900     14600  191800   4400\n",
       "5         2021   238800              5000     20000  269600   5900"
      ]
     },
     "execution_count": 560,
     "metadata": {},
     "output_type": "execute_result"
    }
   ],
   "source": [
    "females_sum_df = Sum_Females_bar.reset_index()\n",
    "females_sum_df\n"
   ]
  },
  {
   "cell_type": "markdown",
   "id": "fccc48d6",
   "metadata": {},
   "source": [
    "### Bar graphs for total count of males and females in tech in the UK by Year"
   ]
  },
  {
   "cell_type": "code",
   "execution_count": 573,
   "id": "735e4583",
   "metadata": {},
   "outputs": [
    {
     "data": {
      "image/png": "[encoded data removed]",
      "text/plain": [
       "<Figure size 1440x288 with 2 Axes>"
      ]
     },
     "metadata": {
      "needs_background": "light"
     },
     "output_type": "display_data"
    }
   ],
   "source": [
    "f, (ax1, ax2) = plt.subplots(1,2, figsize=(20,4))\n",
    "\n",
    "ax1.bar(x=females_sum_df.Year,\n",
    "       height=females_sum_df.UK,\n",
    "       color=\"purple\")\n",
    "\n",
    "ax2.bar(x=males_sum_df.Year,\n",
    "       height=males_sum_df.UK,\n",
    "       color=\"orange\")\n",
    "\n",
    "ax1.set_title('Total Females in technology UK')\n",
    "ax2.set_title('Total Males in technology UK')\n",
    "plt.show()"
   ]
  },
  {
   "cell_type": "code",
   "execution_count": 538,
   "id": "9ec8271c",
   "metadata": {},
   "outputs": [],
   "source": [
    "Results_df.Year = pd.to_datetime(Results_df.Year)\n",
    "#Results_df.set_index('Year', inplace=True)"
   ]
  },
  {
   "cell_type": "code",
   "execution_count": 539,
   "id": "b64302a3",
   "metadata": {},
   "outputs": [
    {
     "data": {
      "text/html": [
       "<div>\n",
       "<style scoped>\n",
       "    .dataframe tbody tr th:only-of-type {\n",
       "        vertical-align: middle;\n",
       "    }\n",
       "\n",
       "    .dataframe tbody tr th {\n",
       "        vertical-align: top;\n",
       "    }\n",
       "\n",
       "    .dataframe thead th {\n",
       "        text-align: right;\n",
       "    }\n",
       "</style>\n",
       "<table border=\"1\" class=\"dataframe\">\n",
       "  <thead>\n",
       "    <tr style=\"text-align: right;\">\n",
       "      <th></th>\n",
       "      <th>Year</th>\n",
       "      <th>Males</th>\n",
       "      <th>Females</th>\n",
       "      <th>Location</th>\n",
       "    </tr>\n",
       "  </thead>\n",
       "  <tbody>\n",
       "    <tr>\n",
       "      <th>0</th>\n",
       "      <td>2021-01-01</td>\n",
       "      <td>909800</td>\n",
       "      <td>238800</td>\n",
       "      <td>England</td>\n",
       "    </tr>\n",
       "    <tr>\n",
       "      <th>1</th>\n",
       "      <td>2020-01-01</td>\n",
       "      <td>818800</td>\n",
       "      <td>168900</td>\n",
       "      <td>England</td>\n",
       "    </tr>\n",
       "    <tr>\n",
       "      <th>2</th>\n",
       "      <td>2019-01-01</td>\n",
       "      <td>750800</td>\n",
       "      <td>149600</td>\n",
       "      <td>England</td>\n",
       "    </tr>\n",
       "    <tr>\n",
       "      <th>3</th>\n",
       "      <td>2018-01-01</td>\n",
       "      <td>692600</td>\n",
       "      <td>149600</td>\n",
       "      <td>England</td>\n",
       "    </tr>\n",
       "    <tr>\n",
       "      <th>4</th>\n",
       "      <td>2017-01-01</td>\n",
       "      <td>697200</td>\n",
       "      <td>145400</td>\n",
       "      <td>England</td>\n",
       "    </tr>\n",
       "  </tbody>\n",
       "</table>\n",
       "</div>"
      ],
      "text/plain": [
       "        Year   Males Females Location\n",
       "0 2021-01-01  909800  238800  England\n",
       "1 2020-01-01  818800  168900  England\n",
       "2 2019-01-01  750800  149600  England\n",
       "3 2018-01-01  692600  149600  England\n",
       "4 2017-01-01  697200  145400  England"
      ]
     },
     "execution_count": 539,
     "metadata": {},
     "output_type": "execute_result"
    }
   ],
   "source": [
    "Results_df.head()"
   ]
  },
  {
   "cell_type": "code",
   "execution_count": 540,
   "id": "079d680d",
   "metadata": {},
   "outputs": [
    {
     "data": {
      "text/html": [
       "<div>\n",
       "<style scoped>\n",
       "    .dataframe tbody tr th:only-of-type {\n",
       "        vertical-align: middle;\n",
       "    }\n",
       "\n",
       "    .dataframe tbody tr th {\n",
       "        vertical-align: top;\n",
       "    }\n",
       "\n",
       "    .dataframe thead th {\n",
       "        text-align: right;\n",
       "    }\n",
       "</style>\n",
       "<table border=\"1\" class=\"dataframe\">\n",
       "  <thead>\n",
       "    <tr style=\"text-align: right;\">\n",
       "      <th></th>\n",
       "      <th>Year</th>\n",
       "      <th>Males</th>\n",
       "      <th>Females</th>\n",
       "    </tr>\n",
       "  </thead>\n",
       "  <tbody>\n",
       "    <tr>\n",
       "      <th>24</th>\n",
       "      <td>2021-01-01</td>\n",
       "      <td>1033400</td>\n",
       "      <td>269600</td>\n",
       "    </tr>\n",
       "    <tr>\n",
       "      <th>25</th>\n",
       "      <td>2020-01-01</td>\n",
       "      <td>915300</td>\n",
       "      <td>191800</td>\n",
       "    </tr>\n",
       "    <tr>\n",
       "      <th>26</th>\n",
       "      <td>2019-01-01</td>\n",
       "      <td>837500</td>\n",
       "      <td>169200</td>\n",
       "    </tr>\n",
       "    <tr>\n",
       "      <th>27</th>\n",
       "      <td>2018-01-01</td>\n",
       "      <td>788800</td>\n",
       "      <td>173800</td>\n",
       "    </tr>\n",
       "    <tr>\n",
       "      <th>28</th>\n",
       "      <td>2017-01-01</td>\n",
       "      <td>789400</td>\n",
       "      <td>166800</td>\n",
       "    </tr>\n",
       "    <tr>\n",
       "      <th>29</th>\n",
       "      <td>2016-01-01</td>\n",
       "      <td>780900</td>\n",
       "      <td>157100</td>\n",
       "    </tr>\n",
       "  </tbody>\n",
       "</table>\n",
       "</div>"
      ],
      "text/plain": [
       "         Year    Males Females\n",
       "24 2021-01-01  1033400  269600\n",
       "25 2020-01-01   915300  191800\n",
       "26 2019-01-01   837500  169200\n",
       "27 2018-01-01   788800  173800\n",
       "28 2017-01-01   789400  166800\n",
       "29 2016-01-01   780900  157100"
      ]
     },
     "execution_count": 540,
     "metadata": {},
     "output_type": "execute_result"
    }
   ],
   "source": [
    "from pandas.plotting import autocorrelation_plot\n",
    "from pandas import read_csv\n",
    "\n",
    "#data = read_csv('Sex_Total_Count_All_UK.csv', header=0, parse_dates=[0], index_col=0, squeeze=True)\n",
    "data = Results_df\n",
    "\n",
    "# delete a range of rows - index values 0-24 to get UK values only\n",
    "data = data.drop(labels=range(0, 24), axis=0)\n",
    "\n",
    "#delete column Location to remove string object before training model\n",
    "data = data.drop(labels=\"Location\", axis=1)\n",
    "\n",
    "data"
   ]
  },
  {
   "cell_type": "code",
   "execution_count": 541,
   "id": "369d4ff4",
   "metadata": {},
   "outputs": [],
   "source": [
    "#divide into train and validation set\n",
    "train = data[:int(0.7*(len(data)))]\n",
    "valid = data[int(0.7*(len(data))):]"
   ]
  },
  {
   "cell_type": "code",
   "execution_count": 542,
   "id": "f95ca9cd",
   "metadata": {},
   "outputs": [
    {
     "name": "stderr",
     "output_type": "stream",
     "text": [
      "/Library/Frameworks/Python.framework/Versions/3.9/lib/python3.9/site-packages/pandas/core/frame.py:4906: SettingWithCopyWarning: \n",
      "A value is trying to be set on a copy of a slice from a DataFrame\n",
      "\n",
      "See the caveats in the documentation: https://pandas.pydata.org/pandas-docs/stable/user_guide/indexing.html#returning-a-view-versus-a-copy\n",
      "  return super().drop(\n"
     ]
    }
   ],
   "source": [
    "#preprocessing (since arima takes univariate series as input)\n",
    "train.drop('Year',axis=1,inplace=True)\n",
    "valid.drop('Year',axis=1,inplace=True)"
   ]
  },
  {
   "cell_type": "code",
   "execution_count": 545,
   "id": "0ed9154c",
   "metadata": {},
   "outputs": [
    {
     "data": {
      "text/plain": [
       "<AxesSubplot:title={'center':'Males'}>"
      ]
     },
     "execution_count": 545,
     "metadata": {},
     "output_type": "execute_result"
    },
    {
     "data": {
      "image/png": "[encoded data removed]",
      "text/plain": [
       "<Figure size 2000x400 with 2 Axes>"
      ]
     },
     "metadata": {
      "needs_background": "light"
     },
     "output_type": "display_data"
    }
   ],
   "source": [
    "fig, axes = plt.subplots(1,2, figsize=(20,4), dpi=100)\n",
    "\n",
    "#plotting the data\n",
    "train['Females'].plot(title='Females', ax=axes[0])\n",
    "valid['Females'].plot(ax=axes[0])\n",
    "\n",
    "train['Males'].plot(title='Males', ax=axes[1])\n",
    "valid['Males'].plot(ax=axes[1])"
   ]
  },
  {
   "cell_type": "code",
   "execution_count": 546,
   "id": "7e4a28b0",
   "metadata": {},
   "outputs": [
    {
     "ename": "ValueError",
     "evalue": "y should be a 1d array, got an array of shape (4, 2) instead.",
     "output_type": "error",
     "traceback": [
      "\u001b[0;31m---------------------------------------------------------------------------\u001b[0m",
      "\u001b[0;31mValueError\u001b[0m                                Traceback (most recent call last)",
      "\u001b[0;32m/var/folders/tq/v2p84x591yn9rp6nxsnfb4mw0000gn/T/ipykernel_9583/930122389.py\u001b[0m in \u001b[0;36m<module>\u001b[0;34m\u001b[0m\n\u001b[1;32m      1\u001b[0m \u001b[0;31m#building the model\u001b[0m\u001b[0;34m\u001b[0m\u001b[0;34m\u001b[0m\u001b[0m\n\u001b[1;32m      2\u001b[0m \u001b[0;32mfrom\u001b[0m \u001b[0mpmdarima\u001b[0m \u001b[0;32mimport\u001b[0m \u001b[0mauto_arima\u001b[0m\u001b[0;34m\u001b[0m\u001b[0;34m\u001b[0m\u001b[0m\n\u001b[0;32m----> 3\u001b[0;31m \u001b[0mmodel\u001b[0m \u001b[0;34m=\u001b[0m \u001b[0mauto_arima\u001b[0m\u001b[0;34m(\u001b[0m\u001b[0mtrain\u001b[0m\u001b[0;34m,\u001b[0m \u001b[0mtrace\u001b[0m\u001b[0;34m=\u001b[0m\u001b[0;32mTrue\u001b[0m\u001b[0;34m,\u001b[0m \u001b[0merror_action\u001b[0m\u001b[0;34m=\u001b[0m\u001b[0;34m'ignore'\u001b[0m\u001b[0;34m,\u001b[0m \u001b[0msuppress_warnings\u001b[0m\u001b[0;34m=\u001b[0m\u001b[0;32mTrue\u001b[0m\u001b[0;34m)\u001b[0m\u001b[0;34m\u001b[0m\u001b[0;34m\u001b[0m\u001b[0m\n\u001b[0m\u001b[1;32m      4\u001b[0m \u001b[0mmodel\u001b[0m\u001b[0;34m.\u001b[0m\u001b[0mfit\u001b[0m\u001b[0;34m(\u001b[0m\u001b[0mtrain\u001b[0m\u001b[0;34m)\u001b[0m\u001b[0;34m\u001b[0m\u001b[0;34m\u001b[0m\u001b[0m\n\u001b[1;32m      5\u001b[0m \u001b[0;34m\u001b[0m\u001b[0m\n",
      "\u001b[0;32m/Library/Frameworks/Python.framework/Versions/3.9/lib/python3.9/site-packages/pmdarima/arima/auto.py\u001b[0m in \u001b[0;36mauto_arima\u001b[0;34m(y, X, start_p, d, start_q, max_p, max_d, max_q, start_P, D, start_Q, max_P, max_D, max_Q, max_order, m, seasonal, stationary, information_criterion, alpha, test, seasonal_test, stepwise, n_jobs, start_params, trend, method, maxiter, offset_test_args, seasonal_test_args, suppress_warnings, error_action, trace, random, random_state, n_fits, return_valid_fits, out_of_sample_size, scoring, scoring_args, with_intercept, sarimax_kwargs, **fit_args)\u001b[0m\n\u001b[1;32m    436\u001b[0m \u001b[0;34m\u001b[0m\u001b[0m\n\u001b[1;32m    437\u001b[0m     \u001b[0;31m# copy array\u001b[0m\u001b[0;34m\u001b[0m\u001b[0;34m\u001b[0m\u001b[0m\n\u001b[0;32m--> 438\u001b[0;31m     \u001b[0my\u001b[0m \u001b[0;34m=\u001b[0m \u001b[0mcheck_endog\u001b[0m\u001b[0;34m(\u001b[0m\u001b[0my\u001b[0m\u001b[0;34m,\u001b[0m \u001b[0mdtype\u001b[0m\u001b[0;34m=\u001b[0m\u001b[0mDTYPE\u001b[0m\u001b[0;34m)\u001b[0m\u001b[0;34m\u001b[0m\u001b[0;34m\u001b[0m\u001b[0m\n\u001b[0m\u001b[1;32m    439\u001b[0m     \u001b[0mn_samples\u001b[0m \u001b[0;34m=\u001b[0m \u001b[0my\u001b[0m\u001b[0;34m.\u001b[0m\u001b[0mshape\u001b[0m\u001b[0;34m[\u001b[0m\u001b[0;36m0\u001b[0m\u001b[0;34m]\u001b[0m\u001b[0;34m\u001b[0m\u001b[0;34m\u001b[0m\u001b[0m\n\u001b[1;32m    440\u001b[0m \u001b[0;34m\u001b[0m\u001b[0m\n",
      "\u001b[0;32m/Library/Frameworks/Python.framework/Versions/3.9/lib/python3.9/site-packages/pmdarima/utils/array.py\u001b[0m in \u001b[0;36mcheck_endog\u001b[0;34m(y, dtype, copy, force_all_finite)\u001b[0m\n\u001b[1;32m    167\u001b[0m         \u001b[0mA\u001b[0m \u001b[0;36m1\u001b[0m\u001b[0md\u001b[0m \u001b[0mnumpy\u001b[0m \u001b[0mndarray\u001b[0m\u001b[0;34m\u001b[0m\u001b[0;34m\u001b[0m\u001b[0m\n\u001b[1;32m    168\u001b[0m     \"\"\"\n\u001b[0;32m--> 169\u001b[0;31m     return column_or_1d(\n\u001b[0m\u001b[1;32m    170\u001b[0m         check_array(y, ensure_2d=False, force_all_finite=force_all_finite,\n\u001b[1;32m    171\u001b[0m                     copy=copy, dtype=dtype))  # type: np.ndarray\n",
      "\u001b[0;32m/Library/Frameworks/Python.framework/Versions/3.9/lib/python3.9/site-packages/sklearn/utils/validation.py\u001b[0m in \u001b[0;36mcolumn_or_1d\u001b[0;34m(y, warn)\u001b[0m\n\u001b[1;32m   1022\u001b[0m         \u001b[0;32mreturn\u001b[0m \u001b[0mnp\u001b[0m\u001b[0;34m.\u001b[0m\u001b[0mravel\u001b[0m\u001b[0;34m(\u001b[0m\u001b[0my\u001b[0m\u001b[0;34m)\u001b[0m\u001b[0;34m\u001b[0m\u001b[0;34m\u001b[0m\u001b[0m\n\u001b[1;32m   1023\u001b[0m \u001b[0;34m\u001b[0m\u001b[0m\n\u001b[0;32m-> 1024\u001b[0;31m     raise ValueError(\n\u001b[0m\u001b[1;32m   1025\u001b[0m         \u001b[0;34m\"y should be a 1d array, got an array of shape {} instead.\"\u001b[0m\u001b[0;34m.\u001b[0m\u001b[0mformat\u001b[0m\u001b[0;34m(\u001b[0m\u001b[0mshape\u001b[0m\u001b[0;34m)\u001b[0m\u001b[0;34m\u001b[0m\u001b[0;34m\u001b[0m\u001b[0m\n\u001b[1;32m   1026\u001b[0m     )\n",
      "\u001b[0;31mValueError\u001b[0m: y should be a 1d array, got an array of shape (4, 2) instead."
     ]
    }
   ],
   "source": [
    "#building the model\n",
    "from pmdarima import auto_arima\n",
    "model = auto_arima(train, trace=True, error_action='ignore', suppress_warnings=True)\n",
    "model.fit(train)\n",
    "\n",
    "forecast = model.predict(n_periods=len(valid))\n",
    "forecast = pd.DataFrame(forecast,index = valid.index,columns=['Prediction'])\n",
    "\n",
    "#plot the predictions for validation set\n",
    "plt.plot(train, label='Train')\n",
    "plt.plot(valid, label='Valid')\n",
    "plt.plot(forecast, label='Prediction')\n",
    "plt.show()"
   ]
  },
  {
   "cell_type": "code",
   "execution_count": null,
   "id": "459f3a6f",
   "metadata": {},
   "outputs": [],
   "source": [
    "fig, axes = plt.subplots(1,3, figsize=(20,4), dpi=100)\n",
    "pd.read_csv('https://raw.githubusercontent.com/selva86/datasets/master/guinearice.csv', parse_dates=['date'], index_col='date').plot(title='Trend Only', legend=False, ax=axes[0])\n",
    "\n",
    "pd.read_csv('https://raw.githubusercontent.com/selva86/datasets/master/sunspotarea.csv', parse_dates=['date'], index_col='date').plot(title='Seasonality Only', legend=False, ax=axes[1])\n",
    "\n",
    "pd.read_csv('https://raw.githubusercontent.com/selva86/datasets/master/AirPassengers.csv', parse_dates=['date'], index_col='date').plot(title='Trend and Seasonality', legend=False, ax=axes[2])"
   ]
  },
  {
   "cell_type": "code",
   "execution_count": null,
   "id": "4f50cd72",
   "metadata": {},
   "outputs": [],
   "source": []
  }
 ],
 "metadata": {
  "kernelspec": {
   "display_name": "Python 3 (ipykernel)",
   "language": "python",
   "name": "python3"
  },
  "language_info": {
   "codemirror_mode": {
    "name": "ipython",
    "version": 3
   },
   "file_extension": ".py",
   "mimetype": "text/x-python",
   "name": "python",
   "nbconvert_exporter": "python",
   "pygments_lexer": "ipython3",
   "version": "3.9.7"
  }
 },
 "nbformat": 4,
 "nbformat_minor": 5
}
